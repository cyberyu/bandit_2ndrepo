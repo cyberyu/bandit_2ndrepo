{
 "cells": [
  {
   "cell_type": "code",
   "execution_count": 1,
   "metadata": {},
   "outputs": [
    {
     "name": "stdout",
     "output_type": "stream",
     "text": [
      "\n",
      "Initializing matrix A of shape (321, 30, 30) which will require 2.3112MB of memory.\n",
      "\n",
      "LinUCB successfully initialized.\n"
     ]
    }
   ],
   "source": [
    "%matplotlib inline\n",
    "import warnings\n",
    "warnings.filterwarnings('ignore')\n",
    "\n",
    "from linUCB_ver3 import LinUCB\n",
    "import numpy as np\n",
    "import matplotlib.pyplot as plt\n",
    "\n",
    "ucb = LinUCB(alpha=0.1, max_items=100, allow_selecting_known_arms=True)\n",
    "\n",
    "#ucb.remove_random_ratings(20)"
   ]
  },
  {
   "cell_type": "code",
   "execution_count": 2,
   "metadata": {},
   "outputs": [
    {
     "data": {
      "text/plain": [
       "(321, 30, 30)"
      ]
     },
     "execution_count": 2,
     "metadata": {},
     "output_type": "execute_result"
    }
   ],
   "source": [
    "ucb.A.shape"
   ]
  },
  {
   "cell_type": "code",
   "execution_count": 3,
   "metadata": {},
   "outputs": [
    {
     "name": "stdout",
     "output_type": "stream",
     "text": [
      "(321, 30)\n",
      "321\n",
      "(321, 30)\n",
      "321\n",
      "(321, 30)\n",
      "321\n",
      "(321, 30)\n",
      "321\n",
      "(321, 30)\n",
      "321\n",
      "(321, 30)\n",
      "321\n",
      "(321, 30)\n",
      "321\n",
      "(321, 30)\n",
      "321\n",
      "(321, 30)\n",
      "321\n",
      "(321, 30)\n",
      "321\n",
      "(321, 30)\n",
      "321\n",
      "(321, 30)\n",
      "321\n",
      "(321, 30)\n",
      "321\n",
      "(321, 30)\n",
      "321\n",
      "(321, 30)\n",
      "321\n",
      "(321, 30)\n",
      "321\n",
      "(321, 30)\n",
      "321\n",
      "(321, 30)\n",
      "321\n",
      "(321, 30)\n",
      "321\n",
      "(321, 30)\n",
      "321\n",
      "(321, 30)\n",
      "321\n",
      "(321, 30)\n",
      "321\n",
      "(321, 30)\n",
      "321\n",
      "(321, 30)\n",
      "321\n",
      "(321, 30)\n",
      "321\n",
      "(321, 30)\n",
      "321\n",
      "(321, 30)\n",
      "321\n",
      "(321, 30)\n",
      "321\n",
      "(321, 30)\n",
      "321\n",
      "(321, 30)\n",
      "321\n",
      "(321, 30)\n",
      "321\n",
      "(321, 30)\n",
      "321\n",
      "(321, 30)\n",
      "321\n",
      "(321, 30)\n",
      "321\n",
      "(321, 30)\n",
      "321\n",
      "(321, 30)\n",
      "321\n",
      "(321, 30)\n",
      "321\n",
      "(321, 30)\n",
      "321\n",
      "(321, 30)\n",
      "321\n",
      "(321, 30)\n",
      "321\n",
      "(321, 30)\n",
      "321\n",
      "(321, 30)\n",
      "321\n",
      "(321, 30)\n",
      "321\n",
      "(321, 30)\n",
      "321\n",
      "(321, 30)\n",
      "321\n",
      "(321, 30)\n",
      "321\n",
      "(321, 30)\n",
      "321\n",
      "(321, 30)\n",
      "321\n",
      "(321, 30)\n",
      "321\n",
      "(321, 30)\n",
      "321\n",
      "(321, 30)\n",
      "321\n",
      "(321, 30)\n",
      "321\n"
     ]
    },
    {
     "ename": "KeyboardInterrupt",
     "evalue": "",
     "output_type": "error",
     "traceback": [
      "\u001b[0;31m---------------------------------------------------------------------------\u001b[0m",
      "\u001b[0;31mKeyboardInterrupt\u001b[0m                         Traceback (most recent call last)",
      "\u001b[0;32m<ipython-input-3-02bf8c0a1627>\u001b[0m in \u001b[0;36m<module>\u001b[0;34m\u001b[0m\n\u001b[1;32m      1\u001b[0m \u001b[0;31m# recommending page to query (30 queries)\u001b[0m\u001b[0;34m\u001b[0m\u001b[0;34m\u001b[0m\u001b[0;34m\u001b[0m\u001b[0m\n\u001b[0;32m----> 2\u001b[0;31m \u001b[0mavg_reward\u001b[0m\u001b[0;34m,\u001b[0m \u001b[0mauc_scores\u001b[0m  \u001b[0;34m=\u001b[0m \u001b[0mucb\u001b[0m\u001b[0;34m.\u001b[0m\u001b[0mrun\u001b[0m\u001b[0;34m(\u001b[0m\u001b[0mnum_epochs\u001b[0m\u001b[0;34m=\u001b[0m\u001b[0;36m10\u001b[0m\u001b[0;34m)\u001b[0m\u001b[0;34m\u001b[0m\u001b[0;34m\u001b[0m\u001b[0m\n\u001b[0m",
      "\u001b[0;32m~/Documents/Project/contextual-bandits-recommender/linUCB_ver3.py\u001b[0m in \u001b[0;36mrun\u001b[0;34m(self, num_epochs, verbosity)\u001b[0m\n\u001b[1;32m    208\u001b[0m         \u001b[0mauc_scores\u001b[0m \u001b[0;34m=\u001b[0m \u001b[0mnp\u001b[0m\u001b[0;34m.\u001b[0m\u001b[0mzeros\u001b[0m\u001b[0;34m(\u001b[0m\u001b[0mshape\u001b[0m\u001b[0;34m=\u001b[0m\u001b[0;34m(\u001b[0m\u001b[0mnum_epochs\u001b[0m\u001b[0;34m,\u001b[0m\u001b[0;34m)\u001b[0m\u001b[0;34m,\u001b[0m \u001b[0mdtype\u001b[0m\u001b[0;34m=\u001b[0m\u001b[0mfloat\u001b[0m\u001b[0;34m)\u001b[0m\u001b[0;34m\u001b[0m\u001b[0;34m\u001b[0m\u001b[0m\n\u001b[1;32m    209\u001b[0m         \u001b[0;32mfor\u001b[0m \u001b[0mi\u001b[0m \u001b[0;32min\u001b[0m \u001b[0mrange\u001b[0m\u001b[0;34m(\u001b[0m\u001b[0mnum_epochs\u001b[0m\u001b[0;34m)\u001b[0m\u001b[0;34m:\u001b[0m\u001b[0;34m\u001b[0m\u001b[0;34m\u001b[0m\u001b[0m\n\u001b[0;32m--> 210\u001b[0;31m             \u001b[0mavg_rewards\u001b[0m\u001b[0;34m[\u001b[0m\u001b[0mi\u001b[0m\u001b[0;34m]\u001b[0m\u001b[0;34m,\u001b[0m \u001b[0mauc_scores\u001b[0m\u001b[0;34m[\u001b[0m\u001b[0mi\u001b[0m\u001b[0;34m]\u001b[0m\u001b[0;34m,\u001b[0m \u001b[0mtotal_time\u001b[0m \u001b[0;34m=\u001b[0m \u001b[0mself\u001b[0m\u001b[0;34m.\u001b[0m\u001b[0mrun_epoch\u001b[0m\u001b[0;34m(\u001b[0m\u001b[0mverbosity\u001b[0m\u001b[0;34m)\u001b[0m\u001b[0;34m\u001b[0m\u001b[0;34m\u001b[0m\u001b[0m\n\u001b[0m\u001b[1;32m    211\u001b[0m \u001b[0;34m\u001b[0m\u001b[0m\n\u001b[1;32m    212\u001b[0m             \u001b[0;32mif\u001b[0m \u001b[0mverbosity\u001b[0m \u001b[0;34m>=\u001b[0m \u001b[0;36m1\u001b[0m\u001b[0;34m:\u001b[0m\u001b[0;34m\u001b[0m\u001b[0;34m\u001b[0m\u001b[0m\n",
      "\u001b[0;32m~/Documents/Project/contextual-bandits-recommender/linUCB_ver3.py\u001b[0m in \u001b[0;36mrun_epoch\u001b[0;34m(self, verbosity)\u001b[0m\n\u001b[1;32m    186\u001b[0m                     \u001b[0;32mcontinue\u001b[0m\u001b[0;34m\u001b[0m\u001b[0;34m\u001b[0m\u001b[0m\n\u001b[1;32m    187\u001b[0m \u001b[0;34m\u001b[0m\u001b[0m\n\u001b[0;32m--> 188\u001b[0;31m             \u001b[0mrewards\u001b[0m\u001b[0;34m.\u001b[0m\u001b[0mappend\u001b[0m\u001b[0;34m(\u001b[0m\u001b[0mself\u001b[0m\u001b[0;34m.\u001b[0m\u001b[0mchoose_arm\u001b[0m\u001b[0;34m(\u001b[0m\u001b[0mquery_id\u001b[0m\u001b[0;34m,\u001b[0m \u001b[0munknown_page_ids\u001b[0m\u001b[0;34m,\u001b[0m \u001b[0mverbosity\u001b[0m\u001b[0;34m)\u001b[0m\u001b[0;34m)\u001b[0m\u001b[0;34m\u001b[0m\u001b[0;34m\u001b[0m\u001b[0m\n\u001b[0m\u001b[1;32m    189\u001b[0m             \u001b[0mtime_i\u001b[0m \u001b[0;34m=\u001b[0m \u001b[0mtime\u001b[0m\u001b[0;34m.\u001b[0m\u001b[0mtime\u001b[0m\u001b[0;34m(\u001b[0m\u001b[0;34m)\u001b[0m \u001b[0;34m-\u001b[0m \u001b[0mstart_time_i\u001b[0m\u001b[0;34m\u001b[0m\u001b[0;34m\u001b[0m\u001b[0m\n\u001b[1;32m    190\u001b[0m             \u001b[0;32mif\u001b[0m \u001b[0mverbosity\u001b[0m \u001b[0;34m>=\u001b[0m \u001b[0;36m2\u001b[0m\u001b[0;34m:\u001b[0m\u001b[0;34m\u001b[0m\u001b[0;34m\u001b[0m\u001b[0m\n",
      "\u001b[0;32m~/Documents/Project/contextual-bandits-recommender/linUCB_ver3.py\u001b[0m in \u001b[0;36mchoose_arm\u001b[0;34m(self, t, unknown_article_ids, verbosity)\u001b[0m\n\u001b[1;32m    100\u001b[0m         \u001b[0;32mfor\u001b[0m \u001b[0ma\u001b[0m \u001b[0;32min\u001b[0m \u001b[0mpage_ids\u001b[0m\u001b[0;34m:\u001b[0m  \u001b[0;31m# iterate over all arms, which are pages\u001b[0m\u001b[0;34m\u001b[0m\u001b[0;34m\u001b[0m\u001b[0m\n\u001b[1;32m    101\u001b[0m             \u001b[0mx_ta\u001b[0m \u001b[0;34m=\u001b[0m \u001b[0marm_features\u001b[0m\u001b[0;34m[\u001b[0m\u001b[0ma\u001b[0m\u001b[0;34m]\u001b[0m\u001b[0;34m.\u001b[0m\u001b[0mreshape\u001b[0m\u001b[0;34m(\u001b[0m\u001b[0marm_features\u001b[0m\u001b[0;34m[\u001b[0m\u001b[0ma\u001b[0m\u001b[0;34m]\u001b[0m\u001b[0;34m.\u001b[0m\u001b[0mshape\u001b[0m\u001b[0;34m[\u001b[0m\u001b[0;36m0\u001b[0m\u001b[0;34m]\u001b[0m\u001b[0;34m,\u001b[0m \u001b[0;36m1\u001b[0m\u001b[0;34m)\u001b[0m  \u001b[0;31m# make a column vector\u001b[0m\u001b[0;34m\u001b[0m\u001b[0;34m\u001b[0m\u001b[0m\n\u001b[0;32m--> 102\u001b[0;31m             \u001b[0mA_a_inv\u001b[0m \u001b[0;34m=\u001b[0m \u001b[0mnp\u001b[0m\u001b[0;34m.\u001b[0m\u001b[0mlinalg\u001b[0m\u001b[0;34m.\u001b[0m\u001b[0minv\u001b[0m\u001b[0;34m(\u001b[0m\u001b[0mA\u001b[0m\u001b[0;34m[\u001b[0m\u001b[0ma\u001b[0m\u001b[0;34m]\u001b[0m\u001b[0;34m)\u001b[0m\u001b[0;34m\u001b[0m\u001b[0;34m\u001b[0m\u001b[0m\n\u001b[0m\u001b[1;32m    103\u001b[0m             \u001b[0mtheta_a\u001b[0m \u001b[0;34m=\u001b[0m \u001b[0mA_a_inv\u001b[0m\u001b[0;34m.\u001b[0m\u001b[0mdot\u001b[0m\u001b[0;34m(\u001b[0m\u001b[0mb\u001b[0m\u001b[0;34m[\u001b[0m\u001b[0ma\u001b[0m\u001b[0;34m]\u001b[0m\u001b[0;34m)\u001b[0m\u001b[0;34m\u001b[0m\u001b[0;34m\u001b[0m\u001b[0m\n\u001b[1;32m    104\u001b[0m             \u001b[0mp_t\u001b[0m\u001b[0;34m[\u001b[0m\u001b[0ma\u001b[0m\u001b[0;34m]\u001b[0m \u001b[0;34m=\u001b[0m \u001b[0mtheta_a\u001b[0m\u001b[0;34m.\u001b[0m\u001b[0mT\u001b[0m\u001b[0;34m.\u001b[0m\u001b[0mdot\u001b[0m\u001b[0;34m(\u001b[0m\u001b[0mx_ta\u001b[0m\u001b[0;34m)\u001b[0m \u001b[0;34m+\u001b[0m \u001b[0mself\u001b[0m\u001b[0;34m.\u001b[0m\u001b[0malpha\u001b[0m \u001b[0;34m*\u001b[0m \u001b[0mnp\u001b[0m\u001b[0;34m.\u001b[0m\u001b[0msqrt\u001b[0m\u001b[0;34m(\u001b[0m\u001b[0mx_ta\u001b[0m\u001b[0;34m.\u001b[0m\u001b[0mT\u001b[0m\u001b[0;34m.\u001b[0m\u001b[0mdot\u001b[0m\u001b[0;34m(\u001b[0m\u001b[0mA_a_inv\u001b[0m\u001b[0;34m)\u001b[0m\u001b[0;34m.\u001b[0m\u001b[0mdot\u001b[0m\u001b[0;34m(\u001b[0m\u001b[0mx_ta\u001b[0m\u001b[0;34m)\u001b[0m\u001b[0;34m)\u001b[0m\u001b[0;34m\u001b[0m\u001b[0;34m\u001b[0m\u001b[0m\n",
      "\u001b[0;32m<__array_function__ internals>\u001b[0m in \u001b[0;36minv\u001b[0;34m(*args, **kwargs)\u001b[0m\n",
      "\u001b[0;32m~/anaconda3/lib/python3.6/site-packages/numpy/linalg/linalg.py\u001b[0m in \u001b[0;36minv\u001b[0;34m(a)\u001b[0m\n\u001b[1;32m    545\u001b[0m     \u001b[0msignature\u001b[0m \u001b[0;34m=\u001b[0m \u001b[0;34m'D->D'\u001b[0m \u001b[0;32mif\u001b[0m \u001b[0misComplexType\u001b[0m\u001b[0;34m(\u001b[0m\u001b[0mt\u001b[0m\u001b[0;34m)\u001b[0m \u001b[0;32melse\u001b[0m \u001b[0;34m'd->d'\u001b[0m\u001b[0;34m\u001b[0m\u001b[0;34m\u001b[0m\u001b[0m\n\u001b[1;32m    546\u001b[0m     \u001b[0mextobj\u001b[0m \u001b[0;34m=\u001b[0m \u001b[0mget_linalg_error_extobj\u001b[0m\u001b[0;34m(\u001b[0m\u001b[0m_raise_linalgerror_singular\u001b[0m\u001b[0;34m)\u001b[0m\u001b[0;34m\u001b[0m\u001b[0;34m\u001b[0m\u001b[0m\n\u001b[0;32m--> 547\u001b[0;31m     \u001b[0mainv\u001b[0m \u001b[0;34m=\u001b[0m \u001b[0m_umath_linalg\u001b[0m\u001b[0;34m.\u001b[0m\u001b[0minv\u001b[0m\u001b[0;34m(\u001b[0m\u001b[0ma\u001b[0m\u001b[0;34m,\u001b[0m \u001b[0msignature\u001b[0m\u001b[0;34m=\u001b[0m\u001b[0msignature\u001b[0m\u001b[0;34m,\u001b[0m \u001b[0mextobj\u001b[0m\u001b[0;34m=\u001b[0m\u001b[0mextobj\u001b[0m\u001b[0;34m)\u001b[0m\u001b[0;34m\u001b[0m\u001b[0;34m\u001b[0m\u001b[0m\n\u001b[0m\u001b[1;32m    548\u001b[0m     \u001b[0;32mreturn\u001b[0m \u001b[0mwrap\u001b[0m\u001b[0;34m(\u001b[0m\u001b[0mainv\u001b[0m\u001b[0;34m.\u001b[0m\u001b[0mastype\u001b[0m\u001b[0;34m(\u001b[0m\u001b[0mresult_t\u001b[0m\u001b[0;34m,\u001b[0m \u001b[0mcopy\u001b[0m\u001b[0;34m=\u001b[0m\u001b[0;32mFalse\u001b[0m\u001b[0;34m)\u001b[0m\u001b[0;34m)\u001b[0m\u001b[0;34m\u001b[0m\u001b[0;34m\u001b[0m\u001b[0m\n\u001b[1;32m    549\u001b[0m \u001b[0;34m\u001b[0m\u001b[0m\n",
      "\u001b[0;31mKeyboardInterrupt\u001b[0m: "
     ]
    }
   ],
   "source": [
    "# recommending page to query (30 queries)\n",
    "avg_reward, auc_scores  = ucb.run(num_epochs=10)"
   ]
  },
  {
   "cell_type": "code",
   "execution_count": 4,
   "metadata": {},
   "outputs": [
    {
     "data": {
      "text/plain": [
       "<matplotlib.legend.Legend at 0x10e1725c0>"
      ]
     },
     "execution_count": 4,
     "metadata": {},
     "output_type": "execute_result"
    },
    {
     "data": {
      "image/png": "[encoded data removed]",
      "text/plain": [
       "<Figure size 504x360 with 1 Axes>"
      ]
     },
     "metadata": {
      "needs_background": "light"
     },
     "output_type": "display_data"
    }
   ],
   "source": [
    "from matplotlib.pylab import rcParams\n",
    "rcParams['figure.figsize'] = 7, 5\n",
    "plt.plot(range(len(avg_reward)), avg_reward, label='avg rewards')\n",
    "plt.plot(range(len(avg_reward)), auc_scores, label='auc score')\n",
    "plt.ylabel('average reward in epoch')\n",
    "plt.ylim(0, 1)\n",
    "plt.xlabel('epoch (1 epoch = recommended to all queries)')\n",
    "plt.title('LinUCB: Fixed rewards')\n",
    "plt.legend()"
   ]
  },
  {
   "cell_type": "code",
   "execution_count": 5,
   "metadata": {},
   "outputs": [],
   "source": [
    "def make_prediction():\n",
    "    A = ucb.A\n",
    "    b = ucb.b          \n",
    "\n",
    "\n",
    "    query_ids = range(ucb.num_queries)\n",
    "    page_ids = range(ucb.num_articles)\n",
    "\n",
    "\n",
    "    allscores=np.zeros((ucb.num_queries,ucb.num_articles))            \n",
    "\n",
    "    for j in page_ids:\n",
    "        for i in query_ids:\n",
    "            # get the arm features given page id, and a query embeddings\n",
    "            # though here I all queries are insample, I still use this out-of-sample arm function so it \n",
    "            # can be applied on held-out query data sets for validation in the future\n",
    "            arm_features = ucb.get_featuers_of_new_query_oos(i,j)\n",
    "\n",
    "            x_ta = arm_features.reshape(-1, 1)  # make a column vector\n",
    "\n",
    "            A_a_inv = np.linalg.inv(A[j])\n",
    "            theta_a = A_a_inv.dot(b[j])\n",
    "            score_a = theta_a.T.dot(x_ta)\n",
    "            allscores[i,j]=score_a  \n",
    "\n",
    "\n",
    "    p_i = []\n",
    "    for i in query_ids:\n",
    "        #p_i.append(np.argmax(allscores[i,:]))\n",
    "        p_i.append(allscores[i,:].argsort()[::-1][:5])\n",
    "\n",
    "    return p_i\n",
    "\n",
    "p_i = make_prediction()"
   ]
  },
  {
   "cell_type": "code",
   "execution_count": 9,
   "metadata": {},
   "outputs": [
    {
     "data": {
      "text/plain": [
       "296"
      ]
     },
     "execution_count": 9,
     "metadata": {},
     "output_type": "execute_result"
    }
   ],
   "source": [
    "len(ratings)"
   ]
  },
  {
   "cell_type": "code",
   "execution_count": 8,
   "metadata": {},
   "outputs": [
    {
     "name": "stdout",
     "output_type": "stream",
     "text": [
      "16\n"
     ]
    }
   ],
   "source": [
    "import pickle\n",
    "\n",
    "ratings = pickle.load(open('./data/sample_by_question_questions_article_ratings.pkl','rb'))\n",
    "\n",
    "acc = 0\n",
    "for loop in range(len(p_i)):\n",
    "    if ratings[loop][1] in p_i[loop]:\n",
    "        acc+=1\n",
    "        \n",
    "print(acc)\n",
    "    "
   ]
  },
  {
   "cell_type": "code",
   "execution_count": 29,
   "metadata": {},
   "outputs": [
    {
     "data": {
      "text/plain": [
       "[(0, 2),\n",
       " (1, 3),\n",
       " (2, 5),\n",
       " (3, 8),\n",
       " (4, 11),\n",
       " (5, 13),\n",
       " (6, 6),\n",
       " (7, 13),\n",
       " (8, 13),\n",
       " (9, 17),\n",
       " (10, 14),\n",
       " (11, 19),\n",
       " (12, 23),\n",
       " (13, 8),\n",
       " (14, 25),\n",
       " (15, 25),\n",
       " (16, 25),\n",
       " (17, 25),\n",
       " (18, 29),\n",
       " (19, 31),\n",
       " (20, 34),\n",
       " (21, 37),\n",
       " (22, 34),\n",
       " (23, 38),\n",
       " (24, 39),\n",
       " (25, 42),\n",
       " (26, 44),\n",
       " (27, 45),\n",
       " (28, 47),\n",
       " (29, 48),\n",
       " (30, 48),\n",
       " (31, 52),\n",
       " (32, 53),\n",
       " (33, 53),\n",
       " (34, 54),\n",
       " (35, 42),\n",
       " (36, 58),\n",
       " (37, 60),\n",
       " (38, 63),\n",
       " (39, 65),\n",
       " (40, 62),\n",
       " (41, 21),\n",
       " (42, 67),\n",
       " (43, 13),\n",
       " (44, 69),\n",
       " (45, 70),\n",
       " (46, 68),\n",
       " (47, 21),\n",
       " (48, 71),\n",
       " (49, 62),\n",
       " (50, 16),\n",
       " (51, 72),\n",
       " (52, 73),\n",
       " (53, 62),\n",
       " (54, 19),\n",
       " (55, 21),\n",
       " (56, 78),\n",
       " (57, 79),\n",
       " (58, 81),\n",
       " (59, 76),\n",
       " (60, 85),\n",
       " (61, 2),\n",
       " (62, 85),\n",
       " (63, 88),\n",
       " (64, 79),\n",
       " (65, 91),\n",
       " (66, 92),\n",
       " (67, 93),\n",
       " (68, 94),\n",
       " (69, 96),\n",
       " (70, 97),\n",
       " (71, 98),\n",
       " (72, 97),\n",
       " (73, 100),\n",
       " (74, 99),\n",
       " (75, 104),\n",
       " (76, 94),\n",
       " (77, 97),\n",
       " (78, 110),\n",
       " (79, 113),\n",
       " (80, 114),\n",
       " (81, 116),\n",
       " (82, 116),\n",
       " (83, 117),\n",
       " (84, 117),\n",
       " (85, 120),\n",
       " (86, 110),\n",
       " (87, 116),\n",
       " (88, 117),\n",
       " (89, 117),\n",
       " (90, 124),\n",
       " (91, 125),\n",
       " (92, 124),\n",
       " (93, 129),\n",
       " (94, 124),\n",
       " (95, 125),\n",
       " (96, 124),\n",
       " (97, 131),\n",
       " (98, 131),\n",
       " (99, 124),\n",
       " (100, 134),\n",
       " (101, 138),\n",
       " (102, 140),\n",
       " (103, 141),\n",
       " (104, 142),\n",
       " (105, 142),\n",
       " (106, 135),\n",
       " (107, 141),\n",
       " (108, 135),\n",
       " (109, 140),\n",
       " (110, 142),\n",
       " (111, 146),\n",
       " (112, 146),\n",
       " (113, 151),\n",
       " (114, 149),\n",
       " (115, 150),\n",
       " (116, 156),\n",
       " (117, 158),\n",
       " (118, 159),\n",
       " (119, 161),\n",
       " (120, 6),\n",
       " (121, 6),\n",
       " (122, 6),\n",
       " (123, 146),\n",
       " (124, 6),\n",
       " (125, 6),\n",
       " (126, 6),\n",
       " (127, 160),\n",
       " (128, 6),\n",
       " (129, 6),\n",
       " (130, 174),\n",
       " (131, 175),\n",
       " (132, 159),\n",
       " (133, 176),\n",
       " (134, 177),\n",
       " (135, 159),\n",
       " (136, 159),\n",
       " (137, 180),\n",
       " (138, 173),\n",
       " (139, 183),\n",
       " (140, 171),\n",
       " (141, 185),\n",
       " (142, 175),\n",
       " (143, 184),\n",
       " (144, 173),\n",
       " (145, 187),\n",
       " (146, 188),\n",
       " (147, 109),\n",
       " (148, 191),\n",
       " (149, 116),\n",
       " (150, 161),\n",
       " (151, 194),\n",
       " (152, 120),\n",
       " (153, 116),\n",
       " (154, 103),\n",
       " (155, 196),\n",
       " (156, 194),\n",
       " (157, 194),\n",
       " (158, 194),\n",
       " (159, 103),\n",
       " (160, 202),\n",
       " (161, 204),\n",
       " (162, 204),\n",
       " (163, 207),\n",
       " (164, 24),\n",
       " (165, 24),\n",
       " (166, 209),\n",
       " (167, 204),\n",
       " (168, 211),\n",
       " (169, 24),\n",
       " (170, 190),\n",
       " (171, 193),\n",
       " (172, 213),\n",
       " (173, 216),\n",
       " (174, 36),\n",
       " (175, 220),\n",
       " (176, 224),\n",
       " (177, 36),\n",
       " (178, 28),\n",
       " (179, 224),\n",
       " (180, 36),\n",
       " (181, 36),\n",
       " (182, 227),\n",
       " (183, 230),\n",
       " (184, 234),\n",
       " (185, 231),\n",
       " (186, 232),\n",
       " (187, 232),\n",
       " (188, 240),\n",
       " (189, 227),\n",
       " (190, 241),\n",
       " (191, 242),\n",
       " (192, 244),\n",
       " (193, 244),\n",
       " (194, 243),\n",
       " (195, 243),\n",
       " (196, 243),\n",
       " (197, 245),\n",
       " (198, 241),\n",
       " (199, 243),\n",
       " (200, 241),\n",
       " (201, 244),\n",
       " (202, 130),\n",
       " (203, 241),\n",
       " (204, 175),\n",
       " (205, 249),\n",
       " (206, 249),\n",
       " (207, 162),\n",
       " (208, 254),\n",
       " (209, 255),\n",
       " (210, 162),\n",
       " (211, 162),\n",
       " (212, 250),\n",
       " (213, 249),\n",
       " (214, 162),\n",
       " (215, 252),\n",
       " (216, 162),\n",
       " (217, 114),\n",
       " (218, 130),\n",
       " (219, 28),\n",
       " (220, 259),\n",
       " (221, 261),\n",
       " (222, 262),\n",
       " (223, 261),\n",
       " (224, 264),\n",
       " (225, 265),\n",
       " (226, 113),\n",
       " (227, 267),\n",
       " (228, 163),\n",
       " (229, 269),\n",
       " (230, 265),\n",
       " (231, 193),\n",
       " (232, 265),\n",
       " (233, 271),\n",
       " (234, 272),\n",
       " (235, 265),\n",
       " (236, 1),\n",
       " (237, 28),\n",
       " (238, 66),\n",
       " (239, 278),\n",
       " (240, 96),\n",
       " (241, 277),\n",
       " (242, 276),\n",
       " (243, 8),\n",
       " (244, 24),\n",
       " (245, 277),\n",
       " (246, 62),\n",
       " (247, 15),\n",
       " (248, 281),\n",
       " (249, 23),\n",
       " (250, 23),\n",
       " (251, 282),\n",
       " (252, 286),\n",
       " (253, 130),\n",
       " (254, 288),\n",
       " (255, 52),\n",
       " (256, 289),\n",
       " (257, 79),\n",
       " (258, 214),\n",
       " (259, 292),\n",
       " (260, 116),\n",
       " (261, 293),\n",
       " (262, 294),\n",
       " (263, 119),\n",
       " (264, 295),\n",
       " (265, 75),\n",
       " (266, 227),\n",
       " (267, 287),\n",
       " (268, 75),\n",
       " (269, 299),\n",
       " (270, 301),\n",
       " (271, 159),\n",
       " (272, 159),\n",
       " (273, 121),\n",
       " (274, 303),\n",
       " (275, 159),\n",
       " (276, 305),\n",
       " (277, 301),\n",
       " (278, 301),\n",
       " (279, 159),\n",
       " (280, 307),\n",
       " (281, 308),\n",
       " (282, 309),\n",
       " (283, 268),\n",
       " (284, 70),\n",
       " (285, 313),\n",
       " (286, 313),\n",
       " (287, 310),\n",
       " (288, 310),\n",
       " (289, 193),\n",
       " (290, 312),\n",
       " (291, 193),\n",
       " (292, 317),\n",
       " (293, 193),\n",
       " (294, 110),\n",
       " (295, 103)]"
      ]
     },
     "execution_count": 29,
     "metadata": {},
     "output_type": "execute_result"
    }
   ],
   "source": [
    "ratings = pickle.load(open('./data/sample_by_question_questions_article_ratings.pkl','rb'))\n",
    "ratings"
   ]
  },
  {
   "cell_type": "code",
   "execution_count": 12,
   "metadata": {},
   "outputs": [
    {
     "data": {
      "text/plain": [
       "array([ 1,  2,  3,  4,  5,  6,  7,  8, 10, 14, 15, 16, 17, 19, 20, 21, 22,\n",
       "       23, 25, 26, 27, 28, 29, 30, 31, 32, 33, 34, 35, 36, 37, 38, 39, 40,\n",
       "       41, 42, 43, 44, 45, 46, 47, 48, 50, 51, 52, 53, 54, 55, 56, 57, 58,\n",
       "       59, 60, 61, 62, 63, 64, 65, 66, 67, 68, 69, 70, 71, 72, 73, 74, 75,\n",
       "       76, 77, 79, 80, 81, 83, 84, 85, 86, 87, 88, 89, 90, 91, 92, 93, 94,\n",
       "       95, 96, 97, 98])"
      ]
     },
     "execution_count": 12,
     "metadata": {},
     "output_type": "execute_result"
    }
   ],
   "source": [
    "ucb.dataset.get_uknown_items_of_user(1)"
   ]
  },
  {
   "cell_type": "code",
   "execution_count": 13,
   "metadata": {},
   "outputs": [
    {
     "data": {
      "text/plain": [
       "array([[[ 1.,  0.,  0., ...,  0.,  0.,  0.],\n",
       "        [ 0.,  1.,  0., ...,  0.,  0.,  0.],\n",
       "        [ 0.,  0.,  1., ...,  0.,  0.,  0.],\n",
       "        ...,\n",
       "        [ 0.,  0.,  0., ...,  1.,  0.,  0.],\n",
       "        [ 0.,  0.,  0., ...,  0.,  1.,  0.],\n",
       "        [ 0.,  0.,  0., ...,  0.,  0.,  1.]],\n",
       "\n",
       "       [[ 1.,  0.,  0., ...,  0.,  0.,  0.],\n",
       "        [ 0.,  2.,  0., ..., -1.,  0.,  0.],\n",
       "        [ 0.,  0.,  1., ...,  0.,  0.,  0.],\n",
       "        ...,\n",
       "        [ 0., -1.,  0., ...,  2.,  0.,  0.],\n",
       "        [ 0.,  0.,  0., ...,  0.,  1.,  0.],\n",
       "        [ 0.,  0.,  0., ...,  0.,  0.,  1.]],\n",
       "\n",
       "       [[ 1.,  0.,  0., ...,  0.,  0.,  0.],\n",
       "        [ 0.,  1.,  0., ...,  0.,  0.,  0.],\n",
       "        [ 0.,  0.,  1., ...,  0.,  0.,  0.],\n",
       "        ...,\n",
       "        [ 0.,  0.,  0., ...,  1.,  0.,  0.],\n",
       "        [ 0.,  0.,  0., ...,  0.,  1.,  0.],\n",
       "        [ 0.,  0.,  0., ...,  0.,  0.,  1.]],\n",
       "\n",
       "       ...,\n",
       "\n",
       "       [[ 1.,  0.,  0., ...,  0.,  0.,  0.],\n",
       "        [ 0.,  1.,  0., ...,  0.,  0.,  0.],\n",
       "        [ 0.,  0.,  1., ...,  0.,  0.,  0.],\n",
       "        ...,\n",
       "        [ 0.,  0.,  0., ...,  1.,  0.,  0.],\n",
       "        [ 0.,  0.,  0., ...,  0.,  1.,  0.],\n",
       "        [ 0.,  0.,  0., ...,  0.,  0.,  1.]],\n",
       "\n",
       "       [[ 1.,  0.,  0., ...,  0.,  0.,  0.],\n",
       "        [ 0.,  1.,  0., ...,  0.,  0.,  0.],\n",
       "        [ 0.,  0.,  1., ...,  0.,  0.,  0.],\n",
       "        ...,\n",
       "        [ 0.,  0.,  0., ...,  1.,  0.,  0.],\n",
       "        [ 0.,  0.,  0., ...,  0.,  1.,  0.],\n",
       "        [ 0.,  0.,  0., ...,  0.,  0.,  1.]],\n",
       "\n",
       "       [[12.,  1.,  1., ...,  3.,  0.,  0.],\n",
       "        [ 1.,  5.,  0., ..., -4.,  0.,  0.],\n",
       "        [ 1.,  0.,  4., ..., -1.,  0.,  0.],\n",
       "        ...,\n",
       "        [ 3., -4., -1., ..., 31.,  0.,  0.],\n",
       "        [ 0.,  0.,  0., ...,  0.,  1.,  0.],\n",
       "        [ 0.,  0.,  0., ...,  0.,  0.,  1.]]])"
      ]
     },
     "execution_count": 13,
     "metadata": {},
     "output_type": "execute_result"
    }
   ],
   "source": [
    "ucb.A"
   ]
  },
  {
   "cell_type": "code",
   "execution_count": 3,
   "metadata": {},
   "outputs": [],
   "source": []
  },
  {
   "cell_type": "code",
   "execution_count": 4,
   "metadata": {},
   "outputs": [
    {
     "data": {
      "text/plain": [
       "array([[ 0.,  1.,  1., ...,  0.,  0.,  0.],\n",
       "       [ 1.,  0.,  1., ...,  1.,  0.,  0.],\n",
       "       [ 2.,  1.,  1., ...,  1.,  0.,  0.],\n",
       "       ...,\n",
       "       [97.,  1.,  1., ...,  1.,  0.,  0.],\n",
       "       [98.,  0.,  1., ...,  0.,  0.,  0.],\n",
       "       [99.,  1.,  1., ...,  1.,  0.,  0.]])"
      ]
     },
     "execution_count": 4,
     "metadata": {},
     "output_type": "execute_result"
    }
   ],
   "source": [
    "dataarray"
   ]
  },
  {
   "cell_type": "code",
   "execution_count": 3,
   "metadata": {},
   "outputs": [],
   "source": [
    "import pickle\n",
    "from sklearn.decomposition import PCA\n",
    "\n",
    "url_features = pickle.load(open('data/infowave_allintents_title.pkl','rb'))\n",
    "all_features = np.concatenate([v for k,v in url_features.items()], 0)\n",
    "pca = PCA(n_components=5)\n",
    "pca.fit_transform(all_features)\n",
    "X_pca = pca.transform(all_features)\n"
   ]
  },
  {
   "cell_type": "code",
   "execution_count": 13,
   "metadata": {},
   "outputs": [
    {
     "data": {
      "text/plain": [
       "(5,)"
      ]
     },
     "execution_count": 13,
     "metadata": {},
     "output_type": "execute_result"
    }
   ],
   "source": [
    "X_pca[1].transpose().shape"
   ]
  },
  {
   "cell_type": "code",
   "execution_count": 14,
   "metadata": {},
   "outputs": [
    {
     "data": {
      "text/plain": [
       "(25, 768)"
      ]
     },
     "execution_count": 14,
     "metadata": {},
     "output_type": "execute_result"
    }
   ],
   "source": [
    "np.concatenate([v for k,v in url_features.items()], 0).shape\n"
   ]
  },
  {
   "cell_type": "code",
   "execution_count": 8,
   "metadata": {},
   "outputs": [
    {
     "ename": "AttributeError",
     "evalue": "'dict_values' object has no attribute 'shape'",
     "output_type": "error",
     "traceback": [
      "\u001b[0;31m---------------------------------------------------------------------------\u001b[0m",
      "\u001b[0;31mAttributeError\u001b[0m                            Traceback (most recent call last)",
      "\u001b[0;32m<ipython-input-8-6fc0f94d5f0e>\u001b[0m in \u001b[0;36m<module>\u001b[0;34m\u001b[0m\n\u001b[0;32m----> 1\u001b[0;31m \u001b[0murl_features\u001b[0m\u001b[0;34m.\u001b[0m\u001b[0mvalues\u001b[0m\u001b[0;34m(\u001b[0m\u001b[0;34m)\u001b[0m\u001b[0;34m.\u001b[0m\u001b[0mshape\u001b[0m\u001b[0;34m\u001b[0m\u001b[0;34m\u001b[0m\u001b[0m\n\u001b[0m",
      "\u001b[0;31mAttributeError\u001b[0m: 'dict_values' object has no attribute 'shape'"
     ]
    }
   ],
   "source": [
    "url_features.values().shape"
   ]
  },
  {
   "cell_type": "code",
   "execution_count": 4,
   "metadata": {},
   "outputs": [],
   "source": [
    "import pickle\n"
   ]
  },
  {
   "cell_type": "code",
   "execution_count": 11,
   "metadata": {},
   "outputs": [
    {
     "data": {
      "text/plain": [
       "(1, 768)"
      ]
     },
     "execution_count": 11,
     "metadata": {},
     "output_type": "execute_result"
    }
   ],
   "source": [
    "a = question_features['3 Rollovers, 1 was Roth but went into a pretax account. How to fix?']\n",
    "a.shape"
   ]
  },
  {
   "cell_type": "code",
   "execution_count": 2,
   "metadata": {},
   "outputs": [],
   "source": [
    "\n",
    "\n"
   ]
  },
  {
   "cell_type": "code",
   "execution_count": 3,
   "metadata": {},
   "outputs": [],
   "source": [
    "\n",
    "        "
   ]
  },
  {
   "cell_type": "code",
   "execution_count": 4,
   "metadata": {},
   "outputs": [
    {
     "data": {
      "text/plain": [
       "{0: 0,\n",
       " 1: 1,\n",
       " 2: 2,\n",
       " 3: 3,\n",
       " 4: 4,\n",
       " 5: 5,\n",
       " 6: 6,\n",
       " 7: 7,\n",
       " 8: 8,\n",
       " 9: 9,\n",
       " 10: 10,\n",
       " 11: 11,\n",
       " 12: 12,\n",
       " 13: 13,\n",
       " 14: 14,\n",
       " 15: 15,\n",
       " 16: 16,\n",
       " 17: 17,\n",
       " 18: 18,\n",
       " 19: 19,\n",
       " 20: 20,\n",
       " 21: 21,\n",
       " 22: 22,\n",
       " 23: 23,\n",
       " 24: 24,\n",
       " 25: 25,\n",
       " 26: 26,\n",
       " 27: 27,\n",
       " 28: 28,\n",
       " 29: 29,\n",
       " 30: 30,\n",
       " 31: 31,\n",
       " 32: 32,\n",
       " 33: 33,\n",
       " 34: 34,\n",
       " 35: 35,\n",
       " 36: 36,\n",
       " 37: 37,\n",
       " 38: 38,\n",
       " 39: 39,\n",
       " 40: 40,\n",
       " 41: 41,\n",
       " 42: 42,\n",
       " 43: 43,\n",
       " 44: 44,\n",
       " 45: 45,\n",
       " 46: 46,\n",
       " 47: 47,\n",
       " 48: 48,\n",
       " 49: 49,\n",
       " 50: 50,\n",
       " 51: 51,\n",
       " 52: 52,\n",
       " 53: 53,\n",
       " 54: 54,\n",
       " 55: 55,\n",
       " 57: 56,\n",
       " 62: 57,\n",
       " 65: 58,\n",
       " 68: 59,\n",
       " 71: 60,\n",
       " 72: 61,\n",
       " 78: 62,\n",
       " 79: 63,\n",
       " 126: 64,\n",
       " 129: 65,\n",
       " 132: 66,\n",
       " 135: 67,\n",
       " 137: 68,\n",
       " 142: 69,\n",
       " 143: 70,\n",
       " 145: 71,\n",
       " 150: 72,\n",
       " 152: 73,\n",
       " 153: 74,\n",
       " 159: 75,\n",
       " 160: 76,\n",
       " 162: 77,\n",
       " 190: 78,\n",
       " 192: 79,\n",
       " 197: 80,\n",
       " 328: 81,\n",
       " 408: 82,\n",
       " 409: 83,\n",
       " 410: 84,\n",
       " 412: 85,\n",
       " 413: 86,\n",
       " 414: 87,\n",
       " 417: 88,\n",
       " 418: 89,\n",
       " 420: 90,\n",
       " 422: 91,\n",
       " 423: 92,\n",
       " 426: 93,\n",
       " 427: 94,\n",
       " 428: 95,\n",
       " 435: 96,\n",
       " 437: 97,\n",
       " 440: 98,\n",
       " 441: 99,\n",
       " 443: 100,\n",
       " 541: 101,\n",
       " 549: 102,\n",
       " 551: 103,\n",
       " 552: 104,\n",
       " 553: 105,\n",
       " 554: 106,\n",
       " 560: 107,\n",
       " 563: 108,\n",
       " 564: 109,\n",
       " 566: 110,\n",
       " 569: 111,\n",
       " 570: 112,\n",
       " 571: 113,\n",
       " 574: 114,\n",
       " 576: 115,\n",
       " 582: 116,\n",
       " 601: 117,\n",
       " 602: 118,\n",
       " 604: 119,\n",
       " 661: 120,\n",
       " 697: 121,\n",
       " 746: 122,\n",
       " 752: 123,\n",
       " 770: 124,\n",
       " 792: 125,\n",
       " 798: 126,\n",
       " 800: 127,\n",
       " 801: 128,\n",
       " 802: 129,\n",
       " 805: 130,\n",
       " 806: 131,\n",
       " 812: 132,\n",
       " 814: 133,\n",
       " 823: 134,\n",
       " 825: 135,\n",
       " 826: 136,\n",
       " 828: 137,\n",
       " 829: 138,\n",
       " 830: 139,\n",
       " 831: 140,\n",
       " 833: 141,\n",
       " 841: 142,\n",
       " 844: 143,\n",
       " 854: 144,\n",
       " 856: 145,\n",
       " 861: 146,\n",
       " 898: 147}"
      ]
     },
     "execution_count": 4,
     "metadata": {},
     "output_type": "execute_result"
    }
   ],
   "source": [
    "dict_q_mapping"
   ]
  },
  {
   "cell_type": "code",
   "execution_count": null,
   "metadata": {},
   "outputs": [],
   "source": []
  }
 ],
 "metadata": {
  "kernelspec": {
   "display_name": "Python 3",
   "language": "python",
   "name": "python3"
  },
  "language_info": {
   "codemirror_mode": {
    "name": "ipython",
    "version": 3
   },
   "file_extension": ".py",
   "mimetype": "text/x-python",
   "name": "python",
   "nbconvert_exporter": "python",
   "pygments_lexer": "ipython3",
   "version": "3.6.9"
  }
 },
 "nbformat": 4,
 "nbformat_minor": 4
}
