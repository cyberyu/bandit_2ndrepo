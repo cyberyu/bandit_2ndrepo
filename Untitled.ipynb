{
 "cells": [
  {
   "cell_type": "code",
   "execution_count": 1,
   "metadata": {},
   "outputs": [
    {
     "name": "stdout",
     "output_type": "stream",
     "text": [
      "\n",
      "Initializing matrix A of shape (50, 990, 990) which will require 392.04MB of memory.\n",
      "\n",
      "LinUCB successfully initialized.\n"
     ]
    }
   ],
   "source": [
    "%matplotlib inline\n",
    "\n",
    "from movielens import MovieLens\n",
    "from linUCB import LinUCB\n",
    "import numpy as np\n",
    "import matplotlib.pyplot as plt\n",
    "\n",
    "ucb = LinUCB(alpha=0.1, max_items=100, allow_selecting_known_arms=True)\n",
    "\n",
    "ucb.remove_random_ratings(10)"
   ]
  },
  {
   "cell_type": "code",
   "execution_count": 2,
   "metadata": {},
   "outputs": [
    {
     "name": "stdout",
     "output_type": "stream",
     "text": [
      "Finished epoch 0/50 with avg reward 0.18, auc score 0.5680812500310569 in 108.05341100692749s\n",
      "Finished epoch 1/50 with avg reward 0.28, auc score 0.5944803049050152 in 107.01636981964111s\n",
      "Finished epoch 2/50 with avg reward 0.34, auc score 0.5200234707956716 in 105.9241578578949s\n"
     ]
    },
    {
     "ename": "KeyboardInterrupt",
     "evalue": "",
     "output_type": "error",
     "traceback": [
      "\u001b[0;31m---------------------------------------------------------------------------\u001b[0m",
      "\u001b[0;31mKeyboardInterrupt\u001b[0m                         Traceback (most recent call last)",
      "\u001b[0;32m<ipython-input-2-a23b7a15ff2c>\u001b[0m in \u001b[0;36m<module>\u001b[0;34m\u001b[0m\n\u001b[0;32m----> 1\u001b[0;31m \u001b[0mavg_reward\u001b[0m\u001b[0;34m,\u001b[0m \u001b[0mauc_scores\u001b[0m\u001b[0;34m,\u001b[0m \u001b[0mtotal_time\u001b[0m  \u001b[0;34m=\u001b[0m \u001b[0mucb\u001b[0m\u001b[0;34m.\u001b[0m\u001b[0mrun\u001b[0m\u001b[0;34m(\u001b[0m\u001b[0mnum_epochs\u001b[0m\u001b[0;34m=\u001b[0m\u001b[0;36m50\u001b[0m\u001b[0;34m)\u001b[0m\u001b[0;34m\u001b[0m\u001b[0;34m\u001b[0m\u001b[0m\n\u001b[0m",
      "\u001b[0;32m~/Documents/Project/contextual-bandits-recommender/linUCB.py\u001b[0m in \u001b[0;36mrun\u001b[0;34m(self, num_epochs, verbosity)\u001b[0m\n\u001b[1;32m    164\u001b[0m         \u001b[0mauc_scores\u001b[0m \u001b[0;34m=\u001b[0m \u001b[0mnp\u001b[0m\u001b[0;34m.\u001b[0m\u001b[0mzeros\u001b[0m\u001b[0;34m(\u001b[0m\u001b[0mshape\u001b[0m\u001b[0;34m=\u001b[0m\u001b[0;34m(\u001b[0m\u001b[0mnum_epochs\u001b[0m\u001b[0;34m,\u001b[0m\u001b[0;34m)\u001b[0m\u001b[0;34m,\u001b[0m \u001b[0mdtype\u001b[0m\u001b[0;34m=\u001b[0m\u001b[0mfloat\u001b[0m\u001b[0;34m)\u001b[0m\u001b[0;34m\u001b[0m\u001b[0;34m\u001b[0m\u001b[0m\n\u001b[1;32m    165\u001b[0m         \u001b[0;32mfor\u001b[0m \u001b[0mi\u001b[0m \u001b[0;32min\u001b[0m \u001b[0mrange\u001b[0m\u001b[0;34m(\u001b[0m\u001b[0mnum_epochs\u001b[0m\u001b[0;34m)\u001b[0m\u001b[0;34m:\u001b[0m\u001b[0;34m\u001b[0m\u001b[0;34m\u001b[0m\u001b[0m\n\u001b[0;32m--> 166\u001b[0;31m             \u001b[0mavg_rewards\u001b[0m\u001b[0;34m[\u001b[0m\u001b[0mi\u001b[0m\u001b[0;34m]\u001b[0m\u001b[0;34m,\u001b[0m \u001b[0mauc_scores\u001b[0m\u001b[0;34m[\u001b[0m\u001b[0mi\u001b[0m\u001b[0;34m]\u001b[0m\u001b[0;34m,\u001b[0m \u001b[0mtotal_time\u001b[0m \u001b[0;34m=\u001b[0m \u001b[0mself\u001b[0m\u001b[0;34m.\u001b[0m\u001b[0mrun_epoch\u001b[0m\u001b[0;34m(\u001b[0m\u001b[0mverbosity\u001b[0m\u001b[0;34m)\u001b[0m\u001b[0;34m\u001b[0m\u001b[0;34m\u001b[0m\u001b[0m\n\u001b[0m\u001b[1;32m    167\u001b[0m \u001b[0;34m\u001b[0m\u001b[0m\n\u001b[1;32m    168\u001b[0m             \u001b[0;32mif\u001b[0m \u001b[0mverbosity\u001b[0m \u001b[0;34m>=\u001b[0m \u001b[0;36m1\u001b[0m\u001b[0;34m:\u001b[0m\u001b[0;34m\u001b[0m\u001b[0;34m\u001b[0m\u001b[0m\n",
      "\u001b[0;32m~/Documents/Project/contextual-bandits-recommender/linUCB.py\u001b[0m in \u001b[0;36mrun_epoch\u001b[0;34m(self, verbosity)\u001b[0m\n\u001b[1;32m    150\u001b[0m         \u001b[0mtotal_time\u001b[0m \u001b[0;34m=\u001b[0m \u001b[0mtime\u001b[0m\u001b[0;34m.\u001b[0m\u001b[0mtime\u001b[0m\u001b[0;34m(\u001b[0m\u001b[0;34m)\u001b[0m \u001b[0;34m-\u001b[0m \u001b[0mstart_time\u001b[0m\u001b[0;34m\u001b[0m\u001b[0;34m\u001b[0m\u001b[0m\n\u001b[1;32m    151\u001b[0m         \u001b[0mavg_reward\u001b[0m \u001b[0;34m=\u001b[0m \u001b[0mnp\u001b[0m\u001b[0;34m.\u001b[0m\u001b[0maverage\u001b[0m\u001b[0;34m(\u001b[0m\u001b[0mnp\u001b[0m\u001b[0;34m.\u001b[0m\u001b[0marray\u001b[0m\u001b[0;34m(\u001b[0m\u001b[0mrewards\u001b[0m\u001b[0;34m)\u001b[0m\u001b[0;34m)\u001b[0m\u001b[0;34m\u001b[0m\u001b[0;34m\u001b[0m\u001b[0m\n\u001b[0;32m--> 152\u001b[0;31m         \u001b[0mauc_score\u001b[0m \u001b[0;34m=\u001b[0m \u001b[0mself\u001b[0m\u001b[0;34m.\u001b[0m\u001b[0mcalculate_auc\u001b[0m\u001b[0;34m(\u001b[0m\u001b[0;34m)\u001b[0m\u001b[0;34m\u001b[0m\u001b[0;34m\u001b[0m\u001b[0m\n\u001b[0m\u001b[1;32m    153\u001b[0m \u001b[0;34m\u001b[0m\u001b[0m\n\u001b[1;32m    154\u001b[0m         \u001b[0;32mreturn\u001b[0m \u001b[0mavg_reward\u001b[0m\u001b[0;34m,\u001b[0m \u001b[0mauc_score\u001b[0m\u001b[0;34m,\u001b[0m \u001b[0mtotal_time\u001b[0m\u001b[0;34m\u001b[0m\u001b[0;34m\u001b[0m\u001b[0m\n",
      "\u001b[0;32m~/Documents/Project/contextual-bandits-recommender/linUCB.py\u001b[0m in \u001b[0;36mcalculate_auc\u001b[0;34m(self)\u001b[0m\n\u001b[1;32m    372\u001b[0m                 \u001b[0mx_ta\u001b[0m \u001b[0;34m=\u001b[0m \u001b[0marm_features\u001b[0m\u001b[0;34m.\u001b[0m\u001b[0mreshape\u001b[0m\u001b[0;34m(\u001b[0m\u001b[0;34m-\u001b[0m\u001b[0;36m1\u001b[0m\u001b[0;34m,\u001b[0m \u001b[0;36m1\u001b[0m\u001b[0;34m)\u001b[0m  \u001b[0;31m# make a column vector\u001b[0m\u001b[0;34m\u001b[0m\u001b[0;34m\u001b[0m\u001b[0m\n\u001b[1;32m    373\u001b[0m \u001b[0;34m\u001b[0m\u001b[0m\n\u001b[0;32m--> 374\u001b[0;31m                 \u001b[0mA_a_inv\u001b[0m \u001b[0;34m=\u001b[0m \u001b[0mnp\u001b[0m\u001b[0;34m.\u001b[0m\u001b[0mlinalg\u001b[0m\u001b[0;34m.\u001b[0m\u001b[0minv\u001b[0m\u001b[0;34m(\u001b[0m\u001b[0mA\u001b[0m\u001b[0;34m[\u001b[0m\u001b[0mj\u001b[0m\u001b[0;34m]\u001b[0m\u001b[0;34m)\u001b[0m\u001b[0;34m\u001b[0m\u001b[0;34m\u001b[0m\u001b[0m\n\u001b[0m\u001b[1;32m    375\u001b[0m                 \u001b[0mtheta_a\u001b[0m \u001b[0;34m=\u001b[0m \u001b[0mA_a_inv\u001b[0m\u001b[0;34m.\u001b[0m\u001b[0mdot\u001b[0m\u001b[0;34m(\u001b[0m\u001b[0mb\u001b[0m\u001b[0;34m[\u001b[0m\u001b[0mj\u001b[0m\u001b[0;34m]\u001b[0m\u001b[0;34m)\u001b[0m\u001b[0;34m\u001b[0m\u001b[0;34m\u001b[0m\u001b[0m\n\u001b[1;32m    376\u001b[0m                 \u001b[0mscore_a\u001b[0m \u001b[0;34m=\u001b[0m \u001b[0mtheta_a\u001b[0m\u001b[0;34m.\u001b[0m\u001b[0mT\u001b[0m\u001b[0;34m.\u001b[0m\u001b[0mdot\u001b[0m\u001b[0;34m(\u001b[0m\u001b[0mx_ta\u001b[0m\u001b[0;34m)\u001b[0m\u001b[0;34m\u001b[0m\u001b[0;34m\u001b[0m\u001b[0m\n",
      "\u001b[0;32m<__array_function__ internals>\u001b[0m in \u001b[0;36minv\u001b[0;34m(*args, **kwargs)\u001b[0m\n",
      "\u001b[0;32m~/anaconda3/lib/python3.6/site-packages/numpy/linalg/linalg.py\u001b[0m in \u001b[0;36minv\u001b[0;34m(a)\u001b[0m\n\u001b[1;32m    545\u001b[0m     \u001b[0msignature\u001b[0m \u001b[0;34m=\u001b[0m \u001b[0;34m'D->D'\u001b[0m \u001b[0;32mif\u001b[0m \u001b[0misComplexType\u001b[0m\u001b[0;34m(\u001b[0m\u001b[0mt\u001b[0m\u001b[0;34m)\u001b[0m \u001b[0;32melse\u001b[0m \u001b[0;34m'd->d'\u001b[0m\u001b[0;34m\u001b[0m\u001b[0;34m\u001b[0m\u001b[0m\n\u001b[1;32m    546\u001b[0m     \u001b[0mextobj\u001b[0m \u001b[0;34m=\u001b[0m \u001b[0mget_linalg_error_extobj\u001b[0m\u001b[0;34m(\u001b[0m\u001b[0m_raise_linalgerror_singular\u001b[0m\u001b[0;34m)\u001b[0m\u001b[0;34m\u001b[0m\u001b[0;34m\u001b[0m\u001b[0m\n\u001b[0;32m--> 547\u001b[0;31m     \u001b[0mainv\u001b[0m \u001b[0;34m=\u001b[0m \u001b[0m_umath_linalg\u001b[0m\u001b[0;34m.\u001b[0m\u001b[0minv\u001b[0m\u001b[0;34m(\u001b[0m\u001b[0ma\u001b[0m\u001b[0;34m,\u001b[0m \u001b[0msignature\u001b[0m\u001b[0;34m=\u001b[0m\u001b[0msignature\u001b[0m\u001b[0;34m,\u001b[0m \u001b[0mextobj\u001b[0m\u001b[0;34m=\u001b[0m\u001b[0mextobj\u001b[0m\u001b[0;34m)\u001b[0m\u001b[0;34m\u001b[0m\u001b[0;34m\u001b[0m\u001b[0m\n\u001b[0m\u001b[1;32m    548\u001b[0m     \u001b[0;32mreturn\u001b[0m \u001b[0mwrap\u001b[0m\u001b[0;34m(\u001b[0m\u001b[0mainv\u001b[0m\u001b[0;34m.\u001b[0m\u001b[0mastype\u001b[0m\u001b[0;34m(\u001b[0m\u001b[0mresult_t\u001b[0m\u001b[0;34m,\u001b[0m \u001b[0mcopy\u001b[0m\u001b[0;34m=\u001b[0m\u001b[0;32mFalse\u001b[0m\u001b[0;34m)\u001b[0m\u001b[0;34m)\u001b[0m\u001b[0;34m\u001b[0m\u001b[0;34m\u001b[0m\u001b[0m\n\u001b[1;32m    549\u001b[0m \u001b[0;34m\u001b[0m\u001b[0m\n",
      "\u001b[0;31mKeyboardInterrupt\u001b[0m: "
     ]
    }
   ],
   "source": [
    "avg_reward, auc_scores, total_time  = ucb.run(num_epochs=50)"
   ]
  },
  {
   "cell_type": "code",
   "execution_count": 6,
   "metadata": {},
   "outputs": [
    {
     "data": {
      "text/plain": [
       "Text(0.5, 1.0, 'LinUCB: Fixed rewards')"
      ]
     },
     "execution_count": 6,
     "metadata": {},
     "output_type": "execute_result"
    },
    {
     "data": {
      "image/png": "[encoded data removed]",
      "text/plain": [
       "<Figure size 504x360 with 1 Axes>"
      ]
     },
     "metadata": {
      "needs_background": "light"
     },
     "output_type": "display_data"
    }
   ],
   "source": [
    "from matplotlib.pylab import rcParams\n",
    "rcParams['figure.figsize'] = 7, 5\n",
    "plt.plot(range(len(avg_reward)), avg_reward, label='acc rewards')\n",
    "plt.plot(range(len(avg_reward)), auc_scores, label='auc score')\n",
    "plt.ylabel('average reward in epoch')\n",
    "plt.ylim(0.2, 1)\n",
    "plt.xlabel('epoch (1 epoch = recommended to all queries)')\n",
    "plt.title('LinUCB: Fixed rewards')"
   ]
  },
  {
   "cell_type": "code",
   "execution_count": 12,
   "metadata": {},
   "outputs": [
    {
     "data": {
      "text/plain": [
       "array([ 1,  2,  3,  4,  5,  6,  7,  8, 10, 14, 15, 16, 17, 19, 20, 21, 22,\n",
       "       23, 25, 26, 27, 28, 29, 30, 31, 32, 33, 34, 35, 36, 37, 38, 39, 40,\n",
       "       41, 42, 43, 44, 45, 46, 47, 48, 50, 51, 52, 53, 54, 55, 56, 57, 58,\n",
       "       59, 60, 61, 62, 63, 64, 65, 66, 67, 68, 69, 70, 71, 72, 73, 74, 75,\n",
       "       76, 77, 79, 80, 81, 83, 84, 85, 86, 87, 88, 89, 90, 91, 92, 93, 94,\n",
       "       95, 96, 97, 98])"
      ]
     },
     "execution_count": 12,
     "metadata": {},
     "output_type": "execute_result"
    }
   ],
   "source": [
    "ucb.dataset.get_uknown_items_of_user(1)"
   ]
  },
  {
   "cell_type": "code",
   "execution_count": 13,
   "metadata": {},
   "outputs": [
    {
     "data": {
      "text/plain": [
       "array([[[ 1.,  0.,  0., ...,  0.,  0.,  0.],\n",
       "        [ 0.,  1.,  0., ...,  0.,  0.,  0.],\n",
       "        [ 0.,  0.,  1., ...,  0.,  0.,  0.],\n",
       "        ...,\n",
       "        [ 0.,  0.,  0., ...,  1.,  0.,  0.],\n",
       "        [ 0.,  0.,  0., ...,  0.,  1.,  0.],\n",
       "        [ 0.,  0.,  0., ...,  0.,  0.,  1.]],\n",
       "\n",
       "       [[ 1.,  0.,  0., ...,  0.,  0.,  0.],\n",
       "        [ 0.,  2.,  0., ..., -1.,  0.,  0.],\n",
       "        [ 0.,  0.,  1., ...,  0.,  0.,  0.],\n",
       "        ...,\n",
       "        [ 0., -1.,  0., ...,  2.,  0.,  0.],\n",
       "        [ 0.,  0.,  0., ...,  0.,  1.,  0.],\n",
       "        [ 0.,  0.,  0., ...,  0.,  0.,  1.]],\n",
       "\n",
       "       [[ 1.,  0.,  0., ...,  0.,  0.,  0.],\n",
       "        [ 0.,  1.,  0., ...,  0.,  0.,  0.],\n",
       "        [ 0.,  0.,  1., ...,  0.,  0.,  0.],\n",
       "        ...,\n",
       "        [ 0.,  0.,  0., ...,  1.,  0.,  0.],\n",
       "        [ 0.,  0.,  0., ...,  0.,  1.,  0.],\n",
       "        [ 0.,  0.,  0., ...,  0.,  0.,  1.]],\n",
       "\n",
       "       ...,\n",
       "\n",
       "       [[ 1.,  0.,  0., ...,  0.,  0.,  0.],\n",
       "        [ 0.,  1.,  0., ...,  0.,  0.,  0.],\n",
       "        [ 0.,  0.,  1., ...,  0.,  0.,  0.],\n",
       "        ...,\n",
       "        [ 0.,  0.,  0., ...,  1.,  0.,  0.],\n",
       "        [ 0.,  0.,  0., ...,  0.,  1.,  0.],\n",
       "        [ 0.,  0.,  0., ...,  0.,  0.,  1.]],\n",
       "\n",
       "       [[ 1.,  0.,  0., ...,  0.,  0.,  0.],\n",
       "        [ 0.,  1.,  0., ...,  0.,  0.,  0.],\n",
       "        [ 0.,  0.,  1., ...,  0.,  0.,  0.],\n",
       "        ...,\n",
       "        [ 0.,  0.,  0., ...,  1.,  0.,  0.],\n",
       "        [ 0.,  0.,  0., ...,  0.,  1.,  0.],\n",
       "        [ 0.,  0.,  0., ...,  0.,  0.,  1.]],\n",
       "\n",
       "       [[12.,  1.,  1., ...,  3.,  0.,  0.],\n",
       "        [ 1.,  5.,  0., ..., -4.,  0.,  0.],\n",
       "        [ 1.,  0.,  4., ..., -1.,  0.,  0.],\n",
       "        ...,\n",
       "        [ 3., -4., -1., ..., 31.,  0.,  0.],\n",
       "        [ 0.,  0.,  0., ...,  0.,  1.,  0.],\n",
       "        [ 0.,  0.,  0., ...,  0.,  0.,  1.]]])"
      ]
     },
     "execution_count": 13,
     "metadata": {},
     "output_type": "execute_result"
    }
   ],
   "source": [
    "ucb.A"
   ]
  },
  {
   "cell_type": "code",
   "execution_count": 3,
   "metadata": {},
   "outputs": [],
   "source": []
  },
  {
   "cell_type": "code",
   "execution_count": 4,
   "metadata": {},
   "outputs": [
    {
     "data": {
      "text/plain": [
       "array([[ 0.,  1.,  1., ...,  0.,  0.,  0.],\n",
       "       [ 1.,  0.,  1., ...,  1.,  0.,  0.],\n",
       "       [ 2.,  1.,  1., ...,  1.,  0.,  0.],\n",
       "       ...,\n",
       "       [97.,  1.,  1., ...,  1.,  0.,  0.],\n",
       "       [98.,  0.,  1., ...,  0.,  0.,  0.],\n",
       "       [99.,  1.,  1., ...,  1.,  0.,  0.]])"
      ]
     },
     "execution_count": 4,
     "metadata": {},
     "output_type": "execute_result"
    }
   ],
   "source": [
    "dataarray"
   ]
  },
  {
   "cell_type": "code",
   "execution_count": 17,
   "metadata": {},
   "outputs": [
    {
     "name": "stdout",
     "output_type": "stream",
     "text": [
      "[-0.04802414 -0.01838442  0.01458927 -0.00367106 -0.02371749]\n"
     ]
    }
   ],
   "source": [
    "import pickle\n",
    "from sklearn.decomposition import PCA\n",
    "\n",
    "url_features = pickle.load(open('data/infowave_25_1stintent_title.pkl','rb'))\n",
    "all_features = np.concatenate([v for k,v in url_features.items()], 0)\n",
    "pca = PCA(n_components=5)\n",
    "pca.fit_transform(all_features)\n",
    "print(pca.components_[:,0])"
   ]
  },
  {
   "cell_type": "code",
   "execution_count": 14,
   "metadata": {},
   "outputs": [
    {
     "data": {
      "text/plain": [
       "(25, 768)"
      ]
     },
     "execution_count": 14,
     "metadata": {},
     "output_type": "execute_result"
    }
   ],
   "source": [
    "np.concatenate([v for k,v in url_features.items()], 0).shape\n"
   ]
  },
  {
   "cell_type": "code",
   "execution_count": 8,
   "metadata": {},
   "outputs": [
    {
     "ename": "AttributeError",
     "evalue": "'dict_values' object has no attribute 'shape'",
     "output_type": "error",
     "traceback": [
      "\u001b[0;31m---------------------------------------------------------------------------\u001b[0m",
      "\u001b[0;31mAttributeError\u001b[0m                            Traceback (most recent call last)",
      "\u001b[0;32m<ipython-input-8-6fc0f94d5f0e>\u001b[0m in \u001b[0;36m<module>\u001b[0;34m\u001b[0m\n\u001b[0;32m----> 1\u001b[0;31m \u001b[0murl_features\u001b[0m\u001b[0;34m.\u001b[0m\u001b[0mvalues\u001b[0m\u001b[0;34m(\u001b[0m\u001b[0;34m)\u001b[0m\u001b[0;34m.\u001b[0m\u001b[0mshape\u001b[0m\u001b[0;34m\u001b[0m\u001b[0;34m\u001b[0m\u001b[0m\n\u001b[0m",
      "\u001b[0;31mAttributeError\u001b[0m: 'dict_values' object has no attribute 'shape'"
     ]
    }
   ],
   "source": [
    "url_features.values().shape"
   ]
  },
  {
   "cell_type": "code",
   "execution_count": 4,
   "metadata": {},
   "outputs": [],
   "source": [
    "import pickle\n"
   ]
  },
  {
   "cell_type": "code",
   "execution_count": 11,
   "metadata": {},
   "outputs": [
    {
     "data": {
      "text/plain": [
       "(1, 768)"
      ]
     },
     "execution_count": 11,
     "metadata": {},
     "output_type": "execute_result"
    }
   ],
   "source": [
    "a = question_features['3 Rollovers, 1 was Roth but went into a pretax account. How to fix?']\n",
    "a.shape"
   ]
  },
  {
   "cell_type": "code",
   "execution_count": 8,
   "metadata": {},
   "outputs": [],
   "source": [
    "import pickle\n",
    "\n",
    "association_mat = pickle.load(open('data/all_question_article_ratings.pkl','rb'))\n",
    "\n",
    "question_id = pickle.load(open('data/all_questions_dict.pkl','rb'))\n",
    "question_features = pickle.load(open('data/all_questions_title.pkl','rb'))\n",
    "\n"
   ]
  },
  {
   "cell_type": "code",
   "execution_count": 9,
   "metadata": {},
   "outputs": [],
   "source": [
    "# sample the data, only keep the page < 100\n",
    "sample_threhold = 50\n",
    "\n",
    "ratings=[]\n",
    "dict_question={}\n",
    "dict_question_embed={}\n",
    "\n",
    "dict_q_mapping={}\n",
    "dict_url={}\n",
    "dict_title={}\n",
    "\n",
    "\n",
    "\n",
    "\n",
    "for x,y in association_mat:\n",
    "    if (y<sample_threhold):\n",
    "        ratings.append((x,y))\n",
    "        \n",
    "        #print(x,y)\n",
    "        \n",
    "all_q_ids = [x for (x,y) in ratings]\n",
    "all_i_ids = [y for (x,y) in ratings]\n",
    "\n",
    "icount = 0\n",
    "\n",
    "for k,v in question_id.items():\n",
    "    if (v in all_q_ids) and (k in question_features):\n",
    "        \n",
    "        dict_question[k]=v\n",
    "        dict_question_embed[k]=question_features[k]\n",
    "        if v not in dict_q_mapping:\n",
    "            dict_q_mapping[v]=icount\n",
    "            icount+=1\n",
    "            \n",
    "\n",
    "new_ratings=[]\n",
    "\n",
    "for x,y in ratings:\n",
    "    new_ratings.append((dict_q_mapping[x],y))\n",
    "    \n",
    "ratings = new_ratings\n",
    "\n",
    "dict_question={}\n",
    "dict_question_embed={}\n",
    "\n",
    "for k,v in question_id.items():\n",
    "    if (v in all_q_ids) and (k in question_features):\n",
    "        \n",
    "        dict_question[k]=dict_q_mapping[v]\n",
    "        dict_question_embed[k]=question_features[k]\n",
    "            \n",
    "pickle.dump(ratings,open('data/sample_questions_article_ratings.pkl','wb'))\n",
    "pickle.dump(dict_question,open('data/sample_questions_dict.pkl','wb'))\n",
    "pickle.dump(dict_question_embed,open('data/sample_questions_title.pkl','wb'))\n",
    "\n",
    "        "
   ]
  },
  {
   "cell_type": "code",
   "execution_count": 10,
   "metadata": {},
   "outputs": [
    {
     "data": {
      "text/plain": [
       "{0: 0,\n",
       " 1: 1,\n",
       " 2: 2,\n",
       " 3: 3,\n",
       " 4: 4,\n",
       " 5: 5,\n",
       " 6: 6,\n",
       " 7: 7,\n",
       " 8: 8,\n",
       " 9: 9,\n",
       " 10: 10,\n",
       " 11: 11,\n",
       " 12: 12,\n",
       " 13: 13,\n",
       " 14: 14,\n",
       " 15: 15,\n",
       " 16: 16,\n",
       " 17: 17,\n",
       " 18: 18,\n",
       " 19: 19,\n",
       " 20: 20,\n",
       " 21: 21,\n",
       " 22: 22,\n",
       " 23: 23,\n",
       " 24: 24,\n",
       " 25: 25,\n",
       " 26: 26,\n",
       " 27: 27,\n",
       " 28: 28,\n",
       " 29: 29,\n",
       " 30: 30,\n",
       " 31: 31,\n",
       " 32: 32,\n",
       " 33: 33,\n",
       " 34: 34,\n",
       " 35: 35,\n",
       " 36: 36,\n",
       " 37: 37,\n",
       " 38: 38,\n",
       " 39: 39,\n",
       " 40: 40,\n",
       " 41: 41,\n",
       " 42: 42,\n",
       " 43: 43,\n",
       " 44: 44,\n",
       " 45: 45,\n",
       " 46: 46,\n",
       " 47: 47,\n",
       " 48: 48,\n",
       " 49: 49,\n",
       " 50: 50,\n",
       " 51: 51,\n",
       " 52: 52,\n",
       " 53: 53,\n",
       " 54: 54,\n",
       " 55: 55,\n",
       " 56: 56,\n",
       " 57: 57,\n",
       " 58: 58,\n",
       " 59: 59,\n",
       " 60: 60,\n",
       " 61: 61,\n",
       " 62: 62,\n",
       " 63: 63,\n",
       " 64: 64,\n",
       " 65: 65,\n",
       " 67: 66,\n",
       " 68: 67,\n",
       " 69: 68,\n",
       " 70: 69,\n",
       " 71: 70,\n",
       " 72: 71,\n",
       " 73: 72,\n",
       " 74: 73,\n",
       " 75: 74,\n",
       " 76: 75,\n",
       " 77: 76,\n",
       " 78: 77,\n",
       " 79: 78,\n",
       " 80: 79,\n",
       " 81: 80,\n",
       " 82: 81,\n",
       " 83: 82,\n",
       " 84: 83,\n",
       " 85: 84,\n",
       " 86: 85,\n",
       " 87: 86,\n",
       " 88: 87,\n",
       " 89: 88,\n",
       " 90: 89,\n",
       " 91: 90,\n",
       " 92: 91,\n",
       " 93: 92,\n",
       " 94: 93,\n",
       " 95: 94,\n",
       " 96: 95,\n",
       " 97: 96,\n",
       " 98: 97,\n",
       " 105: 98,\n",
       " 106: 99,\n",
       " 107: 100,\n",
       " 110: 101,\n",
       " 111: 102,\n",
       " 113: 103,\n",
       " 115: 104,\n",
       " 116: 105,\n",
       " 117: 106,\n",
       " 118: 107,\n",
       " 126: 108,\n",
       " 129: 109,\n",
       " 132: 110,\n",
       " 135: 111,\n",
       " 137: 112,\n",
       " 142: 113,\n",
       " 143: 114,\n",
       " 145: 115,\n",
       " 150: 116,\n",
       " 152: 117,\n",
       " 153: 118,\n",
       " 159: 119,\n",
       " 160: 120,\n",
       " 162: 121,\n",
       " 188: 122,\n",
       " 190: 123,\n",
       " 192: 124,\n",
       " 197: 125,\n",
       " 209: 126,\n",
       " 239: 127,\n",
       " 328: 128,\n",
       " 350: 129,\n",
       " 408: 130,\n",
       " 409: 131,\n",
       " 410: 132,\n",
       " 412: 133,\n",
       " 413: 134,\n",
       " 414: 135,\n",
       " 417: 136,\n",
       " 418: 137,\n",
       " 420: 138,\n",
       " 422: 139,\n",
       " 423: 140,\n",
       " 426: 141,\n",
       " 427: 142,\n",
       " 428: 143,\n",
       " 435: 144,\n",
       " 437: 145,\n",
       " 440: 146,\n",
       " 441: 147,\n",
       " 443: 148,\n",
       " 507: 149,\n",
       " 517: 150,\n",
       " 523: 151,\n",
       " 541: 152,\n",
       " 549: 153,\n",
       " 551: 154,\n",
       " 552: 155,\n",
       " 553: 156,\n",
       " 554: 157,\n",
       " 560: 158,\n",
       " 563: 159,\n",
       " 564: 160,\n",
       " 566: 161,\n",
       " 569: 162,\n",
       " 570: 163,\n",
       " 571: 164,\n",
       " 574: 165,\n",
       " 576: 166,\n",
       " 582: 167,\n",
       " 583: 168,\n",
       " 584: 169,\n",
       " 585: 170,\n",
       " 588: 171,\n",
       " 592: 172,\n",
       " 597: 173,\n",
       " 600: 174,\n",
       " 601: 175,\n",
       " 602: 176,\n",
       " 603: 177,\n",
       " 604: 178,\n",
       " 606: 179,\n",
       " 607: 180,\n",
       " 608: 181,\n",
       " 610: 182,\n",
       " 612: 183,\n",
       " 613: 184,\n",
       " 614: 185,\n",
       " 615: 186,\n",
       " 616: 187,\n",
       " 661: 188,\n",
       " 697: 189,\n",
       " 746: 190,\n",
       " 752: 191,\n",
       " 770: 192,\n",
       " 792: 193,\n",
       " 798: 194,\n",
       " 800: 195,\n",
       " 801: 196,\n",
       " 802: 197,\n",
       " 805: 198,\n",
       " 806: 199,\n",
       " 812: 200,\n",
       " 814: 201,\n",
       " 823: 202,\n",
       " 825: 203,\n",
       " 826: 204,\n",
       " 828: 205,\n",
       " 829: 206,\n",
       " 830: 207,\n",
       " 831: 208,\n",
       " 832: 209,\n",
       " 833: 210,\n",
       " 834: 211,\n",
       " 839: 212,\n",
       " 840: 213,\n",
       " 841: 214,\n",
       " 844: 215,\n",
       " 854: 216,\n",
       " 856: 217,\n",
       " 861: 218,\n",
       " 869: 219,\n",
       " 892: 220,\n",
       " 898: 221}"
      ]
     },
     "execution_count": 10,
     "metadata": {},
     "output_type": "execute_result"
    }
   ],
   "source": [
    "dict_q_mapping"
   ]
  },
  {
   "cell_type": "code",
   "execution_count": null,
   "metadata": {},
   "outputs": [],
   "source": []
  }
 ],
 "metadata": {
  "kernelspec": {
   "display_name": "Python 3",
   "language": "python",
   "name": "python3"
  },
  "language_info": {
   "codemirror_mode": {
    "name": "ipython",
    "version": 3
   },
   "file_extension": ".py",
   "mimetype": "text/x-python",
   "name": "python",
   "nbconvert_exporter": "python",
   "pygments_lexer": "ipython3",
   "version": "3.6.9"
  }
 },
 "nbformat": 4,
 "nbformat_minor": 4
}
