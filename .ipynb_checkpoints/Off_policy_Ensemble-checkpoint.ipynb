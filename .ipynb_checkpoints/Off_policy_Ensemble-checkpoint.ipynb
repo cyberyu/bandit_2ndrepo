{
 "cells": [
  {
   "cell_type": "markdown",
   "metadata": {},
   "source": [
    "# Off-policy Ensemble"
   ]
  },
  {
   "cell_type": "code",
   "execution_count": 266,
   "metadata": {},
   "outputs": [],
   "source": [
    "#load infowave data\n",
    "import pickle, random \n",
    "import numpy as np\n",
    "\n",
    "y_sparse = pickle.load(open('all_question_article_ratings.pkl','rb'))\n",
    "y = np.zeros((996,321))\n",
    "\n",
    "for i,j in y_sparse:\n",
    "    y[i,j] = 1\n",
    "    \n",
    "X = pickle.load(open('question_tfidf_bow.pickle','rb'))   \n",
    "X = X.todense()\n",
    "\n"
   ]
  },
  {
   "cell_type": "code",
   "execution_count": 338,
   "metadata": {},
   "outputs": [],
   "source": [
    "from sklearn.linear_model import LogisticRegression\n",
    "K_learners = 50"
   ]
  },
  {
   "cell_type": "code",
   "execution_count": 339,
   "metadata": {},
   "outputs": [],
   "source": [
    "st_seed = 0\n",
    "end_seed = 300\n",
    "\n",
    "st_exploration = 0\n",
    "end_exploration = 800\n",
    "\n",
    "st_test = 800\n",
    "end_test = 996\n",
    "\n",
    "explore_list = random.sample(range(996),end_exploration) \n",
    "seed_list = random.sample(explore_list,end_seed)\n",
    "test_list = np.setdiff1d(range(996), explore_list)\n",
    "\n",
    "# rearrange the data \n",
    "\n",
    "X =np.vstack((X[explore_list,:], X[test_list,:]))\n",
    "y= np.vstack((y[explore_list,:], y[test_list,:]))"
   ]
  },
  {
   "cell_type": "code",
   "execution_count": 340,
   "metadata": {},
   "outputs": [],
   "source": [
    "Xseed = X[st_seed:end_seed, :]\n",
    "Xexplore_sample = X[st_exploration:end_exploration, :]\n",
    "yexplore_sample = y[st_exploration:end_exploration, :]\n",
    "Xtest = X[st_test:end_test, :]\n",
    "ytest = y[st_test:end_test, :]\n",
    "nchoices = y.shape[1]\n",
    "\n",
    "actions_ensemble = np.zeros([K_learners, end_exploration-st_exploration], dtype=int)\n",
    "rewards_ensemble = np.zeros([K_learners, end_exploration-st_exploration])\n",
    "prob_actions_ensemble = np.zeros([K_learners, end_exploration-st_exploration])\n",
    "\n",
    "\n",
    "# Xseed=X[seed_list,:]\n",
    "# Xexplore_sample=X[explore_list,:]\n",
    "# Xtest=X[test_list,:]\n",
    "# nchoices=y.shape[1]\n",
    "\n",
    "# actions_ensemble = np.zeros([K_learners, len(explore_list)], dtype=int)\n",
    "# rewards_ensemble = np.zeros([K_learners, len(explore_list)])\n",
    "# prob_actions_ensemble = np.zeros([K_learners, len(explore_list)])\n"
   ]
  },
  {
   "cell_type": "code",
   "execution_count": 341,
   "metadata": {},
   "outputs": [],
   "source": [
    "for k in range(K_learners):\n",
    "    sample_index = np.random.randint(st_seed, end_seed, size=3000)\n",
    "    Xseed_sample = Xseed[sample_index, :]\n",
    "    \n",
    "    explorer = LogisticRegression(solver=\"lbfgs\", max_iter=1500, multi_class='auto')\n",
    "    explorer.fit(Xseed_sample, np.argmax(y[sample_index], axis=1))\n",
    "    \n",
    "    actions_ensemble[k] = explorer.predict(Xexplore_sample)\n",
    "    rewards_ensemble[k] = y[st_exploration:end_exploration, :]\\\n",
    "                        [np.arange(end_exploration - st_exploration), actions_ensemble[k]]\n",
    "\n",
    "    ix_internal_actions = {j:i for i,j in enumerate(explorer.classes_)}\n",
    "    ix_internal_actions = [ix_internal_actions[i] for i in actions_ensemble[k]]\n",
    "\n",
    "    ix_internal_actions = np.array(ix_internal_actions)\n",
    "    prob_actions_ensemble[k] = explorer.predict_proba(Xexplore_sample)[np.arange(Xexplore_sample.shape[0]),\n",
    "                                                               ix_internal_actions]\n"
   ]
  },
  {
   "cell_type": "code",
   "execution_count": 342,
   "metadata": {},
   "outputs": [],
   "source": [
    "from contextualbandits.offpolicy import OffsetTree\n",
    "from sklearn.linear_model import LogisticRegression"
   ]
  },
  {
   "cell_type": "code",
   "execution_count": 343,
   "metadata": {},
   "outputs": [],
   "source": [
    "reward_ensemble = np.empty([K_learners, ])"
   ]
  },
  {
   "cell_type": "code",
   "execution_count": 344,
   "metadata": {},
   "outputs": [
    {
     "name": "stderr",
     "output_type": "stream",
     "text": [
      "/usr/local/anaconda/lib/python3.6/site-packages/contextualbandits/utils.py:133: UserWarning: 'defmatrix' will be cast to array.\n",
      "  warnings.warn(\"'defmatrix' will be cast to array.\")\n",
      "/usr/local/anaconda/lib/python3.6/site-packages/contextualbandits/utils.py:133: UserWarning: 'defmatrix' will be cast to array.\n",
      "  warnings.warn(\"'defmatrix' will be cast to array.\")\n",
      "/usr/local/anaconda/lib/python3.6/site-packages/contextualbandits/utils.py:133: UserWarning: 'defmatrix' will be cast to array.\n",
      "  warnings.warn(\"'defmatrix' will be cast to array.\")\n",
      "/usr/local/anaconda/lib/python3.6/site-packages/contextualbandits/utils.py:133: UserWarning: 'defmatrix' will be cast to array.\n",
      "  warnings.warn(\"'defmatrix' will be cast to array.\")\n",
      "/usr/local/anaconda/lib/python3.6/site-packages/contextualbandits/utils.py:133: UserWarning: 'defmatrix' will be cast to array.\n",
      "  warnings.warn(\"'defmatrix' will be cast to array.\")\n",
      "/usr/local/anaconda/lib/python3.6/site-packages/contextualbandits/utils.py:133: UserWarning: 'defmatrix' will be cast to array.\n",
      "  warnings.warn(\"'defmatrix' will be cast to array.\")\n",
      "/usr/local/anaconda/lib/python3.6/site-packages/contextualbandits/utils.py:133: UserWarning: 'defmatrix' will be cast to array.\n",
      "  warnings.warn(\"'defmatrix' will be cast to array.\")\n",
      "/usr/local/anaconda/lib/python3.6/site-packages/contextualbandits/utils.py:133: UserWarning: 'defmatrix' will be cast to array.\n",
      "  warnings.warn(\"'defmatrix' will be cast to array.\")\n",
      "/usr/local/anaconda/lib/python3.6/site-packages/contextualbandits/utils.py:133: UserWarning: 'defmatrix' will be cast to array.\n",
      "  warnings.warn(\"'defmatrix' will be cast to array.\")\n",
      "/usr/local/anaconda/lib/python3.6/site-packages/contextualbandits/utils.py:133: UserWarning: 'defmatrix' will be cast to array.\n",
      "  warnings.warn(\"'defmatrix' will be cast to array.\")\n",
      "/usr/local/anaconda/lib/python3.6/site-packages/contextualbandits/utils.py:133: UserWarning: 'defmatrix' will be cast to array.\n",
      "  warnings.warn(\"'defmatrix' will be cast to array.\")\n",
      "/usr/local/anaconda/lib/python3.6/site-packages/contextualbandits/utils.py:133: UserWarning: 'defmatrix' will be cast to array.\n",
      "  warnings.warn(\"'defmatrix' will be cast to array.\")\n",
      "/usr/local/anaconda/lib/python3.6/site-packages/contextualbandits/utils.py:133: UserWarning: 'defmatrix' will be cast to array.\n",
      "  warnings.warn(\"'defmatrix' will be cast to array.\")\n",
      "/usr/local/anaconda/lib/python3.6/site-packages/contextualbandits/utils.py:133: UserWarning: 'defmatrix' will be cast to array.\n",
      "  warnings.warn(\"'defmatrix' will be cast to array.\")\n",
      "/usr/local/anaconda/lib/python3.6/site-packages/contextualbandits/utils.py:133: UserWarning: 'defmatrix' will be cast to array.\n",
      "  warnings.warn(\"'defmatrix' will be cast to array.\")\n",
      "/usr/local/anaconda/lib/python3.6/site-packages/contextualbandits/utils.py:133: UserWarning: 'defmatrix' will be cast to array.\n",
      "  warnings.warn(\"'defmatrix' will be cast to array.\")\n",
      "/usr/local/anaconda/lib/python3.6/site-packages/contextualbandits/utils.py:133: UserWarning: 'defmatrix' will be cast to array.\n",
      "  warnings.warn(\"'defmatrix' will be cast to array.\")\n",
      "/usr/local/anaconda/lib/python3.6/site-packages/contextualbandits/utils.py:133: UserWarning: 'defmatrix' will be cast to array.\n",
      "  warnings.warn(\"'defmatrix' will be cast to array.\")\n",
      "/usr/local/anaconda/lib/python3.6/site-packages/contextualbandits/utils.py:133: UserWarning: 'defmatrix' will be cast to array.\n",
      "  warnings.warn(\"'defmatrix' will be cast to array.\")\n",
      "/usr/local/anaconda/lib/python3.6/site-packages/contextualbandits/utils.py:133: UserWarning: 'defmatrix' will be cast to array.\n",
      "  warnings.warn(\"'defmatrix' will be cast to array.\")\n",
      "/usr/local/anaconda/lib/python3.6/site-packages/contextualbandits/utils.py:133: UserWarning: 'defmatrix' will be cast to array.\n",
      "  warnings.warn(\"'defmatrix' will be cast to array.\")\n",
      "/usr/local/anaconda/lib/python3.6/site-packages/contextualbandits/utils.py:133: UserWarning: 'defmatrix' will be cast to array.\n",
      "  warnings.warn(\"'defmatrix' will be cast to array.\")\n",
      "/usr/local/anaconda/lib/python3.6/site-packages/contextualbandits/utils.py:133: UserWarning: 'defmatrix' will be cast to array.\n",
      "  warnings.warn(\"'defmatrix' will be cast to array.\")\n",
      "/usr/local/anaconda/lib/python3.6/site-packages/contextualbandits/utils.py:133: UserWarning: 'defmatrix' will be cast to array.\n",
      "  warnings.warn(\"'defmatrix' will be cast to array.\")\n",
      "/usr/local/anaconda/lib/python3.6/site-packages/contextualbandits/utils.py:133: UserWarning: 'defmatrix' will be cast to array.\n",
      "  warnings.warn(\"'defmatrix' will be cast to array.\")\n",
      "/usr/local/anaconda/lib/python3.6/site-packages/contextualbandits/utils.py:133: UserWarning: 'defmatrix' will be cast to array.\n",
      "  warnings.warn(\"'defmatrix' will be cast to array.\")\n",
      "/usr/local/anaconda/lib/python3.6/site-packages/contextualbandits/utils.py:133: UserWarning: 'defmatrix' will be cast to array.\n",
      "  warnings.warn(\"'defmatrix' will be cast to array.\")\n",
      "/usr/local/anaconda/lib/python3.6/site-packages/contextualbandits/utils.py:133: UserWarning: 'defmatrix' will be cast to array.\n",
      "  warnings.warn(\"'defmatrix' will be cast to array.\")\n",
      "/usr/local/anaconda/lib/python3.6/site-packages/contextualbandits/utils.py:133: UserWarning: 'defmatrix' will be cast to array.\n",
      "  warnings.warn(\"'defmatrix' will be cast to array.\")\n",
      "/usr/local/anaconda/lib/python3.6/site-packages/contextualbandits/utils.py:133: UserWarning: 'defmatrix' will be cast to array.\n",
      "  warnings.warn(\"'defmatrix' will be cast to array.\")\n",
      "/usr/local/anaconda/lib/python3.6/site-packages/contextualbandits/utils.py:133: UserWarning: 'defmatrix' will be cast to array.\n",
      "  warnings.warn(\"'defmatrix' will be cast to array.\")\n",
      "/usr/local/anaconda/lib/python3.6/site-packages/contextualbandits/utils.py:133: UserWarning: 'defmatrix' will be cast to array.\n",
      "  warnings.warn(\"'defmatrix' will be cast to array.\")\n",
      "/usr/local/anaconda/lib/python3.6/site-packages/contextualbandits/utils.py:133: UserWarning: 'defmatrix' will be cast to array.\n",
      "  warnings.warn(\"'defmatrix' will be cast to array.\")\n",
      "/usr/local/anaconda/lib/python3.6/site-packages/contextualbandits/utils.py:133: UserWarning: 'defmatrix' will be cast to array.\n",
      "  warnings.warn(\"'defmatrix' will be cast to array.\")\n",
      "/usr/local/anaconda/lib/python3.6/site-packages/contextualbandits/utils.py:133: UserWarning: 'defmatrix' will be cast to array.\n",
      "  warnings.warn(\"'defmatrix' will be cast to array.\")\n",
      "/usr/local/anaconda/lib/python3.6/site-packages/contextualbandits/utils.py:133: UserWarning: 'defmatrix' will be cast to array.\n",
      "  warnings.warn(\"'defmatrix' will be cast to array.\")\n",
      "/usr/local/anaconda/lib/python3.6/site-packages/contextualbandits/utils.py:133: UserWarning: 'defmatrix' will be cast to array.\n",
      "  warnings.warn(\"'defmatrix' will be cast to array.\")\n",
      "/usr/local/anaconda/lib/python3.6/site-packages/contextualbandits/utils.py:133: UserWarning: 'defmatrix' will be cast to array.\n",
      "  warnings.warn(\"'defmatrix' will be cast to array.\")\n",
      "/usr/local/anaconda/lib/python3.6/site-packages/contextualbandits/utils.py:133: UserWarning: 'defmatrix' will be cast to array.\n",
      "  warnings.warn(\"'defmatrix' will be cast to array.\")\n",
      "/usr/local/anaconda/lib/python3.6/site-packages/contextualbandits/utils.py:133: UserWarning: 'defmatrix' will be cast to array.\n",
      "  warnings.warn(\"'defmatrix' will be cast to array.\")\n",
      "/usr/local/anaconda/lib/python3.6/site-packages/contextualbandits/utils.py:133: UserWarning: 'defmatrix' will be cast to array.\n",
      "  warnings.warn(\"'defmatrix' will be cast to array.\")\n",
      "/usr/local/anaconda/lib/python3.6/site-packages/contextualbandits/utils.py:133: UserWarning: 'defmatrix' will be cast to array.\n",
      "  warnings.warn(\"'defmatrix' will be cast to array.\")\n",
      "/usr/local/anaconda/lib/python3.6/site-packages/contextualbandits/utils.py:133: UserWarning: 'defmatrix' will be cast to array.\n",
      "  warnings.warn(\"'defmatrix' will be cast to array.\")\n",
      "/usr/local/anaconda/lib/python3.6/site-packages/contextualbandits/utils.py:133: UserWarning: 'defmatrix' will be cast to array.\n",
      "  warnings.warn(\"'defmatrix' will be cast to array.\")\n",
      "/usr/local/anaconda/lib/python3.6/site-packages/contextualbandits/utils.py:133: UserWarning: 'defmatrix' will be cast to array.\n",
      "  warnings.warn(\"'defmatrix' will be cast to array.\")\n",
      "/usr/local/anaconda/lib/python3.6/site-packages/contextualbandits/utils.py:133: UserWarning: 'defmatrix' will be cast to array.\n",
      "  warnings.warn(\"'defmatrix' will be cast to array.\")\n",
      "/usr/local/anaconda/lib/python3.6/site-packages/contextualbandits/utils.py:133: UserWarning: 'defmatrix' will be cast to array.\n",
      "  warnings.warn(\"'defmatrix' will be cast to array.\")\n",
      "/usr/local/anaconda/lib/python3.6/site-packages/contextualbandits/utils.py:133: UserWarning: 'defmatrix' will be cast to array.\n",
      "  warnings.warn(\"'defmatrix' will be cast to array.\")\n",
      "/usr/local/anaconda/lib/python3.6/site-packages/contextualbandits/utils.py:133: UserWarning: 'defmatrix' will be cast to array.\n",
      "  warnings.warn(\"'defmatrix' will be cast to array.\")\n",
      "/usr/local/anaconda/lib/python3.6/site-packages/contextualbandits/utils.py:133: UserWarning: 'defmatrix' will be cast to array.\n",
      "  warnings.warn(\"'defmatrix' will be cast to array.\")\n",
      "/usr/local/anaconda/lib/python3.6/site-packages/contextualbandits/utils.py:133: UserWarning: 'defmatrix' will be cast to array.\n",
      "  warnings.warn(\"'defmatrix' will be cast to array.\")\n",
      "/usr/local/anaconda/lib/python3.6/site-packages/contextualbandits/utils.py:133: UserWarning: 'defmatrix' will be cast to array.\n",
      "  warnings.warn(\"'defmatrix' will be cast to array.\")\n",
      "/usr/local/anaconda/lib/python3.6/site-packages/contextualbandits/utils.py:133: UserWarning: 'defmatrix' will be cast to array.\n",
      "  warnings.warn(\"'defmatrix' will be cast to array.\")\n",
      "/usr/local/anaconda/lib/python3.6/site-packages/contextualbandits/utils.py:133: UserWarning: 'defmatrix' will be cast to array.\n",
      "  warnings.warn(\"'defmatrix' will be cast to array.\")\n",
      "/usr/local/anaconda/lib/python3.6/site-packages/contextualbandits/utils.py:133: UserWarning: 'defmatrix' will be cast to array.\n",
      "  warnings.warn(\"'defmatrix' will be cast to array.\")\n",
      "/usr/local/anaconda/lib/python3.6/site-packages/contextualbandits/utils.py:133: UserWarning: 'defmatrix' will be cast to array.\n",
      "  warnings.warn(\"'defmatrix' will be cast to array.\")\n",
      "/usr/local/anaconda/lib/python3.6/site-packages/contextualbandits/utils.py:133: UserWarning: 'defmatrix' will be cast to array.\n",
      "  warnings.warn(\"'defmatrix' will be cast to array.\")\n",
      "/usr/local/anaconda/lib/python3.6/site-packages/contextualbandits/utils.py:133: UserWarning: 'defmatrix' will be cast to array.\n",
      "  warnings.warn(\"'defmatrix' will be cast to array.\")\n",
      "/usr/local/anaconda/lib/python3.6/site-packages/contextualbandits/utils.py:133: UserWarning: 'defmatrix' will be cast to array.\n",
      "  warnings.warn(\"'defmatrix' will be cast to array.\")\n",
      "/usr/local/anaconda/lib/python3.6/site-packages/contextualbandits/utils.py:133: UserWarning: 'defmatrix' will be cast to array.\n",
      "  warnings.warn(\"'defmatrix' will be cast to array.\")\n",
      "/usr/local/anaconda/lib/python3.6/site-packages/contextualbandits/utils.py:133: UserWarning: 'defmatrix' will be cast to array.\n",
      "  warnings.warn(\"'defmatrix' will be cast to array.\")\n",
      "/usr/local/anaconda/lib/python3.6/site-packages/contextualbandits/utils.py:133: UserWarning: 'defmatrix' will be cast to array.\n",
      "  warnings.warn(\"'defmatrix' will be cast to array.\")\n",
      "/usr/local/anaconda/lib/python3.6/site-packages/contextualbandits/utils.py:133: UserWarning: 'defmatrix' will be cast to array.\n",
      "  warnings.warn(\"'defmatrix' will be cast to array.\")\n",
      "/usr/local/anaconda/lib/python3.6/site-packages/contextualbandits/utils.py:133: UserWarning: 'defmatrix' will be cast to array.\n",
      "  warnings.warn(\"'defmatrix' will be cast to array.\")\n",
      "/usr/local/anaconda/lib/python3.6/site-packages/contextualbandits/utils.py:133: UserWarning: 'defmatrix' will be cast to array.\n",
      "  warnings.warn(\"'defmatrix' will be cast to array.\")\n",
      "/usr/local/anaconda/lib/python3.6/site-packages/contextualbandits/utils.py:133: UserWarning: 'defmatrix' will be cast to array.\n",
      "  warnings.warn(\"'defmatrix' will be cast to array.\")\n",
      "/usr/local/anaconda/lib/python3.6/site-packages/contextualbandits/utils.py:133: UserWarning: 'defmatrix' will be cast to array.\n",
      "  warnings.warn(\"'defmatrix' will be cast to array.\")\n",
      "/usr/local/anaconda/lib/python3.6/site-packages/contextualbandits/utils.py:133: UserWarning: 'defmatrix' will be cast to array.\n",
      "  warnings.warn(\"'defmatrix' will be cast to array.\")\n",
      "/usr/local/anaconda/lib/python3.6/site-packages/contextualbandits/utils.py:133: UserWarning: 'defmatrix' will be cast to array.\n",
      "  warnings.warn(\"'defmatrix' will be cast to array.\")\n",
      "/usr/local/anaconda/lib/python3.6/site-packages/contextualbandits/utils.py:133: UserWarning: 'defmatrix' will be cast to array.\n",
      "  warnings.warn(\"'defmatrix' will be cast to array.\")\n",
      "/usr/local/anaconda/lib/python3.6/site-packages/contextualbandits/utils.py:133: UserWarning: 'defmatrix' will be cast to array.\n",
      "  warnings.warn(\"'defmatrix' will be cast to array.\")\n",
      "/usr/local/anaconda/lib/python3.6/site-packages/contextualbandits/utils.py:133: UserWarning: 'defmatrix' will be cast to array.\n",
      "  warnings.warn(\"'defmatrix' will be cast to array.\")\n",
      "/usr/local/anaconda/lib/python3.6/site-packages/contextualbandits/utils.py:133: UserWarning: 'defmatrix' will be cast to array.\n",
      "  warnings.warn(\"'defmatrix' will be cast to array.\")\n",
      "/usr/local/anaconda/lib/python3.6/site-packages/contextualbandits/utils.py:133: UserWarning: 'defmatrix' will be cast to array.\n",
      "  warnings.warn(\"'defmatrix' will be cast to array.\")\n",
      "/usr/local/anaconda/lib/python3.6/site-packages/contextualbandits/utils.py:133: UserWarning: 'defmatrix' will be cast to array.\n",
      "  warnings.warn(\"'defmatrix' will be cast to array.\")\n",
      "/usr/local/anaconda/lib/python3.6/site-packages/contextualbandits/utils.py:133: UserWarning: 'defmatrix' will be cast to array.\n",
      "  warnings.warn(\"'defmatrix' will be cast to array.\")\n",
      "/usr/local/anaconda/lib/python3.6/site-packages/contextualbandits/utils.py:133: UserWarning: 'defmatrix' will be cast to array.\n",
      "  warnings.warn(\"'defmatrix' will be cast to array.\")\n",
      "/usr/local/anaconda/lib/python3.6/site-packages/contextualbandits/utils.py:133: UserWarning: 'defmatrix' will be cast to array.\n",
      "  warnings.warn(\"'defmatrix' will be cast to array.\")\n",
      "/usr/local/anaconda/lib/python3.6/site-packages/contextualbandits/utils.py:133: UserWarning: 'defmatrix' will be cast to array.\n",
      "  warnings.warn(\"'defmatrix' will be cast to array.\")\n",
      "/usr/local/anaconda/lib/python3.6/site-packages/contextualbandits/utils.py:133: UserWarning: 'defmatrix' will be cast to array.\n",
      "  warnings.warn(\"'defmatrix' will be cast to array.\")\n",
      "/usr/local/anaconda/lib/python3.6/site-packages/contextualbandits/utils.py:133: UserWarning: 'defmatrix' will be cast to array.\n",
      "  warnings.warn(\"'defmatrix' will be cast to array.\")\n",
      "/usr/local/anaconda/lib/python3.6/site-packages/contextualbandits/utils.py:133: UserWarning: 'defmatrix' will be cast to array.\n",
      "  warnings.warn(\"'defmatrix' will be cast to array.\")\n",
      "/usr/local/anaconda/lib/python3.6/site-packages/contextualbandits/utils.py:133: UserWarning: 'defmatrix' will be cast to array.\n",
      "  warnings.warn(\"'defmatrix' will be cast to array.\")\n",
      "/usr/local/anaconda/lib/python3.6/site-packages/contextualbandits/utils.py:133: UserWarning: 'defmatrix' will be cast to array.\n",
      "  warnings.warn(\"'defmatrix' will be cast to array.\")\n",
      "/usr/local/anaconda/lib/python3.6/site-packages/contextualbandits/utils.py:133: UserWarning: 'defmatrix' will be cast to array.\n",
      "  warnings.warn(\"'defmatrix' will be cast to array.\")\n",
      "/usr/local/anaconda/lib/python3.6/site-packages/contextualbandits/utils.py:133: UserWarning: 'defmatrix' will be cast to array.\n",
      "  warnings.warn(\"'defmatrix' will be cast to array.\")\n",
      "/usr/local/anaconda/lib/python3.6/site-packages/contextualbandits/utils.py:133: UserWarning: 'defmatrix' will be cast to array.\n",
      "  warnings.warn(\"'defmatrix' will be cast to array.\")\n",
      "/usr/local/anaconda/lib/python3.6/site-packages/contextualbandits/utils.py:133: UserWarning: 'defmatrix' will be cast to array.\n",
      "  warnings.warn(\"'defmatrix' will be cast to array.\")\n",
      "/usr/local/anaconda/lib/python3.6/site-packages/contextualbandits/utils.py:133: UserWarning: 'defmatrix' will be cast to array.\n",
      "  warnings.warn(\"'defmatrix' will be cast to array.\")\n",
      "/usr/local/anaconda/lib/python3.6/site-packages/contextualbandits/utils.py:133: UserWarning: 'defmatrix' will be cast to array.\n",
      "  warnings.warn(\"'defmatrix' will be cast to array.\")\n",
      "/usr/local/anaconda/lib/python3.6/site-packages/contextualbandits/utils.py:133: UserWarning: 'defmatrix' will be cast to array.\n",
      "  warnings.warn(\"'defmatrix' will be cast to array.\")\n",
      "/usr/local/anaconda/lib/python3.6/site-packages/contextualbandits/utils.py:133: UserWarning: 'defmatrix' will be cast to array.\n",
      "  warnings.warn(\"'defmatrix' will be cast to array.\")\n",
      "/usr/local/anaconda/lib/python3.6/site-packages/contextualbandits/utils.py:133: UserWarning: 'defmatrix' will be cast to array.\n",
      "  warnings.warn(\"'defmatrix' will be cast to array.\")\n",
      "/usr/local/anaconda/lib/python3.6/site-packages/contextualbandits/utils.py:133: UserWarning: 'defmatrix' will be cast to array.\n",
      "  warnings.warn(\"'defmatrix' will be cast to array.\")\n",
      "/usr/local/anaconda/lib/python3.6/site-packages/contextualbandits/utils.py:133: UserWarning: 'defmatrix' will be cast to array.\n",
      "  warnings.warn(\"'defmatrix' will be cast to array.\")\n",
      "/usr/local/anaconda/lib/python3.6/site-packages/contextualbandits/utils.py:133: UserWarning: 'defmatrix' will be cast to array.\n",
      "  warnings.warn(\"'defmatrix' will be cast to array.\")\n",
      "/usr/local/anaconda/lib/python3.6/site-packages/contextualbandits/utils.py:133: UserWarning: 'defmatrix' will be cast to array.\n",
      "  warnings.warn(\"'defmatrix' will be cast to array.\")\n",
      "/usr/local/anaconda/lib/python3.6/site-packages/contextualbandits/utils.py:133: UserWarning: 'defmatrix' will be cast to array.\n",
      "  warnings.warn(\"'defmatrix' will be cast to array.\")\n",
      "/usr/local/anaconda/lib/python3.6/site-packages/contextualbandits/utils.py:133: UserWarning: 'defmatrix' will be cast to array.\n",
      "  warnings.warn(\"'defmatrix' will be cast to array.\")\n",
      "/usr/local/anaconda/lib/python3.6/site-packages/contextualbandits/utils.py:133: UserWarning: 'defmatrix' will be cast to array.\n",
      "  warnings.warn(\"'defmatrix' will be cast to array.\")\n"
     ]
    }
   ],
   "source": [
    "for k in range(K_learners):\n",
    "    new_policy = OffsetTree(base_algorithm=LogisticRegression(solver=\"lbfgs\", max_iter=15000), nchoices=y.shape[1])\n",
    "    new_policy.fit(X=Xexplore_sample, a=actions_ensemble[k], r=rewards_ensemble[k], p=prob_actions_ensemble[k])\n",
    "    mean_reward_ot = np.mean(y[st_test:end_test, :][np.arange(end_test - st_test), new_policy.predict(Xtest)])\n",
    "    reward_ensemble[k] = mean_reward_ot\n",
    "\n",
    "\n",
    "    "
   ]
  },
  {
   "cell_type": "code",
   "execution_count": 345,
   "metadata": {},
   "outputs": [],
   "source": [
    "from collections import Counter"
   ]
  },
  {
   "cell_type": "code",
   "execution_count": 346,
   "metadata": {},
   "outputs": [
    {
     "name": "stderr",
     "output_type": "stream",
     "text": [
      "/usr/local/anaconda/lib/python3.6/site-packages/contextualbandits/utils.py:133: UserWarning: 'defmatrix' will be cast to array.\n",
      "  warnings.warn(\"'defmatrix' will be cast to array.\")\n",
      "/usr/local/anaconda/lib/python3.6/site-packages/contextualbandits/utils.py:133: UserWarning: 'defmatrix' will be cast to array.\n",
      "  warnings.warn(\"'defmatrix' will be cast to array.\")\n",
      "/usr/local/anaconda/lib/python3.6/site-packages/contextualbandits/utils.py:133: UserWarning: 'defmatrix' will be cast to array.\n",
      "  warnings.warn(\"'defmatrix' will be cast to array.\")\n",
      "/usr/local/anaconda/lib/python3.6/site-packages/contextualbandits/utils.py:133: UserWarning: 'defmatrix' will be cast to array.\n",
      "  warnings.warn(\"'defmatrix' will be cast to array.\")\n",
      "/usr/local/anaconda/lib/python3.6/site-packages/contextualbandits/utils.py:133: UserWarning: 'defmatrix' will be cast to array.\n",
      "  warnings.warn(\"'defmatrix' will be cast to array.\")\n",
      "/usr/local/anaconda/lib/python3.6/site-packages/contextualbandits/utils.py:133: UserWarning: 'defmatrix' will be cast to array.\n",
      "  warnings.warn(\"'defmatrix' will be cast to array.\")\n",
      "/usr/local/anaconda/lib/python3.6/site-packages/contextualbandits/utils.py:133: UserWarning: 'defmatrix' will be cast to array.\n",
      "  warnings.warn(\"'defmatrix' will be cast to array.\")\n",
      "/usr/local/anaconda/lib/python3.6/site-packages/contextualbandits/utils.py:133: UserWarning: 'defmatrix' will be cast to array.\n",
      "  warnings.warn(\"'defmatrix' will be cast to array.\")\n",
      "/usr/local/anaconda/lib/python3.6/site-packages/contextualbandits/utils.py:133: UserWarning: 'defmatrix' will be cast to array.\n",
      "  warnings.warn(\"'defmatrix' will be cast to array.\")\n",
      "/usr/local/anaconda/lib/python3.6/site-packages/contextualbandits/utils.py:133: UserWarning: 'defmatrix' will be cast to array.\n",
      "  warnings.warn(\"'defmatrix' will be cast to array.\")\n",
      "/usr/local/anaconda/lib/python3.6/site-packages/contextualbandits/utils.py:133: UserWarning: 'defmatrix' will be cast to array.\n",
      "  warnings.warn(\"'defmatrix' will be cast to array.\")\n",
      "/usr/local/anaconda/lib/python3.6/site-packages/contextualbandits/utils.py:133: UserWarning: 'defmatrix' will be cast to array.\n",
      "  warnings.warn(\"'defmatrix' will be cast to array.\")\n",
      "/usr/local/anaconda/lib/python3.6/site-packages/contextualbandits/utils.py:133: UserWarning: 'defmatrix' will be cast to array.\n",
      "  warnings.warn(\"'defmatrix' will be cast to array.\")\n",
      "/usr/local/anaconda/lib/python3.6/site-packages/contextualbandits/utils.py:133: UserWarning: 'defmatrix' will be cast to array.\n",
      "  warnings.warn(\"'defmatrix' will be cast to array.\")\n",
      "/usr/local/anaconda/lib/python3.6/site-packages/contextualbandits/utils.py:133: UserWarning: 'defmatrix' will be cast to array.\n",
      "  warnings.warn(\"'defmatrix' will be cast to array.\")\n",
      "/usr/local/anaconda/lib/python3.6/site-packages/contextualbandits/utils.py:133: UserWarning: 'defmatrix' will be cast to array.\n",
      "  warnings.warn(\"'defmatrix' will be cast to array.\")\n",
      "/usr/local/anaconda/lib/python3.6/site-packages/contextualbandits/utils.py:133: UserWarning: 'defmatrix' will be cast to array.\n",
      "  warnings.warn(\"'defmatrix' will be cast to array.\")\n",
      "/usr/local/anaconda/lib/python3.6/site-packages/contextualbandits/utils.py:133: UserWarning: 'defmatrix' will be cast to array.\n",
      "  warnings.warn(\"'defmatrix' will be cast to array.\")\n",
      "/usr/local/anaconda/lib/python3.6/site-packages/contextualbandits/utils.py:133: UserWarning: 'defmatrix' will be cast to array.\n",
      "  warnings.warn(\"'defmatrix' will be cast to array.\")\n",
      "/usr/local/anaconda/lib/python3.6/site-packages/contextualbandits/utils.py:133: UserWarning: 'defmatrix' will be cast to array.\n",
      "  warnings.warn(\"'defmatrix' will be cast to array.\")\n",
      "/usr/local/anaconda/lib/python3.6/site-packages/contextualbandits/utils.py:133: UserWarning: 'defmatrix' will be cast to array.\n",
      "  warnings.warn(\"'defmatrix' will be cast to array.\")\n",
      "/usr/local/anaconda/lib/python3.6/site-packages/contextualbandits/utils.py:133: UserWarning: 'defmatrix' will be cast to array.\n",
      "  warnings.warn(\"'defmatrix' will be cast to array.\")\n",
      "/usr/local/anaconda/lib/python3.6/site-packages/contextualbandits/utils.py:133: UserWarning: 'defmatrix' will be cast to array.\n",
      "  warnings.warn(\"'defmatrix' will be cast to array.\")\n",
      "/usr/local/anaconda/lib/python3.6/site-packages/contextualbandits/utils.py:133: UserWarning: 'defmatrix' will be cast to array.\n",
      "  warnings.warn(\"'defmatrix' will be cast to array.\")\n",
      "/usr/local/anaconda/lib/python3.6/site-packages/contextualbandits/utils.py:133: UserWarning: 'defmatrix' will be cast to array.\n",
      "  warnings.warn(\"'defmatrix' will be cast to array.\")\n",
      "/usr/local/anaconda/lib/python3.6/site-packages/contextualbandits/utils.py:133: UserWarning: 'defmatrix' will be cast to array.\n",
      "  warnings.warn(\"'defmatrix' will be cast to array.\")\n",
      "/usr/local/anaconda/lib/python3.6/site-packages/contextualbandits/utils.py:133: UserWarning: 'defmatrix' will be cast to array.\n",
      "  warnings.warn(\"'defmatrix' will be cast to array.\")\n",
      "/usr/local/anaconda/lib/python3.6/site-packages/contextualbandits/utils.py:133: UserWarning: 'defmatrix' will be cast to array.\n",
      "  warnings.warn(\"'defmatrix' will be cast to array.\")\n",
      "/usr/local/anaconda/lib/python3.6/site-packages/contextualbandits/utils.py:133: UserWarning: 'defmatrix' will be cast to array.\n",
      "  warnings.warn(\"'defmatrix' will be cast to array.\")\n",
      "/usr/local/anaconda/lib/python3.6/site-packages/contextualbandits/utils.py:133: UserWarning: 'defmatrix' will be cast to array.\n",
      "  warnings.warn(\"'defmatrix' will be cast to array.\")\n",
      "/usr/local/anaconda/lib/python3.6/site-packages/contextualbandits/utils.py:133: UserWarning: 'defmatrix' will be cast to array.\n",
      "  warnings.warn(\"'defmatrix' will be cast to array.\")\n",
      "/usr/local/anaconda/lib/python3.6/site-packages/contextualbandits/utils.py:133: UserWarning: 'defmatrix' will be cast to array.\n",
      "  warnings.warn(\"'defmatrix' will be cast to array.\")\n",
      "/usr/local/anaconda/lib/python3.6/site-packages/contextualbandits/utils.py:133: UserWarning: 'defmatrix' will be cast to array.\n",
      "  warnings.warn(\"'defmatrix' will be cast to array.\")\n",
      "/usr/local/anaconda/lib/python3.6/site-packages/contextualbandits/utils.py:133: UserWarning: 'defmatrix' will be cast to array.\n",
      "  warnings.warn(\"'defmatrix' will be cast to array.\")\n",
      "/usr/local/anaconda/lib/python3.6/site-packages/contextualbandits/utils.py:133: UserWarning: 'defmatrix' will be cast to array.\n",
      "  warnings.warn(\"'defmatrix' will be cast to array.\")\n",
      "/usr/local/anaconda/lib/python3.6/site-packages/contextualbandits/utils.py:133: UserWarning: 'defmatrix' will be cast to array.\n",
      "  warnings.warn(\"'defmatrix' will be cast to array.\")\n",
      "/usr/local/anaconda/lib/python3.6/site-packages/contextualbandits/utils.py:133: UserWarning: 'defmatrix' will be cast to array.\n",
      "  warnings.warn(\"'defmatrix' will be cast to array.\")\n",
      "/usr/local/anaconda/lib/python3.6/site-packages/contextualbandits/utils.py:133: UserWarning: 'defmatrix' will be cast to array.\n",
      "  warnings.warn(\"'defmatrix' will be cast to array.\")\n",
      "/usr/local/anaconda/lib/python3.6/site-packages/contextualbandits/utils.py:133: UserWarning: 'defmatrix' will be cast to array.\n",
      "  warnings.warn(\"'defmatrix' will be cast to array.\")\n",
      "/usr/local/anaconda/lib/python3.6/site-packages/contextualbandits/utils.py:133: UserWarning: 'defmatrix' will be cast to array.\n",
      "  warnings.warn(\"'defmatrix' will be cast to array.\")\n",
      "/usr/local/anaconda/lib/python3.6/site-packages/contextualbandits/utils.py:133: UserWarning: 'defmatrix' will be cast to array.\n",
      "  warnings.warn(\"'defmatrix' will be cast to array.\")\n",
      "/usr/local/anaconda/lib/python3.6/site-packages/contextualbandits/utils.py:133: UserWarning: 'defmatrix' will be cast to array.\n",
      "  warnings.warn(\"'defmatrix' will be cast to array.\")\n",
      "/usr/local/anaconda/lib/python3.6/site-packages/contextualbandits/utils.py:133: UserWarning: 'defmatrix' will be cast to array.\n",
      "  warnings.warn(\"'defmatrix' will be cast to array.\")\n",
      "/usr/local/anaconda/lib/python3.6/site-packages/contextualbandits/utils.py:133: UserWarning: 'defmatrix' will be cast to array.\n",
      "  warnings.warn(\"'defmatrix' will be cast to array.\")\n",
      "/usr/local/anaconda/lib/python3.6/site-packages/contextualbandits/utils.py:133: UserWarning: 'defmatrix' will be cast to array.\n",
      "  warnings.warn(\"'defmatrix' will be cast to array.\")\n",
      "/usr/local/anaconda/lib/python3.6/site-packages/contextualbandits/utils.py:133: UserWarning: 'defmatrix' will be cast to array.\n",
      "  warnings.warn(\"'defmatrix' will be cast to array.\")\n",
      "/usr/local/anaconda/lib/python3.6/site-packages/contextualbandits/utils.py:133: UserWarning: 'defmatrix' will be cast to array.\n",
      "  warnings.warn(\"'defmatrix' will be cast to array.\")\n",
      "/usr/local/anaconda/lib/python3.6/site-packages/contextualbandits/utils.py:133: UserWarning: 'defmatrix' will be cast to array.\n",
      "  warnings.warn(\"'defmatrix' will be cast to array.\")\n",
      "/usr/local/anaconda/lib/python3.6/site-packages/contextualbandits/utils.py:133: UserWarning: 'defmatrix' will be cast to array.\n",
      "  warnings.warn(\"'defmatrix' will be cast to array.\")\n",
      "/usr/local/anaconda/lib/python3.6/site-packages/contextualbandits/utils.py:133: UserWarning: 'defmatrix' will be cast to array.\n",
      "  warnings.warn(\"'defmatrix' will be cast to array.\")\n",
      "/usr/local/anaconda/lib/python3.6/site-packages/contextualbandits/utils.py:133: UserWarning: 'defmatrix' will be cast to array.\n",
      "  warnings.warn(\"'defmatrix' will be cast to array.\")\n",
      "/usr/local/anaconda/lib/python3.6/site-packages/contextualbandits/utils.py:133: UserWarning: 'defmatrix' will be cast to array.\n",
      "  warnings.warn(\"'defmatrix' will be cast to array.\")\n",
      "/usr/local/anaconda/lib/python3.6/site-packages/contextualbandits/utils.py:133: UserWarning: 'defmatrix' will be cast to array.\n",
      "  warnings.warn(\"'defmatrix' will be cast to array.\")\n",
      "/usr/local/anaconda/lib/python3.6/site-packages/contextualbandits/utils.py:133: UserWarning: 'defmatrix' will be cast to array.\n",
      "  warnings.warn(\"'defmatrix' will be cast to array.\")\n",
      "/usr/local/anaconda/lib/python3.6/site-packages/contextualbandits/utils.py:133: UserWarning: 'defmatrix' will be cast to array.\n",
      "  warnings.warn(\"'defmatrix' will be cast to array.\")\n",
      "/usr/local/anaconda/lib/python3.6/site-packages/contextualbandits/utils.py:133: UserWarning: 'defmatrix' will be cast to array.\n",
      "  warnings.warn(\"'defmatrix' will be cast to array.\")\n",
      "/usr/local/anaconda/lib/python3.6/site-packages/contextualbandits/utils.py:133: UserWarning: 'defmatrix' will be cast to array.\n",
      "  warnings.warn(\"'defmatrix' will be cast to array.\")\n",
      "/usr/local/anaconda/lib/python3.6/site-packages/contextualbandits/utils.py:133: UserWarning: 'defmatrix' will be cast to array.\n",
      "  warnings.warn(\"'defmatrix' will be cast to array.\")\n",
      "/usr/local/anaconda/lib/python3.6/site-packages/contextualbandits/utils.py:133: UserWarning: 'defmatrix' will be cast to array.\n",
      "  warnings.warn(\"'defmatrix' will be cast to array.\")\n",
      "/usr/local/anaconda/lib/python3.6/site-packages/contextualbandits/utils.py:133: UserWarning: 'defmatrix' will be cast to array.\n",
      "  warnings.warn(\"'defmatrix' will be cast to array.\")\n",
      "/usr/local/anaconda/lib/python3.6/site-packages/contextualbandits/utils.py:133: UserWarning: 'defmatrix' will be cast to array.\n",
      "  warnings.warn(\"'defmatrix' will be cast to array.\")\n",
      "/usr/local/anaconda/lib/python3.6/site-packages/contextualbandits/utils.py:133: UserWarning: 'defmatrix' will be cast to array.\n",
      "  warnings.warn(\"'defmatrix' will be cast to array.\")\n",
      "/usr/local/anaconda/lib/python3.6/site-packages/contextualbandits/utils.py:133: UserWarning: 'defmatrix' will be cast to array.\n",
      "  warnings.warn(\"'defmatrix' will be cast to array.\")\n",
      "/usr/local/anaconda/lib/python3.6/site-packages/contextualbandits/utils.py:133: UserWarning: 'defmatrix' will be cast to array.\n",
      "  warnings.warn(\"'defmatrix' will be cast to array.\")\n",
      "/usr/local/anaconda/lib/python3.6/site-packages/contextualbandits/utils.py:133: UserWarning: 'defmatrix' will be cast to array.\n",
      "  warnings.warn(\"'defmatrix' will be cast to array.\")\n",
      "/usr/local/anaconda/lib/python3.6/site-packages/contextualbandits/utils.py:133: UserWarning: 'defmatrix' will be cast to array.\n",
      "  warnings.warn(\"'defmatrix' will be cast to array.\")\n",
      "/usr/local/anaconda/lib/python3.6/site-packages/contextualbandits/utils.py:133: UserWarning: 'defmatrix' will be cast to array.\n",
      "  warnings.warn(\"'defmatrix' will be cast to array.\")\n",
      "/usr/local/anaconda/lib/python3.6/site-packages/contextualbandits/utils.py:133: UserWarning: 'defmatrix' will be cast to array.\n",
      "  warnings.warn(\"'defmatrix' will be cast to array.\")\n",
      "/usr/local/anaconda/lib/python3.6/site-packages/contextualbandits/utils.py:133: UserWarning: 'defmatrix' will be cast to array.\n",
      "  warnings.warn(\"'defmatrix' will be cast to array.\")\n",
      "/usr/local/anaconda/lib/python3.6/site-packages/contextualbandits/utils.py:133: UserWarning: 'defmatrix' will be cast to array.\n",
      "  warnings.warn(\"'defmatrix' will be cast to array.\")\n",
      "/usr/local/anaconda/lib/python3.6/site-packages/contextualbandits/utils.py:133: UserWarning: 'defmatrix' will be cast to array.\n",
      "  warnings.warn(\"'defmatrix' will be cast to array.\")\n",
      "/usr/local/anaconda/lib/python3.6/site-packages/contextualbandits/utils.py:133: UserWarning: 'defmatrix' will be cast to array.\n",
      "  warnings.warn(\"'defmatrix' will be cast to array.\")\n",
      "/usr/local/anaconda/lib/python3.6/site-packages/contextualbandits/utils.py:133: UserWarning: 'defmatrix' will be cast to array.\n",
      "  warnings.warn(\"'defmatrix' will be cast to array.\")\n",
      "/usr/local/anaconda/lib/python3.6/site-packages/contextualbandits/utils.py:133: UserWarning: 'defmatrix' will be cast to array.\n",
      "  warnings.warn(\"'defmatrix' will be cast to array.\")\n",
      "/usr/local/anaconda/lib/python3.6/site-packages/contextualbandits/utils.py:133: UserWarning: 'defmatrix' will be cast to array.\n",
      "  warnings.warn(\"'defmatrix' will be cast to array.\")\n",
      "/usr/local/anaconda/lib/python3.6/site-packages/contextualbandits/utils.py:133: UserWarning: 'defmatrix' will be cast to array.\n",
      "  warnings.warn(\"'defmatrix' will be cast to array.\")\n",
      "/usr/local/anaconda/lib/python3.6/site-packages/contextualbandits/utils.py:133: UserWarning: 'defmatrix' will be cast to array.\n",
      "  warnings.warn(\"'defmatrix' will be cast to array.\")\n",
      "/usr/local/anaconda/lib/python3.6/site-packages/contextualbandits/utils.py:133: UserWarning: 'defmatrix' will be cast to array.\n",
      "  warnings.warn(\"'defmatrix' will be cast to array.\")\n",
      "/usr/local/anaconda/lib/python3.6/site-packages/contextualbandits/utils.py:133: UserWarning: 'defmatrix' will be cast to array.\n",
      "  warnings.warn(\"'defmatrix' will be cast to array.\")\n",
      "/usr/local/anaconda/lib/python3.6/site-packages/contextualbandits/utils.py:133: UserWarning: 'defmatrix' will be cast to array.\n",
      "  warnings.warn(\"'defmatrix' will be cast to array.\")\n",
      "/usr/local/anaconda/lib/python3.6/site-packages/contextualbandits/utils.py:133: UserWarning: 'defmatrix' will be cast to array.\n",
      "  warnings.warn(\"'defmatrix' will be cast to array.\")\n",
      "/usr/local/anaconda/lib/python3.6/site-packages/contextualbandits/utils.py:133: UserWarning: 'defmatrix' will be cast to array.\n",
      "  warnings.warn(\"'defmatrix' will be cast to array.\")\n",
      "/usr/local/anaconda/lib/python3.6/site-packages/contextualbandits/utils.py:133: UserWarning: 'defmatrix' will be cast to array.\n",
      "  warnings.warn(\"'defmatrix' will be cast to array.\")\n",
      "/usr/local/anaconda/lib/python3.6/site-packages/contextualbandits/utils.py:133: UserWarning: 'defmatrix' will be cast to array.\n",
      "  warnings.warn(\"'defmatrix' will be cast to array.\")\n",
      "/usr/local/anaconda/lib/python3.6/site-packages/contextualbandits/utils.py:133: UserWarning: 'defmatrix' will be cast to array.\n",
      "  warnings.warn(\"'defmatrix' will be cast to array.\")\n",
      "/usr/local/anaconda/lib/python3.6/site-packages/contextualbandits/utils.py:133: UserWarning: 'defmatrix' will be cast to array.\n",
      "  warnings.warn(\"'defmatrix' will be cast to array.\")\n",
      "/usr/local/anaconda/lib/python3.6/site-packages/contextualbandits/utils.py:133: UserWarning: 'defmatrix' will be cast to array.\n",
      "  warnings.warn(\"'defmatrix' will be cast to array.\")\n",
      "/usr/local/anaconda/lib/python3.6/site-packages/contextualbandits/utils.py:133: UserWarning: 'defmatrix' will be cast to array.\n",
      "  warnings.warn(\"'defmatrix' will be cast to array.\")\n",
      "/usr/local/anaconda/lib/python3.6/site-packages/contextualbandits/utils.py:133: UserWarning: 'defmatrix' will be cast to array.\n",
      "  warnings.warn(\"'defmatrix' will be cast to array.\")\n",
      "/usr/local/anaconda/lib/python3.6/site-packages/contextualbandits/utils.py:133: UserWarning: 'defmatrix' will be cast to array.\n",
      "  warnings.warn(\"'defmatrix' will be cast to array.\")\n",
      "/usr/local/anaconda/lib/python3.6/site-packages/contextualbandits/utils.py:133: UserWarning: 'defmatrix' will be cast to array.\n",
      "  warnings.warn(\"'defmatrix' will be cast to array.\")\n",
      "/usr/local/anaconda/lib/python3.6/site-packages/contextualbandits/utils.py:133: UserWarning: 'defmatrix' will be cast to array.\n",
      "  warnings.warn(\"'defmatrix' will be cast to array.\")\n",
      "/usr/local/anaconda/lib/python3.6/site-packages/contextualbandits/utils.py:133: UserWarning: 'defmatrix' will be cast to array.\n",
      "  warnings.warn(\"'defmatrix' will be cast to array.\")\n",
      "/usr/local/anaconda/lib/python3.6/site-packages/contextualbandits/utils.py:133: UserWarning: 'defmatrix' will be cast to array.\n",
      "  warnings.warn(\"'defmatrix' will be cast to array.\")\n",
      "/usr/local/anaconda/lib/python3.6/site-packages/contextualbandits/utils.py:133: UserWarning: 'defmatrix' will be cast to array.\n",
      "  warnings.warn(\"'defmatrix' will be cast to array.\")\n",
      "/usr/local/anaconda/lib/python3.6/site-packages/contextualbandits/utils.py:133: UserWarning: 'defmatrix' will be cast to array.\n",
      "  warnings.warn(\"'defmatrix' will be cast to array.\")\n",
      "/usr/local/anaconda/lib/python3.6/site-packages/contextualbandits/utils.py:133: UserWarning: 'defmatrix' will be cast to array.\n",
      "  warnings.warn(\"'defmatrix' will be cast to array.\")\n",
      "/usr/local/anaconda/lib/python3.6/site-packages/contextualbandits/utils.py:133: UserWarning: 'defmatrix' will be cast to array.\n",
      "  warnings.warn(\"'defmatrix' will be cast to array.\")\n",
      "/usr/local/anaconda/lib/python3.6/site-packages/contextualbandits/utils.py:133: UserWarning: 'defmatrix' will be cast to array.\n",
      "  warnings.warn(\"'defmatrix' will be cast to array.\")\n",
      "/usr/local/anaconda/lib/python3.6/site-packages/contextualbandits/utils.py:133: UserWarning: 'defmatrix' will be cast to array.\n",
      "  warnings.warn(\"'defmatrix' will be cast to array.\")\n"
     ]
    },
    {
     "name": "stdout",
     "output_type": "stream",
     "text": [
      "Test set mean reward - Offset Tree Ensemble technique:  0.025510204081632654\n"
     ]
    }
   ],
   "source": [
    "ensemble_predict = np.zeros([K_learners, 996-end_exploration])\n",
    "vote = np.zeros([end_test-st_test, ], dtype = int)\n",
    "\n",
    "for k in range(K_learners):\n",
    "    new_policy = OffsetTree(base_algorithm=LogisticRegression(solver=\"lbfgs\", max_iter=1500), nchoices=y.shape[1])\n",
    "    new_policy.fit(X=Xexplore_sample, a=actions_ensemble[k], r=rewards_ensemble[k], p=prob_actions_ensemble[k])\n",
    "    \n",
    "    ensemble_predict[k] = new_policy.predict(Xtest)\n",
    "    \n",
    "for i in range(end_test-st_test):\n",
    "    \n",
    "    c = Counter(ensemble_predict[:, i])  \n",
    "    mode_count = max(c.values())\n",
    "    mode = [key for key, count in c.items() if count == mode_count]\n",
    "    \n",
    "\n",
    "    vote[i] = mode[0]\n",
    "    \n",
    "mean_reward_ot_ensemble = np.mean(y[st_test:end_test, :][np.arange(end_test - st_test), vote])\n",
    "\n",
    "print(\"Test set mean reward - Offset Tree Ensemble technique: \", mean_reward_ot_ensemble)"
   ]
  },
  {
   "cell_type": "code",
   "execution_count": 347,
   "metadata": {},
   "outputs": [],
   "source": [
    "from sklearn.metrics import accuracy_score\n",
    "yt = np.argmax(ytest, axis=1)\n",
    "yr = np.argmax(yexplore_sample, axis=1)"
   ]
  },
  {
   "cell_type": "code",
   "execution_count": 348,
   "metadata": {},
   "outputs": [
    {
     "data": {
      "text/plain": [
       "0.025510204081632654"
      ]
     },
     "execution_count": 348,
     "metadata": {},
     "output_type": "execute_result"
    }
   ],
   "source": [
    "accuracy_score(yt,vote)"
   ]
  },
  {
   "cell_type": "markdown",
   "metadata": {},
   "source": [
    "# Off-policy Methods Comparison"
   ]
  },
  {
   "cell_type": "code",
   "execution_count": 349,
   "metadata": {},
   "outputs": [],
   "source": [
    "from sklearn.linear_model import LogisticRegression\n",
    "\n",
    "# separating the covariates data for each case\n",
    "Xseed = X[st_seed:end_seed, :]\n",
    "Xexplore_sample = X[st_exploration:end_exploration, :]\n",
    "Xtest = X[st_test:end_test, :]\n",
    "nchoices = y.shape[1]\n",
    "\n",
    "# now constructing an exploration policy as explained above, with fully-labeled data\n",
    "explorer = LogisticRegression(solver=\"lbfgs\", max_iter=15000, multi_class='auto')\n",
    "explorer.fit(Xseed, np.argmax(y[st_seed:end_seed], axis=1))\n",
    "\n",
    "# letting the exploration policy choose actions for the new policy input\n",
    "actions_explore_sample = explorer.predict(Xexplore_sample)\n",
    "rewards_explore_sample = y[st_exploration:end_exploration, :]\\\n",
    "                        [np.arange(end_exploration - st_exploration), actions_explore_sample]\n",
    "\n",
    "# extracting the probabilities it estimated\n",
    "ix_internal_actions = {j:i for i,j in enumerate(explorer.classes_)}\n",
    "ix_internal_actions = [ix_internal_actions[i] for i in actions_explore_sample]\n",
    "ix_internal_actions = np.array(ix_internal_actions)\n",
    "prob_actions_explore = explorer.predict_proba(Xexplore_sample)[np.arange(Xexplore_sample.shape[0]),\n",
    "                                                               ix_internal_actions]"
   ]
  },
  {
   "cell_type": "code",
   "execution_count": 350,
   "metadata": {},
   "outputs": [
    {
     "name": "stderr",
     "output_type": "stream",
     "text": [
      "/usr/local/anaconda/lib/python3.6/site-packages/contextualbandits/utils.py:133: UserWarning: 'defmatrix' will be cast to array.\n",
      "  warnings.warn(\"'defmatrix' will be cast to array.\")\n",
      "/usr/local/anaconda/lib/python3.6/site-packages/contextualbandits/utils.py:133: UserWarning: 'defmatrix' will be cast to array.\n",
      "  warnings.warn(\"'defmatrix' will be cast to array.\")\n",
      "/usr/local/anaconda/lib/python3.6/site-packages/contextualbandits/utils.py:133: UserWarning: 'defmatrix' will be cast to array.\n",
      "  warnings.warn(\"'defmatrix' will be cast to array.\")\n"
     ]
    },
    {
     "name": "stdout",
     "output_type": "stream",
     "text": [
      "Test set mean reward - Separate Classifiers:  0.01020408163265306\n"
     ]
    },
    {
     "name": "stderr",
     "output_type": "stream",
     "text": [
      "/usr/local/anaconda/lib/python3.6/site-packages/contextualbandits/utils.py:133: UserWarning: 'defmatrix' will be cast to array.\n",
      "  warnings.warn(\"'defmatrix' will be cast to array.\")\n"
     ]
    },
    {
     "name": "stdout",
     "output_type": "stream",
     "text": [
      "Test set accuarcy - Separate Classifiers:  0.01020408163265306\n",
      "Train set accuarcy - Separate Classifiers:  0.00625\n"
     ]
    },
    {
     "name": "stderr",
     "output_type": "stream",
     "text": [
      "/usr/local/anaconda/lib/python3.6/site-packages/contextualbandits/utils.py:133: UserWarning: 'defmatrix' will be cast to array.\n",
      "  warnings.warn(\"'defmatrix' will be cast to array.\")\n"
     ]
    }
   ],
   "source": [
    "from contextualbandits.online import SeparateClassifiers\n",
    "from sklearn.linear_model import LogisticRegression\n",
    "\n",
    "new_policy = SeparateClassifiers(base_algorithm=LogisticRegression(solver=\"lbfgs\", max_iter=15000),\n",
    "                                 nchoices=y.shape[1], beta_prior=None, smoothing=None)\n",
    "new_policy.fit(X=Xexplore_sample, a=actions_explore_sample, r=rewards_explore_sample)\n",
    "mean_reward_naive = np.mean(y[st_test:end_test, :]\\\n",
    "                             [np.arange(end_test - st_test), new_policy.predict(Xtest)])\n",
    "print(\"Test set mean reward - Separate Classifiers: \", mean_reward_naive)\n",
    "yacc_naive=accuracy_score(new_policy.predict(Xtest), yt)\n",
    "yacc_naive=accuracy_score(new_policy.predict(Xtest), yt)\n",
    "yacc_naive_train = accuracy_score(new_policy.predict(Xexplore_sample), yr)\n",
    "print(\"Test set accuarcy - Separate Classifiers: \", yacc_naive)\n",
    "print(\"Train set accuarcy - Separate Classifiers: \", yacc_naive_train)"
   ]
  },
  {
   "cell_type": "code",
   "execution_count": 351,
   "metadata": {},
   "outputs": [
    {
     "name": "stderr",
     "output_type": "stream",
     "text": [
      "/usr/local/anaconda/lib/python3.6/site-packages/contextualbandits/utils.py:133: UserWarning: 'defmatrix' will be cast to array.\n",
      "  warnings.warn(\"'defmatrix' will be cast to array.\")\n",
      "/usr/local/anaconda/lib/python3.6/site-packages/contextualbandits/utils.py:133: UserWarning: 'defmatrix' will be cast to array.\n",
      "  warnings.warn(\"'defmatrix' will be cast to array.\")\n"
     ]
    },
    {
     "name": "stdout",
     "output_type": "stream",
     "text": [
      "Test set mean reward - Separate Classifiers + Prior:  0.025510204081632654\n"
     ]
    },
    {
     "name": "stderr",
     "output_type": "stream",
     "text": [
      "/usr/local/anaconda/lib/python3.6/site-packages/contextualbandits/utils.py:133: UserWarning: 'defmatrix' will be cast to array.\n",
      "  warnings.warn(\"'defmatrix' will be cast to array.\")\n",
      "/usr/local/anaconda/lib/python3.6/site-packages/contextualbandits/utils.py:133: UserWarning: 'defmatrix' will be cast to array.\n",
      "  warnings.warn(\"'defmatrix' will be cast to array.\")\n"
     ]
    },
    {
     "name": "stdout",
     "output_type": "stream",
     "text": [
      "Test set accuarcy - Separate Classifiers + Prior:  0.015306122448979591\n",
      "Train set accuarcy - Separate Classifiers  + Prior:  0.025\n"
     ]
    }
   ],
   "source": [
    "from contextualbandits.online import SeparateClassifiers\n",
    "from sklearn.linear_model import LogisticRegression\n",
    "\n",
    "new_policy = SeparateClassifiers(base_algorithm=LogisticRegression(solver=\"lbfgs\", max_iter=15000),\n",
    "                                 nchoices=y.shape[1], beta_prior=\"auto\")\n",
    "new_policy.fit(X=Xexplore_sample, a=actions_explore_sample, r=rewards_explore_sample)\n",
    "mean_reward_beta = np.mean(y[st_test:end_test, :]\\\n",
    "                            [np.arange(end_test - st_test), new_policy.predict(Xtest)])\n",
    "print(\"Test set mean reward - Separate Classifiers + Prior: \", mean_reward_beta)\n",
    "yacc_beta=accuracy_score(new_policy.predict(Xtest), yt)\n",
    "yacc_beta_train = accuracy_score(new_policy.predict(Xexplore_sample), yr)\n",
    "print(\"Test set accuarcy - Separate Classifiers + Prior: \", yacc_beta)\n",
    "print(\"Train set accuarcy - Separate Classifiers  + Prior: \", yacc_beta_train)"
   ]
  },
  {
   "cell_type": "code",
   "execution_count": 352,
   "metadata": {},
   "outputs": [
    {
     "name": "stderr",
     "output_type": "stream",
     "text": [
      "/usr/local/anaconda/lib/python3.6/site-packages/contextualbandits/utils.py:133: UserWarning: 'defmatrix' will be cast to array.\n",
      "  warnings.warn(\"'defmatrix' will be cast to array.\")\n",
      "/usr/local/anaconda/lib/python3.6/site-packages/contextualbandits/utils.py:133: UserWarning: 'defmatrix' will be cast to array.\n",
      "  warnings.warn(\"'defmatrix' will be cast to array.\")\n",
      "/usr/local/anaconda/lib/python3.6/site-packages/contextualbandits/utils.py:133: UserWarning: 'defmatrix' will be cast to array.\n",
      "  warnings.warn(\"'defmatrix' will be cast to array.\")\n"
     ]
    },
    {
     "name": "stdout",
     "output_type": "stream",
     "text": [
      "Test set mean reward - Separate Classifiers + Smoothing:  0.01020408163265306\n",
      "Test set accuarcy - Separate Classifiers + Smoothing:  0.01020408163265306\n",
      "Train set accuarcy - Separate Classifiers  + Smoothing:  0.02125\n"
     ]
    },
    {
     "name": "stderr",
     "output_type": "stream",
     "text": [
      "/usr/local/anaconda/lib/python3.6/site-packages/contextualbandits/utils.py:133: UserWarning: 'defmatrix' will be cast to array.\n",
      "  warnings.warn(\"'defmatrix' will be cast to array.\")\n"
     ]
    }
   ],
   "source": [
    "from contextualbandits.online import SeparateClassifiers\n",
    "from sklearn.linear_model import LogisticRegression\n",
    "\n",
    "new_policy = SeparateClassifiers(base_algorithm=LogisticRegression(solver=\"lbfgs\", max_iter=15000),\n",
    "                                 nchoices=y.shape[1], beta_prior=None, smoothing = (1,2))\n",
    "new_policy.fit(X=Xexplore_sample, a=actions_explore_sample, r=rewards_explore_sample)\n",
    "mean_reward_sm = np.mean(y[st_test:end_test, :]\\\n",
    "                            [np.arange(end_test - st_test), new_policy.predict(Xtest)])\n",
    "print(\"Test set mean reward - Separate Classifiers + Smoothing: \", mean_reward_sm)\n",
    "yacc_sm=accuracy_score(new_policy.predict(Xtest), yt)\n",
    "yacc_sm_train = accuracy_score(new_policy.predict(Xexplore_sample), yr)\n",
    "print(\"Test set accuarcy - Separate Classifiers + Smoothing: \", yacc_sm)\n",
    "print(\"Train set accuarcy - Separate Classifiers  + Smoothing: \", yacc_sm_train)"
   ]
  },
  {
   "cell_type": "code",
   "execution_count": 353,
   "metadata": {},
   "outputs": [
    {
     "name": "stderr",
     "output_type": "stream",
     "text": [
      "/usr/local/anaconda/lib/python3.6/site-packages/contextualbandits/utils.py:133: UserWarning: 'defmatrix' will be cast to array.\n",
      "  warnings.warn(\"'defmatrix' will be cast to array.\")\n",
      "/usr/local/anaconda/lib/python3.6/site-packages/contextualbandits/utils.py:133: UserWarning: 'defmatrix' will be cast to array.\n",
      "  warnings.warn(\"'defmatrix' will be cast to array.\")\n"
     ]
    },
    {
     "name": "stdout",
     "output_type": "stream",
     "text": [
      "Test set mean reward - Offset Tree technique:  0.015306122448979591\n"
     ]
    },
    {
     "name": "stderr",
     "output_type": "stream",
     "text": [
      "/usr/local/anaconda/lib/python3.6/site-packages/contextualbandits/utils.py:133: UserWarning: 'defmatrix' will be cast to array.\n",
      "  warnings.warn(\"'defmatrix' will be cast to array.\")\n",
      "/usr/local/anaconda/lib/python3.6/site-packages/contextualbandits/utils.py:133: UserWarning: 'defmatrix' will be cast to array.\n",
      "  warnings.warn(\"'defmatrix' will be cast to array.\")\n"
     ]
    },
    {
     "name": "stdout",
     "output_type": "stream",
     "text": [
      "Test set accuarcy - Offset Tree technique:  0.015306122448979591\n",
      "Train set accuarcy - Offset Tree technique:  0.03\n"
     ]
    }
   ],
   "source": [
    "from contextualbandits.offpolicy import OffsetTree\n",
    "from sklearn.linear_model import LogisticRegression\n",
    "\n",
    "new_policy = OffsetTree(base_algorithm=LogisticRegression(solver=\"lbfgs\", max_iter=15000), nchoices=y.shape[1])\n",
    "new_policy.fit(X=Xexplore_sample, a=actions_explore_sample, r=rewards_explore_sample, p=prob_actions_explore)\n",
    "mean_reward_ot = np.mean(y[st_test:end_test, :][np.arange(end_test - st_test), new_policy.predict(Xtest)])\n",
    "print(\"Test set mean reward - Offset Tree technique: \", mean_reward_ot)\n",
    "yacc_ot=accuracy_score(new_policy.predict(Xtest), yt)\n",
    "yacc_ot_train = accuracy_score(new_policy.predict(Xexplore_sample), yr)\n",
    "print(\"Test set accuarcy - Offset Tree technique: \", yacc_ot)\n",
    "print(\"Train set accuarcy - Offset Tree technique: \", yacc_ot_train)"
   ]
  },
  {
   "cell_type": "code",
   "execution_count": 354,
   "metadata": {},
   "outputs": [
    {
     "name": "stderr",
     "output_type": "stream",
     "text": [
      "/usr/local/anaconda/lib/python3.6/site-packages/contextualbandits/utils.py:133: UserWarning: 'defmatrix' will be cast to array.\n",
      "  warnings.warn(\"'defmatrix' will be cast to array.\")\n",
      "/usr/local/anaconda/lib/python3.6/site-packages/contextualbandits/utils.py:133: UserWarning: 'defmatrix' will be cast to array.\n",
      "  warnings.warn(\"'defmatrix' will be cast to array.\")\n",
      "/usr/local/anaconda/lib/python3.6/site-packages/costsensitive/__init__.py:15: UserWarning: Default matrix will be cast to array.\n",
      "  warnings.warn(\"Default matrix will be cast to array.\")\n",
      "/usr/local/anaconda/lib/python3.6/site-packages/contextualbandits/utils.py:133: UserWarning: 'defmatrix' will be cast to array.\n",
      "  warnings.warn(\"'defmatrix' will be cast to array.\")\n"
     ]
    },
    {
     "name": "stdout",
     "output_type": "stream",
     "text": [
      "Test set mean reward - Doubly-Robust Estimator:  0.05612244897959184\n"
     ]
    },
    {
     "name": "stderr",
     "output_type": "stream",
     "text": [
      "/usr/local/anaconda/lib/python3.6/site-packages/contextualbandits/utils.py:133: UserWarning: 'defmatrix' will be cast to array.\n",
      "  warnings.warn(\"'defmatrix' will be cast to array.\")\n",
      "/usr/local/anaconda/lib/python3.6/site-packages/contextualbandits/utils.py:133: UserWarning: 'defmatrix' will be cast to array.\n",
      "  warnings.warn(\"'defmatrix' will be cast to array.\")\n"
     ]
    },
    {
     "name": "stdout",
     "output_type": "stream",
     "text": [
      "Test set accuarcy - Doubly-Robust Estimator:  0.05612244897959184\n",
      "Train set accuarcy - Doubly-Robust Estimator:  0.17625\n"
     ]
    }
   ],
   "source": [
    "from contextualbandits.offpolicy import DoublyRobustEstimator\n",
    "from sklearn.linear_model import LogisticRegression, Ridge\n",
    "\n",
    "new_policy = DoublyRobustEstimator(base_algorithm = Ridge(),\n",
    "                                   reward_estimator = LogisticRegression(solver=\"lbfgs\", max_iter=15000),\n",
    "                                   nchoices = y.shape[1],\n",
    "                                   method = 'rovr', beta_prior = None, smoothing = None)\n",
    "new_policy.fit(X=Xexplore_sample, a=actions_explore_sample, r=rewards_explore_sample, p=prob_actions_explore)\n",
    "mean_reward_dr = np.mean(y[st_test:end_test, :][np.arange(end_test - st_test), new_policy.predict(Xtest)])\n",
    "print(\"Test set mean reward - Doubly-Robust Estimator: \", mean_reward_dr)\n",
    "yt = np.argmax(ytest, axis=1)\n",
    "yacc_dr=accuracy_score(new_policy.predict(Xtest), yt)\n",
    "yacc_dr_train=accuracy_score(new_policy.predict(Xexplore_sample), yr)\n",
    "print(\"Test set accuarcy - Doubly-Robust Estimator: \", yacc_dr)\n",
    "print(\"Train set accuarcy - Doubly-Robust Estimator: \", yacc_dr_train)"
   ]
  },
  {
   "cell_type": "code",
   "execution_count": 325,
   "metadata": {},
   "outputs": [
    {
     "name": "stderr",
     "output_type": "stream",
     "text": [
      "/usr/local/anaconda/lib/python3.6/site-packages/contextualbandits/utils.py:133: UserWarning: 'defmatrix' will be cast to array.\n",
      "  warnings.warn(\"'defmatrix' will be cast to array.\")\n",
      "/usr/local/anaconda/lib/python3.6/site-packages/contextualbandits/utils.py:133: UserWarning: 'defmatrix' will be cast to array.\n",
      "  warnings.warn(\"'defmatrix' will be cast to array.\")\n",
      "/usr/local/anaconda/lib/python3.6/site-packages/costsensitive/__init__.py:15: UserWarning: Default matrix will be cast to array.\n",
      "  warnings.warn(\"Default matrix will be cast to array.\")\n",
      "/usr/local/anaconda/lib/python3.6/site-packages/contextualbandits/utils.py:133: UserWarning: 'defmatrix' will be cast to array.\n",
      "  warnings.warn(\"'defmatrix' will be cast to array.\")\n"
     ]
    },
    {
     "name": "stdout",
     "output_type": "stream",
     "text": [
      "Test set mean reward - Doubly-Robust Estimator + Prior:  0.07142857142857142\n"
     ]
    },
    {
     "name": "stderr",
     "output_type": "stream",
     "text": [
      "/usr/local/anaconda/lib/python3.6/site-packages/contextualbandits/utils.py:133: UserWarning: 'defmatrix' will be cast to array.\n",
      "  warnings.warn(\"'defmatrix' will be cast to array.\")\n",
      "/usr/local/anaconda/lib/python3.6/site-packages/contextualbandits/utils.py:133: UserWarning: 'defmatrix' will be cast to array.\n",
      "  warnings.warn(\"'defmatrix' will be cast to array.\")\n"
     ]
    },
    {
     "name": "stdout",
     "output_type": "stream",
     "text": [
      "Test set accuarcy - Doubly-Robust Estimator + Prior:  0.07142857142857142\n",
      "Train set accuarcy - Doubly-Robust Estimator + Prior:  0.19625\n"
     ]
    }
   ],
   "source": [
    "new_policy = DoublyRobustEstimator(base_algorithm = Ridge(),\n",
    "                                   reward_estimator = LogisticRegression(solver=\"lbfgs\", max_iter=15000),\n",
    "                                   nchoices = y.shape[1],\n",
    "                                   method = 'rovr', beta_prior = \"auto\", smoothing = None)\n",
    "new_policy.fit(X=Xexplore_sample, a=actions_explore_sample, r=rewards_explore_sample, p=prob_actions_explore)\n",
    "mean_reward_dr_prior = np.mean(y[st_test:end_test, :][np.arange(end_test - st_test), new_policy.predict(Xtest)])\n",
    "print(\"Test set mean reward - Doubly-Robust Estimator + Prior: \", mean_reward_dr_prior)\n",
    "yt = np.argmax(ytest, axis=1)\n",
    "yacc_dr_prior=accuracy_score(new_policy.predict(Xtest), yt)\n",
    "yacc_dr_prior_train=accuracy_score(new_policy.predict(Xexplore_sample), yr)\n",
    "print(\"Test set accuarcy - Doubly-Robust Estimator + Prior: \", yacc_dr_prior)\n",
    "print(\"Train set accuarcy - Doubly-Robust Estimator + Prior: \", yacc_dr_prior_train)"
   ]
  },
  {
   "cell_type": "code",
   "execution_count": 326,
   "metadata": {},
   "outputs": [
    {
     "name": "stderr",
     "output_type": "stream",
     "text": [
      "/usr/local/anaconda/lib/python3.6/site-packages/contextualbandits/utils.py:133: UserWarning: 'defmatrix' will be cast to array.\n",
      "  warnings.warn(\"'defmatrix' will be cast to array.\")\n",
      "/usr/local/anaconda/lib/python3.6/site-packages/contextualbandits/utils.py:133: UserWarning: 'defmatrix' will be cast to array.\n",
      "  warnings.warn(\"'defmatrix' will be cast to array.\")\n",
      "/usr/local/anaconda/lib/python3.6/site-packages/costsensitive/__init__.py:15: UserWarning: Default matrix will be cast to array.\n",
      "  warnings.warn(\"Default matrix will be cast to array.\")\n",
      "/usr/local/anaconda/lib/python3.6/site-packages/contextualbandits/utils.py:133: UserWarning: 'defmatrix' will be cast to array.\n",
      "  warnings.warn(\"'defmatrix' will be cast to array.\")\n"
     ]
    },
    {
     "name": "stdout",
     "output_type": "stream",
     "text": [
      "Test set mean reward - Doubly-Robust Estimator + Smoothing:  0.07142857142857142\n"
     ]
    },
    {
     "name": "stderr",
     "output_type": "stream",
     "text": [
      "/usr/local/anaconda/lib/python3.6/site-packages/contextualbandits/utils.py:133: UserWarning: 'defmatrix' will be cast to array.\n",
      "  warnings.warn(\"'defmatrix' will be cast to array.\")\n",
      "/usr/local/anaconda/lib/python3.6/site-packages/contextualbandits/utils.py:133: UserWarning: 'defmatrix' will be cast to array.\n",
      "  warnings.warn(\"'defmatrix' will be cast to array.\")\n"
     ]
    },
    {
     "name": "stdout",
     "output_type": "stream",
     "text": [
      "Test set accuarcy - Doubly-Robust Estimator + Smoothing:  0.07142857142857142\n",
      "Train set accuarcy - Doubly-Robust Estimator + Smoothing:  0.19875\n"
     ]
    }
   ],
   "source": [
    "new_policy = DoublyRobustEstimator(base_algorithm = Ridge(),\n",
    "                                   reward_estimator = LogisticRegression(solver=\"lbfgs\", max_iter=15000),\n",
    "                                   nchoices = y.shape[1],\n",
    "                                   method = 'rovr', beta_prior = None, smoothing = (1, 2))\n",
    "new_policy.fit(X=Xexplore_sample, a=actions_explore_sample, r=rewards_explore_sample, p=prob_actions_explore)\n",
    "mean_reward_dr_sm = np.mean(y[st_test:end_test, :][np.arange(end_test - st_test), new_policy.predict(Xtest)])\n",
    "print(\"Test set mean reward - Doubly-Robust Estimator + Smoothing: \", mean_reward_dr_sm)\n",
    "yacc_dr_sm=accuracy_score(new_policy.predict(Xtest), yt)\n",
    "yacc_dr_sm_train=accuracy_score(new_policy.predict(Xexplore_sample), yr)\n",
    "print(\"Test set accuarcy - Doubly-Robust Estimator + Smoothing: \", yacc_dr_sm)\n",
    "print(\"Train set accuarcy - Doubly-Robust Estimator + Smoothing: \", yacc_dr_sm_train)"
   ]
  },
  {
   "cell_type": "code",
   "execution_count": 327,
   "metadata": {},
   "outputs": [
    {
     "data": {
      "image/png": "[encoded data removed]",
      "text/plain": [
       "<Figure size 1584x648 with 1 Axes>"
      ]
     },
     "metadata": {},
     "output_type": "display_data"
    }
   ],
   "source": [
    "import matplotlib.pyplot as plt, pandas as pd\n",
    "import seaborn as sns\n",
    "from pylab import rcParams\n",
    "%matplotlib inline\n",
    "\n",
    "results = pd.DataFrame({\n",
    "    'Off-policy Learning Method' : ['Naive', 'Naive + Prior', 'Naive + Smoothing', 'Doubly-Robust',\n",
    "                                    'Doubly-Robust + Prior', 'Doubly-Robust + Smoothing', 'Offset Tree', 'Offset Tree + Ensemble'],\n",
    "    'Test set mean reward' : [mean_reward_naive, mean_reward_beta, mean_reward_sm, mean_reward_dr,\n",
    "                              mean_reward_dr_prior, mean_reward_dr_sm, mean_reward_ot, mean_reward_ot_ensemble]\n",
    "})\n",
    "\n",
    "sns.set(font_scale = 1.1)\n",
    "rcParams['figure.figsize'] = 22, 9\n",
    "ax = sns.barplot(x = \"Off-policy Learning Method\", y=\"Test set mean reward\", data=results)\n",
    "sns.set(font_scale=2.5)\n",
    "plt.xlabel(\"Off-policy Learning Method\", fontsize = 20)\n",
    "plt.ylabel(\"Test set mean reward\", fontsize = 20)\n",
    "for bar in ax.patches:\n",
    "    if bar.get_height() > 0.4:\n",
    "        bar.set_color('teal')\n",
    "plt.title('Off-policy Learning on Bibtex Dataset\\n(Base Classifier is Logistic Regression)')\n",
    "plt.show()"
   ]
  },
  {
   "cell_type": "code",
   "execution_count": 203,
   "metadata": {},
   "outputs": [],
   "source": [
    "fig = ax.get_figure()\n",
    "fig.savefig(\"Off_policy_MAB.png\")"
   ]
  },
  {
   "cell_type": "code",
   "execution_count": null,
   "metadata": {},
   "outputs": [],
   "source": []
  }
 ],
 "metadata": {
  "kernelspec": {
   "display_name": "Python 3",
   "language": "python",
   "name": "python3"
  },
  "language_info": {
   "codemirror_mode": {
    "name": "ipython",
    "version": 3
   },
   "file_extension": ".py",
   "mimetype": "text/x-python",
   "name": "python",
   "nbconvert_exporter": "python",
   "pygments_lexer": "ipython3",
   "version": "3.6.8"
  }
 },
 "nbformat": 4,
 "nbformat_minor": 4
}
