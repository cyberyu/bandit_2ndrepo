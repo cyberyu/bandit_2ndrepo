{
 "cells": [
  {
   "cell_type": "code",
   "execution_count": 3,
   "metadata": {},
   "outputs": [],
   "source": [
    "from sklearn.linear_model import Ridge\n",
    "from sklearn.kernel_ridge import KernelRidge\n",
    "from sklearn.metrics.pairwise import linear_kernel\n",
    "from sklearn.kernel_approximation import Nystroem\n",
    "from sklearn.model_selection import KFold\n",
    "import pickle\n",
    "import random\n",
    "import numpy as np\n",
    "from itertools import product\n",
    "from sklearn import metrics\n",
    "\n",
    "query_f = pickle.load(open('./data/X_query_tfidf.pkl','rb'))\n",
    "page_f = pickle.load(open('./data/X_page_text_tfidf.pkl','rb'))\n",
    "association_mat = pickle.load(open('./data/X_ass_mat.pkl','rb'))\n",
    "\n",
    "\n",
    "def prepare_context(query_id, page_id):\n",
    "    #generate the context, the dimension is number of features * number of arms\n",
    "    context =np.zeros(1000)\n",
    "\n",
    "    context[0:500] = query_f[query_id]\n",
    "    context[500:1000] = page_f[page_id]\n",
    "\n",
    "    #print(len(context))\n",
    "    return context\n",
    "\n",
    "\n",
    "\n",
    "total_sample_n = 64400\n",
    "\n",
    "Y = np.zeros(total_sample_n)\n",
    "X = np.zeros((total_sample_n, 1000))\n",
    "\n",
    "label_true = np.zeros((400,161))\n",
    "predict_score = np.zeros((400,161))\n",
    "\n",
    "count=0\n",
    "\n",
    "kf = KFold(n_splits=5)\n",
    "\n",
    "\n",
    "for i in range(400):\n",
    "    for j in range(161):\n",
    "        X[count,:]=prepare_context(i,j)\n",
    "        Y[count]=association_mat[i,j]\n",
    "        count+=1\n",
    "\n",
    "feature_map_nystroem = Nystroem(kernel='rbf', gamma=0.4, random_state=1, n_components=1000)\n",
    "K_pc_1000_text  = feature_map_nystroem.fit_transform(X)    \n",
    "    \n",
    "pickle.dump(K_pc_1000_text, open('./data/K_pc_1000_text_sub.pkl','wb'), protocol=4)    "
   ]
  },
  {
   "cell_type": "code",
   "execution_count": 7,
   "metadata": {},
   "outputs": [
    {
     "data": {
      "text/plain": [
       "(400, 161)"
      ]
     },
     "execution_count": 7,
     "metadata": {},
     "output_type": "execute_result"
    }
   ],
   "source": [
    "np.shape(ass_sub)"
   ]
  },
  {
   "cell_type": "code",
   "execution_count": 6,
   "metadata": {},
   "outputs": [],
   "source": [
    "import pickle\n",
    "query_f = pickle.load(open('./data/X_query_tfidf.pkl','rb'))\n",
    "page_f = pickle.load(open('./data/X_page_text_tfidf.pkl','rb'))\n",
    "association_mat = pickle.load(open('./data/X_ass_mat.pkl','rb'))\n",
    "\n",
    "\n",
    "query_f_sub  = query_f[0:400,:]\n",
    "page_f_sub = page_f[0:161,:]\n",
    "ass_sub = association_mat[0:400,0:161]\n",
    "\n",
    "pickle.dump(query_f_sub, open('./data/X_query_tfidf_400.pkl','wb'))\n",
    "pickle.dump(page_f_sub, open('./data/X_page_text_tfidf_400.pkl','wb'))\n",
    "pickle.dump(ass_sub, open('./data/X_ass_mat_400.pkl','wb'))\n"
   ]
  },
  {
   "cell_type": "code",
   "execution_count": 9,
   "metadata": {},
   "outputs": [],
   "source": [
    "ass_sub = association_mat[0:400,:]"
   ]
  },
  {
   "cell_type": "code",
   "execution_count": 10,
   "metadata": {},
   "outputs": [],
   "source": [
    "import numpy as np\n",
    "all_sum = np.sum(ass_sub, axis=0)"
   ]
  },
  {
   "cell_type": "code",
   "execution_count": 11,
   "metadata": {},
   "outputs": [
    {
     "data": {
      "text/plain": [
       "(array([  0,   1,   2,   3,   4,   5,   6,   7,   8,   9,  10,  11,  12,\n",
       "         13,  14,  15,  16,  17,  18,  19,  20,  21,  22,  23,  24,  25,\n",
       "         26,  27,  28,  29,  30,  31,  32,  33,  34,  35,  36,  37,  38,\n",
       "         39,  40,  41,  42,  43,  44,  45,  46,  47,  48,  49,  50,  51,\n",
       "         52,  53,  54,  55,  56,  57,  58,  59,  60,  61,  62,  63,  64,\n",
       "         65,  66,  67,  68,  69,  70,  71,  72,  73,  74,  75,  76,  77,\n",
       "         78,  79,  80,  81,  82,  83,  84,  85,  86,  87,  88,  89,  90,\n",
       "         91,  92,  93,  94,  95,  96,  97,  98,  99, 100, 101, 102, 103,\n",
       "        104, 105, 106, 107, 108, 109, 110, 111, 112, 113, 114, 115, 116,\n",
       "        117, 118, 119, 120, 121, 122, 123, 124, 125, 126, 127, 128, 129,\n",
       "        130, 131, 132, 133, 134, 135, 136, 137, 138, 139, 140, 141, 142,\n",
       "        143, 144, 145, 146, 147, 148, 149, 150, 151, 152, 153, 154, 155,\n",
       "        156, 157, 158, 159, 160]),)"
      ]
     },
     "execution_count": 11,
     "metadata": {},
     "output_type": "execute_result"
    }
   ],
   "source": [
    "np.where(all_sum>0)"
   ]
  },
  {
   "cell_type": "code",
   "execution_count": 16,
   "metadata": {},
   "outputs": [],
   "source": []
  },
  {
   "cell_type": "code",
   "execution_count": 17,
   "metadata": {},
   "outputs": [
    {
     "data": {
      "text/plain": [
       "(400, 161)"
      ]
     },
     "execution_count": 17,
     "metadata": {},
     "output_type": "execute_result"
    }
   ],
   "source": [
    "np.shape(association_mat_sub)"
   ]
  },
  {
   "cell_type": "code",
   "execution_count": null,
   "metadata": {},
   "outputs": [],
   "source": []
  }
 ],
 "metadata": {
  "kernelspec": {
   "display_name": "Python 3",
   "language": "python",
   "name": "python3"
  },
  "language_info": {
   "codemirror_mode": {
    "name": "ipython",
    "version": 3
   },
   "file_extension": ".py",
   "mimetype": "text/x-python",
   "name": "python",
   "nbconvert_exporter": "python",
   "pygments_lexer": "ipython3",
   "version": "3.6.8"
  }
 },
 "nbformat": 4,
 "nbformat_minor": 4
}
