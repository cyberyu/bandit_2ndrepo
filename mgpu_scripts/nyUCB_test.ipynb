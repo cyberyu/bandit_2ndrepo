{
 "cells": [
  {
   "cell_type": "code",
   "execution_count": 1,
   "metadata": {},
   "outputs": [],
   "source": [
    "from sklearn import metrics \n",
    "import tensorflow as tf\n",
    "import torch\n",
    "import numpy as np\n",
    "import pickle\n",
    "import time\n",
    "import os\n",
    "torch.set_printoptions(precision=8)"
   ]
  },
  {
   "cell_type": "code",
   "execution_count": 5,
   "metadata": {},
   "outputs": [],
   "source": [
    "repeat = 341\n",
    "use_gpu = True\n",
    "num_articles=100\n",
    "num_arm_features=1536\n",
    "alpha=0.1\n",
    "query_feature_num=768\n",
    "page_feature_num=768\n"
   ]
  },
  {
   "cell_type": "code",
   "execution_count": 2,
   "metadata": {},
   "outputs": [],
   "source": [
    "query_features = pickle.load(open('./msmarco/X_question_bert.pkl','rb'))\n",
    "page_features=pickle.load(open('./msmarco/X_page_bert.pkl','rb'))\n",
    "    \n",
    "test_query_features= pickle.load(open('./msmarco/X_question_bert.pkl','rb'))\n",
    "\n",
    "ratings = pickle.load(open('./msmarco/X_ass_mat.pkl','rb'))\n",
    "test_ratings = pickle.load(open('./msmarco/X_ass_mat.pkl','rb'))\n",
    "\n",
    "K_pc_500 = pickle.load(open('./msmarco/K_arm_bert_raw.pkl','rb'))"
   ]
  },
  {
   "cell_type": "code",
   "execution_count": 3,
   "metadata": {},
   "outputs": [],
   "source": [
    "X_nystrom = tf.constant(K_pc_500, dtype=tf.float32, name=\"X_nystrom\")"
   ]
  },
  {
   "cell_type": "code",
   "execution_count": 7,
   "metadata": {},
   "outputs": [],
   "source": [
    "qt_id = tf.constant(0)\n",
    "qt_id_to_arm_ids = [[armloop*num_articles+qt_id] for armloop in range(num_articles)] \n",
    "k=tf.gather_nd(X_nystrom, tf.convert_to_tensor(qt_id_to_arm_ids))"
   ]
  },
  {
   "cell_type": "code",
   "execution_count": 10,
   "metadata": {},
   "outputs": [
    {
     "data": {
      "text/plain": [
       "100"
      ]
     },
     "execution_count": 10,
     "metadata": {},
     "output_type": "execute_result"
    }
   ],
   "source": [
    "len(qt_id_to_arm_ids)"
   ]
  },
  {
   "cell_type": "code",
   "execution_count": 11,
   "metadata": {},
   "outputs": [
    {
     "data": {
      "text/plain": [
       "TensorShape([100, 1536])"
      ]
     },
     "execution_count": 11,
     "metadata": {},
     "output_type": "execute_result"
    }
   ],
   "source": [
    "k.shape"
   ]
  },
  {
   "cell_type": "code",
   "execution_count": 16,
   "metadata": {},
   "outputs": [],
   "source": [
    "qt_id = 0\n",
    "loc = torch.ByteTensor([armloop*num_articles+qt_id for armloop in range(num_articles)])\n",
    "X_nystrom = torch.tensor(K_pc_500, dtype=torch.float32)"
   ]
  },
  {
   "cell_type": "code",
   "execution_count": 23,
   "metadata": {},
   "outputs": [],
   "source": [
    "loc = [armloop*num_articles+qt_id for armloop in range(num_articles)]"
   ]
  },
  {
   "cell_type": "code",
   "execution_count": 25,
   "metadata": {},
   "outputs": [
    {
     "data": {
      "text/plain": [
       "tensor([[ 0.24776939,  0.14772353, -0.15037628,  ..., -0.12566939,\n",
       "          0.12129939,  0.24182221],\n",
       "        [ 0.41537824,  0.55095118, -0.28244665,  ..., -0.12566939,\n",
       "          0.12129939,  0.24182221],\n",
       "        [ 0.27643803,  0.03907634,  0.05725826,  ..., -0.12566939,\n",
       "          0.12129939,  0.24182221],\n",
       "        ...,\n",
       "        [ 0.56506455,  0.08213788, -0.17778534,  ..., -0.12566939,\n",
       "          0.12129939,  0.24182221],\n",
       "        [ 0.28807366, -0.00948920,  0.05025373,  ..., -0.12566939,\n",
       "          0.12129939,  0.24182221],\n",
       "        [-0.14007340, -0.35157716, -0.09985719,  ..., -0.12566939,\n",
       "          0.12129939,  0.24182221]])"
      ]
     },
     "execution_count": 25,
     "metadata": {},
     "output_type": "execute_result"
    }
   ],
   "source": [
    "X_nystrom[loc]"
   ]
  },
  {
   "cell_type": "code",
   "execution_count": 26,
   "metadata": {},
   "outputs": [
    {
     "data": {
      "text/plain": [
       "<tf.Tensor: id=607, shape=(100, 1536), dtype=float32, numpy=\n",
       "array([[ 0.24776939,  0.14772353, -0.15037628, ..., -0.12566939,\n",
       "         0.12129939,  0.24182221],\n",
       "       [ 0.41537824,  0.5509512 , -0.28244665, ..., -0.12566939,\n",
       "         0.12129939,  0.24182221],\n",
       "       [ 0.27643803,  0.03907634,  0.05725826, ..., -0.12566939,\n",
       "         0.12129939,  0.24182221],\n",
       "       ...,\n",
       "       [ 0.56506455,  0.08213788, -0.17778534, ..., -0.12566939,\n",
       "         0.12129939,  0.24182221],\n",
       "       [ 0.28807366, -0.0094892 ,  0.05025373, ..., -0.12566939,\n",
       "         0.12129939,  0.24182221],\n",
       "       [-0.1400734 , -0.35157716, -0.09985719, ..., -0.12566939,\n",
       "         0.12129939,  0.24182221]], dtype=float32)>"
      ]
     },
     "execution_count": 26,
     "metadata": {},
     "output_type": "execute_result"
    }
   ],
   "source": [
    "k"
   ]
  },
  {
   "cell_type": "code",
   "execution_count": 28,
   "metadata": {},
   "outputs": [
    {
     "data": {
      "text/plain": [
       "tensor([[1],\n",
       "        [2],\n",
       "        [3],\n",
       "        [4]])"
      ]
     },
     "execution_count": 28,
     "metadata": {},
     "output_type": "execute_result"
    }
   ],
   "source": [
    "x = torch.tensor([1, 2, 3, 4])\n",
    "torch.unsqueeze(x, -1)"
   ]
  },
  {
   "cell_type": "code",
   "execution_count": 32,
   "metadata": {},
   "outputs": [
    {
     "data": {
      "text/plain": [
       "TensorShape([100, 1536, 1])"
      ]
     },
     "execution_count": 32,
     "metadata": {},
     "output_type": "execute_result"
    }
   ],
   "source": [
    "# x = tf.constant([1,2,3,4])\n",
    "tf.expand_dims(k, -1).shape"
   ]
  },
  {
   "cell_type": "code",
   "execution_count": 26,
   "metadata": {},
   "outputs": [],
   "source": [
    "def compute_cosine_similarity_tf(a, b):\n",
    "    # x shape is n_a * dim\n",
    "    # y shape is n_b * dim\n",
    "    # results shape is n_a * n_b\n",
    "    #print('a ', a)\n",
    "    normalize_a = tf.math.l2_normalize(a,0)        \n",
    "    #print('normalize_a ', normalize_a)\n",
    "\n",
    "    #print('b ', b)\n",
    "    normalize_b = tf.math.l2_normalize(b,0)\n",
    "    #print('normalize_b ', normalize_b)\n",
    "\n",
    "    similarity = tf.tensordot(normalize_a, normalize_b, (0,0))\n",
    "    #print('returning ', similarity)\n",
    "    return similarity"
   ]
  },
  {
   "cell_type": "code",
   "execution_count": 37,
   "metadata": {},
   "outputs": [],
   "source": [
    "import torch.nn.functional as f\n",
    "def compute_cosine_similarity_pt(a, b):\n",
    "    # x shape is n_a * dim\n",
    "    # y shape is n_b * dim\n",
    "\n",
    "    normalize_a = f.normalize(a, dim=0, p=2)\n",
    "    normalize_b = f.normalize(b, dim=0, p=2)\n",
    "\n",
    "    similarity = torch.tensordot(normalize_a, normalize_b, ([0], [0]))\n",
    "\n",
    "    return similarity"
   ]
  },
  {
   "cell_type": "code",
   "execution_count": 28,
   "metadata": {},
   "outputs": [],
   "source": [
    "a=np.random.rand(768, 49)\n",
    "b=np.random.rand(768, 1)"
   ]
  },
  {
   "cell_type": "code",
   "execution_count": 38,
   "metadata": {},
   "outputs": [],
   "source": [
    "sim_pt = compute_cosine_similarity_pt(torch.tensor(a), torch.tensor(b))"
   ]
  },
  {
   "cell_type": "code",
   "execution_count": 39,
   "metadata": {},
   "outputs": [],
   "source": [
    "sim_tf = compute_cosine_similarity_tf(tf.constant(a), tf.constant(b))"
   ]
  },
  {
   "cell_type": "code",
   "execution_count": 42,
   "metadata": {},
   "outputs": [
    {
     "data": {
      "text/plain": [
       "torch.Size([49, 1])"
      ]
     },
     "execution_count": 42,
     "metadata": {},
     "output_type": "execute_result"
    }
   ],
   "source": [
    "sim_pt.shape"
   ]
  },
  {
   "cell_type": "code",
   "execution_count": 44,
   "metadata": {},
   "outputs": [
    {
     "data": {
      "text/plain": [
       "<tf.Tensor: id=62, shape=(49, 1), dtype=float64, numpy=\n",
       "array([[0.75272832],\n",
       "       [0.75002452],\n",
       "       [0.74601698],\n",
       "       [0.73950791],\n",
       "       [0.74133337],\n",
       "       [0.77542177],\n",
       "       [0.74688002],\n",
       "       [0.73135711],\n",
       "       [0.74138545],\n",
       "       [0.74913381],\n",
       "       [0.76236682],\n",
       "       [0.76214455],\n",
       "       [0.75092048],\n",
       "       [0.74854653],\n",
       "       [0.75212117],\n",
       "       [0.72937608],\n",
       "       [0.7408579 ],\n",
       "       [0.75335998],\n",
       "       [0.76462885],\n",
       "       [0.73569345],\n",
       "       [0.74048226],\n",
       "       [0.74269353],\n",
       "       [0.74967229],\n",
       "       [0.74230611],\n",
       "       [0.73540302],\n",
       "       [0.75240642],\n",
       "       [0.75008834],\n",
       "       [0.74507091],\n",
       "       [0.75776866],\n",
       "       [0.76347359],\n",
       "       [0.74089768],\n",
       "       [0.74235728],\n",
       "       [0.76729421],\n",
       "       [0.75115985],\n",
       "       [0.75417725],\n",
       "       [0.76085575],\n",
       "       [0.7512806 ],\n",
       "       [0.76727526],\n",
       "       [0.75669488],\n",
       "       [0.74900206],\n",
       "       [0.75139084],\n",
       "       [0.74415422],\n",
       "       [0.75148004],\n",
       "       [0.75220564],\n",
       "       [0.74380281],\n",
       "       [0.74936617],\n",
       "       [0.76196713],\n",
       "       [0.74504006],\n",
       "       [0.74905902]])>"
      ]
     },
     "execution_count": 44,
     "metadata": {},
     "output_type": "execute_result"
    }
   ],
   "source": [
    "sim_tf"
   ]
  },
  {
   "cell_type": "code",
   "execution_count": 43,
   "metadata": {},
   "outputs": [
    {
     "data": {
      "text/plain": [
       "tensor([[0.75272832],\n",
       "        [0.75002452],\n",
       "        [0.74601698],\n",
       "        [0.73950791],\n",
       "        [0.74133337],\n",
       "        [0.77542177],\n",
       "        [0.74688002],\n",
       "        [0.73135711],\n",
       "        [0.74138545],\n",
       "        [0.74913381],\n",
       "        [0.76236682],\n",
       "        [0.76214455],\n",
       "        [0.75092048],\n",
       "        [0.74854653],\n",
       "        [0.75212117],\n",
       "        [0.72937608],\n",
       "        [0.74085790],\n",
       "        [0.75335998],\n",
       "        [0.76462885],\n",
       "        [0.73569345],\n",
       "        [0.74048226],\n",
       "        [0.74269353],\n",
       "        [0.74967229],\n",
       "        [0.74230611],\n",
       "        [0.73540302],\n",
       "        [0.75240642],\n",
       "        [0.75008834],\n",
       "        [0.74507091],\n",
       "        [0.75776866],\n",
       "        [0.76347359],\n",
       "        [0.74089768],\n",
       "        [0.74235728],\n",
       "        [0.76729421],\n",
       "        [0.75115985],\n",
       "        [0.75417725],\n",
       "        [0.76085575],\n",
       "        [0.75128060],\n",
       "        [0.76727526],\n",
       "        [0.75669488],\n",
       "        [0.74900206],\n",
       "        [0.75139084],\n",
       "        [0.74415422],\n",
       "        [0.75148004],\n",
       "        [0.75220564],\n",
       "        [0.74380281],\n",
       "        [0.74936617],\n",
       "        [0.76196713],\n",
       "        [0.74504006],\n",
       "        [0.74905902]], dtype=torch.float64)"
      ]
     },
     "execution_count": 43,
     "metadata": {},
     "output_type": "execute_result"
    }
   ],
   "source": [
    "sim_pt"
   ]
  },
  {
   "cell_type": "code",
   "execution_count": 36,
   "metadata": {},
   "outputs": [
    {
     "data": {
      "text/plain": [
       "TensorShape([768, 49])"
      ]
     },
     "execution_count": 36,
     "metadata": {},
     "output_type": "execute_result"
    }
   ],
   "source": [
    "tf.constant(a).shape"
   ]
  },
  {
   "cell_type": "code",
   "execution_count": 45,
   "metadata": {},
   "outputs": [],
   "source": [
    "x = tf.reshape(tf.constant([[1,2], [3,4], [5,6]]), [6,1,1])\n",
    "y = tf.reshape(tf.constant([[5,2], [1,4], [2,0]]), [6,1,1])\n",
    "# v_t = tf.argmax(tf.math.reduce_max(x, axis=0), axis=1)\n",
    "# tf.argmax(tf.math.reduce_max(x, axis=0),1)"
   ]
  },
  {
   "cell_type": "code",
   "execution_count": 46,
   "metadata": {},
   "outputs": [],
   "source": [
    "z = tf.concat([x, y], -1)\n",
    "v_t = tf.argmax(tf.math.reduce_max(z, axis=0), axis=1)\n",
    "h_t= tf.argmax(z, axis=0) \n",
    "a_t = tf.expand_dims(tf.expand_dims(tf.gather_nd(h_t,[0, v_t[0].numpy()]),-1),-1)\n"
   ]
  },
  {
   "cell_type": "code",
   "execution_count": 51,
   "metadata": {},
   "outputs": [
    {
     "data": {
      "text/plain": [
       "TensorShape([6, 1, 2])"
      ]
     },
     "execution_count": 51,
     "metadata": {},
     "output_type": "execute_result"
    }
   ],
   "source": [
    "z.shape"
   ]
  },
  {
   "cell_type": "code",
   "execution_count": 52,
   "metadata": {},
   "outputs": [
    {
     "data": {
      "text/plain": [
       "TensorShape([1, 2])"
      ]
     },
     "execution_count": 52,
     "metadata": {},
     "output_type": "execute_result"
    }
   ],
   "source": [
    "tf.argmax(z, axis=0) .shape"
   ]
  },
  {
   "cell_type": "code",
   "execution_count": 39,
   "metadata": {},
   "outputs": [
    {
     "data": {
      "text/plain": [
       "<tf.Tensor: id=59, shape=(1,), dtype=int64, numpy=array([0])>"
      ]
     },
     "execution_count": 39,
     "metadata": {},
     "output_type": "execute_result"
    }
   ],
   "source": [
    "v_t"
   ]
  },
  {
   "cell_type": "code",
   "execution_count": 40,
   "metadata": {},
   "outputs": [
    {
     "data": {
      "text/plain": [
       "<tf.Tensor: id=61, shape=(1, 2), dtype=int64, numpy=array([[5, 0]])>"
      ]
     },
     "execution_count": 40,
     "metadata": {},
     "output_type": "execute_result"
    }
   ],
   "source": [
    "h_t"
   ]
  },
  {
   "cell_type": "code",
   "execution_count": 41,
   "metadata": {},
   "outputs": [
    {
     "data": {
      "text/plain": [
       "<tf.Tensor: id=71, shape=(1, 1), dtype=int64, numpy=array([[5]])>"
      ]
     },
     "execution_count": 41,
     "metadata": {},
     "output_type": "execute_result"
    }
   ],
   "source": [
    "a_t"
   ]
  },
  {
   "cell_type": "code",
   "execution_count": 31,
   "metadata": {},
   "outputs": [
    {
     "data": {
      "text/plain": [
       "<tf.Tensor: id=45, shape=(1, 2), dtype=int32, numpy=array([[6, 5]], dtype=int32)>"
      ]
     },
     "execution_count": 31,
     "metadata": {},
     "output_type": "execute_result"
    }
   ],
   "source": [
    "tf.math.reduce_max(z, axis=0)"
   ]
  },
  {
   "cell_type": "code",
   "execution_count": 20,
   "metadata": {},
   "outputs": [],
   "source": [
    "a = torch.reshape(torch.tensor([[1,2], [3,4], [5,6]]), (6,1,1))\n",
    "b = torch.reshape(torch.tensor([[5,2], [1,4], [2,0]]), (6,1,1))\n",
    "# v_t = tf.argmax(tf.math.reduce_max(x, axis=0), axis=1)\n",
    "# tf.argmax(tf.math.reduce_max(x, axis=0),1)"
   ]
  },
  {
   "cell_type": "code",
   "execution_count": 28,
   "metadata": {},
   "outputs": [],
   "source": [
    "c = torch.stack([a, b], 2).reshape(-1,1,2)"
   ]
  },
  {
   "cell_type": "code",
   "execution_count": 33,
   "metadata": {},
   "outputs": [
    {
     "data": {
      "text/plain": [
       "tensor([[6, 5]])"
      ]
     },
     "execution_count": 33,
     "metadata": {},
     "output_type": "execute_result"
    }
   ],
   "source": [
    "torch.max(c, dim=0).values"
   ]
  },
  {
   "cell_type": "code",
   "execution_count": 34,
   "metadata": {},
   "outputs": [
    {
     "data": {
      "text/plain": [
       "tensor([0])"
      ]
     },
     "execution_count": 34,
     "metadata": {},
     "output_type": "execute_result"
    }
   ],
   "source": [
    "torch.argmax(torch.max(c, dim=0).values, dim=1)"
   ]
  }
 ],
 "metadata": {
  "kernelspec": {
   "display_name": "Python 3",
   "language": "python",
   "name": "python3"
  },
  "language_info": {
   "codemirror_mode": {
    "name": "ipython",
    "version": 3
   },
   "file_extension": ".py",
   "mimetype": "text/x-python",
   "name": "python",
   "nbconvert_exporter": "python",
   "pygments_lexer": "ipython3",
   "version": "3.6.8"
  }
 },
 "nbformat": 4,
 "nbformat_minor": 4
}
