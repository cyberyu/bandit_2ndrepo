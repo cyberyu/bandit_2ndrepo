{
 "cells": [
  {
   "cell_type": "markdown",
   "metadata": {},
   "source": [
    "# Off-policy Ensemble"
   ]
  },
  {
   "cell_type": "code",
   "execution_count": 1,
   "metadata": {},
   "outputs": [
    {
     "name": "stdout",
     "output_type": "stream",
     "text": [
      "(7395, 1836)\n",
      "(7395, 159)\n"
     ]
    }
   ],
   "source": [
    "import pandas as pd, numpy as np, re\n",
    "from sklearn.preprocessing import MultiLabelBinarizer\n",
    "from sklearn.datasets import load_svmlight_file\n",
    "\n",
    "def parse_data(filename):\n",
    "    with open(filename, \"rb\") as f:\n",
    "        infoline = f.readline()\n",
    "        infoline = re.sub(r\"^b'\", \"\", str(infoline))\n",
    "        n_features = int(re.sub(r\"^\\d+\\s(\\d+)\\s\\d+.*$\", r\"\\1\", infoline))\n",
    "        features, labels = load_svmlight_file(f, n_features=n_features, multilabel=True)\n",
    "    mlb = MultiLabelBinarizer()\n",
    "    labels = mlb.fit_transform(labels)\n",
    "    features = np.array(features.todense())\n",
    "    features = np.ascontiguousarray(features)\n",
    "    return features, labels\n",
    "\n",
    "X, y = parse_data(\"Bibtex_data.txt\")\n",
    "print(X.shape)\n",
    "print(y.shape)"
   ]
  },
  {
   "cell_type": "code",
   "execution_count": 2,
   "metadata": {},
   "outputs": [],
   "source": [
    "from sklearn.linear_model import LogisticRegression\n",
    "K_learners = 100"
   ]
  },
  {
   "cell_type": "code",
   "execution_count": 3,
   "metadata": {},
   "outputs": [],
   "source": [
    "st_seed = 0\n",
    "end_seed = 3000\n"
   ]
  },
  {
   "cell_type": "code",
   "execution_count": 18,
   "metadata": {},
   "outputs": [],
   "source": [
    "st_exploration = 0\n",
    "end_exploration = 5000"
   ]
  },
  {
   "cell_type": "code",
   "execution_count": 19,
   "metadata": {},
   "outputs": [],
   "source": [
    "st_test = 5000\n",
    "end_test = 7395\n"
   ]
  },
  {
   "cell_type": "code",
   "execution_count": 20,
   "metadata": {},
   "outputs": [],
   "source": [
    "Xseed = X[st_seed:end_seed, :]\n",
    "Xexplore_sample = X[st_exploration:end_exploration, :]\n",
    "Xtest = X[st_test:end_test, :]\n",
    "nchoices = y.shape[1]\n"
   ]
  },
  {
   "cell_type": "code",
   "execution_count": 21,
   "metadata": {},
   "outputs": [],
   "source": [
    "actions_ensemble = np.zeros([K_learners, end_exploration-st_exploration], dtype=int)\n",
    "rewards_ensemble = np.zeros([K_learners, end_exploration-st_exploration])\n",
    "prob_actions_ensemble = np.zeros([K_learners, end_exploration-st_exploration])"
   ]
  },
  {
   "cell_type": "code",
   "execution_count": 22,
   "metadata": {},
   "outputs": [],
   "source": [
    "for k in range(K_learners):\n",
    "    sample_index = np.random.randint(st_seed, end_seed, size=3000)\n",
    "    Xseed_sample = Xseed[sample_index, :]\n",
    "    \n",
    "    explorer = LogisticRegression(solver=\"lbfgs\", max_iter=1500, multi_class='auto')\n",
    "    explorer.fit(Xseed_sample, np.argmax(y[sample_index], axis=1))\n",
    "    \n",
    "    actions_ensemble[k] = explorer.predict(Xexplore_sample)\n",
    "    rewards_ensemble[k] = y[st_exploration:end_exploration, :]\\\n",
    "                        [np.arange(end_exploration - st_exploration), actions_ensemble[k]]\n",
    "\n",
    "    ix_internal_actions = {j:i for i,j in enumerate(explorer.classes_)}\n",
    "    ix_internal_actions = [ix_internal_actions[i] for i in actions_ensemble[k]]\n",
    "\n",
    "    ix_internal_actions = np.array(ix_internal_actions)\n",
    "    prob_actions_ensemble[k] = explorer.predict_proba(Xexplore_sample)[np.arange(Xexplore_sample.shape[0]),\n",
    "                                                               ix_internal_actions]\n"
   ]
  },
  {
   "cell_type": "code",
   "execution_count": 23,
   "metadata": {},
   "outputs": [],
   "source": [
    "from contextualbandits.offpolicy import OffsetTree\n",
    "from sklearn.linear_model import LogisticRegression"
   ]
  },
  {
   "cell_type": "code",
   "execution_count": 24,
   "metadata": {},
   "outputs": [],
   "source": [
    "reward_ensemble = np.empty([K_learners, ])"
   ]
  },
  {
   "cell_type": "code",
   "execution_count": 25,
   "metadata": {},
   "outputs": [],
   "source": [
    "for k in range(K_learners):\n",
    "    new_policy = OffsetTree(base_algorithm=LogisticRegression(solver=\"lbfgs\", max_iter=15000), nchoices=y.shape[1])\n",
    "    new_policy.fit(X=Xexplore_sample, a=actions_ensemble[k], r=rewards_ensemble[k], p=prob_actions_ensemble[k])\n",
    "    mean_reward_ot = np.mean(y[st_test:end_test, :][np.arange(end_test - st_test), new_policy.predict(Xtest)])\n",
    "    reward_ensemble[k] = mean_reward_ot\n",
    "\n",
    "\n",
    "\n",
    "\n",
    "\n",
    "    "
   ]
  },
  {
   "cell_type": "code",
   "execution_count": 26,
   "metadata": {},
   "outputs": [],
   "source": [
    "from collections import Counter"
   ]
  },
  {
   "cell_type": "code",
   "execution_count": 27,
   "metadata": {},
   "outputs": [
    {
     "name": "stdout",
     "output_type": "stream",
     "text": [
      "Test set mean reward - Offset Tree Ensemble technique:  0.4534446764091858\n"
     ]
    }
   ],
   "source": [
    "ensemble_predict = np.zeros([K_learners, end_test-st_test])\n",
    "vote = np.zeros([end_test-st_test, ], dtype = int)\n",
    "\n",
    "for k in range(K_learners):\n",
    "    new_policy = OffsetTree(base_algorithm=LogisticRegression(solver=\"lbfgs\", max_iter=1500), nchoices=y.shape[1])\n",
    "    new_policy.fit(X=Xexplore_sample, a=actions_ensemble[k], r=rewards_ensemble[k], p=prob_actions_ensemble[k])\n",
    "    \n",
    "    ensemble_predict[k] = new_policy.predict(Xtest)\n",
    "    \n",
    "for i in range(end_test-st_test):\n",
    "    \n",
    "    c = Counter(ensemble_predict[:, i])  \n",
    "    mode_count = max(c.values())\n",
    "    mode = [key for key, count in c.items() if count == mode_count]\n",
    "    \n",
    "\n",
    "    vote[i] = mode[0]\n",
    "    \n",
    "mean_reward_ot_ensemble = np.mean(y[st_test:end_test, :][np.arange(end_test - st_test), vote])\n",
    "\n",
    "print(\"Test set mean reward - Offset Tree Ensemble technique: \", mean_reward_ot_ensemble)"
   ]
  },
  {
   "cell_type": "markdown",
   "metadata": {},
   "source": [
    "# Off-policy Methods Comparison"
   ]
  },
  {
   "cell_type": "code",
   "execution_count": 28,
   "metadata": {},
   "outputs": [
    {
     "name": "stdout",
     "output_type": "stream",
     "text": [
      "(7395, 1836)\n",
      "(7395, 159)\n"
     ]
    }
   ],
   "source": [
    "import pandas as pd, numpy as np, re\n",
    "from sklearn.preprocessing import MultiLabelBinarizer\n",
    "from sklearn.datasets import load_svmlight_file\n",
    "\n",
    "def parse_data(filename):\n",
    "    with open(filename, \"rb\") as f:\n",
    "        infoline = f.readline()\n",
    "        infoline = re.sub(r\"^b'\", \"\", str(infoline))\n",
    "        n_features = int(re.sub(r\"^\\d+\\s(\\d+)\\s\\d+.*$\", r\"\\1\", infoline))\n",
    "        features, labels = load_svmlight_file(f, n_features=n_features, multilabel=True)\n",
    "    mlb = MultiLabelBinarizer()\n",
    "    labels = mlb.fit_transform(labels)\n",
    "    features = np.array(features.todense())\n",
    "    features = np.ascontiguousarray(features)\n",
    "    return features, labels\n",
    "\n",
    "X, y = parse_data(\"Bibtex_data.txt\")\n",
    "print(X.shape)\n",
    "print(y.shape)"
   ]
  },
  {
   "cell_type": "code",
   "execution_count": 29,
   "metadata": {},
   "outputs": [],
   "source": [
    "from sklearn.linear_model import LogisticRegression\n",
    "\n",
    "# the 'explorer' polcy will be fit with this small sample of the rows\n",
    "st_seed = 0\n",
    "end_seed = 3000\n",
    "\n",
    "# then it will choose actions for this larger sample\n",
    "st_exploration = 0\n",
    "end_exploration = 5000\n",
    "\n",
    "# the new policy will be evaluated with a separate test set\n",
    "st_test = 5000\n",
    "end_test = 7395\n",
    "\n",
    "# separating the covariates data for each case\n",
    "Xseed = X[st_seed:end_seed, :]\n",
    "Xexplore_sample = X[st_exploration:end_exploration, :]\n",
    "Xtest = X[st_test:end_test, :]\n",
    "nchoices = y.shape[1]\n",
    "\n",
    "# now constructing an exploration policy as explained above, with fully-labeled data\n",
    "explorer = LogisticRegression(solver=\"lbfgs\", max_iter=15000, multi_class='auto')\n",
    "explorer.fit(Xseed, np.argmax(y[st_seed:end_seed], axis=1))\n",
    "\n",
    "# letting the exploration policy choose actions for the new policy input\n",
    "actions_explore_sample = explorer.predict(Xexplore_sample)\n",
    "rewards_explore_sample = y[st_exploration:end_exploration, :]\\\n",
    "                        [np.arange(end_exploration - st_exploration), actions_explore_sample]\n",
    "\n",
    "# extracting the probabilities it estimated\n",
    "ix_internal_actions = {j:i for i,j in enumerate(explorer.classes_)}\n",
    "ix_internal_actions = [ix_internal_actions[i] for i in actions_explore_sample]\n",
    "ix_internal_actions = np.array(ix_internal_actions)\n",
    "prob_actions_explore = explorer.predict_proba(Xexplore_sample)[np.arange(Xexplore_sample.shape[0]),\n",
    "                                                               ix_internal_actions]"
   ]
  },
  {
   "cell_type": "code",
   "execution_count": 30,
   "metadata": {},
   "outputs": [
    {
     "name": "stdout",
     "output_type": "stream",
     "text": [
      "Test set mean reward - Separate Classifiers:  0.01962421711899791\n"
     ]
    }
   ],
   "source": [
    "from contextualbandits.online import SeparateClassifiers\n",
    "from sklearn.linear_model import LogisticRegression\n",
    "\n",
    "new_policy = SeparateClassifiers(base_algorithm=LogisticRegression(solver=\"lbfgs\", max_iter=15000),\n",
    "                                 nchoices=y.shape[1], beta_prior=None, smoothing=None)\n",
    "new_policy.fit(X=Xexplore_sample, a=actions_explore_sample, r=rewards_explore_sample)\n",
    "mean_reward_naive = np.mean(y[st_test:end_test, :]\\\n",
    "                             [np.arange(end_test - st_test), new_policy.predict(Xtest)])\n",
    "print(\"Test set mean reward - Separate Classifiers: \", mean_reward_naive)"
   ]
  },
  {
   "cell_type": "code",
   "execution_count": 31,
   "metadata": {},
   "outputs": [
    {
     "name": "stdout",
     "output_type": "stream",
     "text": [
      "Test set mean reward - Separate Classifiers + Prior:  0.08977035490605428\n"
     ]
    }
   ],
   "source": [
    "from contextualbandits.online import SeparateClassifiers\n",
    "from sklearn.linear_model import LogisticRegression\n",
    "\n",
    "new_policy = SeparateClassifiers(base_algorithm=LogisticRegression(solver=\"lbfgs\", max_iter=15000),\n",
    "                                 nchoices=y.shape[1], beta_prior=\"auto\")\n",
    "new_policy.fit(X=Xexplore_sample, a=actions_explore_sample, r=rewards_explore_sample)\n",
    "mean_reward_beta = np.mean(y[st_test:end_test, :]\\\n",
    "                            [np.arange(end_test - st_test), new_policy.predict(Xtest)])\n",
    "print(\"Test set mean reward - Separate Classifiers + Prior: \", mean_reward_beta)"
   ]
  },
  {
   "cell_type": "code",
   "execution_count": 32,
   "metadata": {},
   "outputs": [
    {
     "name": "stdout",
     "output_type": "stream",
     "text": [
      "Test set mean reward - Separate Classifiers + Smoothing:  0.17995824634655533\n"
     ]
    }
   ],
   "source": [
    "from contextualbandits.online import SeparateClassifiers\n",
    "from sklearn.linear_model import LogisticRegression\n",
    "\n",
    "new_policy = SeparateClassifiers(base_algorithm=LogisticRegression(solver=\"lbfgs\", max_iter=15000),\n",
    "                                 nchoices=y.shape[1], beta_prior=None, smoothing = (1,2))\n",
    "new_policy.fit(X=Xexplore_sample, a=actions_explore_sample, r=rewards_explore_sample)\n",
    "mean_reward_sm = np.mean(y[st_test:end_test, :]\\\n",
    "                            [np.arange(end_test - st_test), new_policy.predict(Xtest)])\n",
    "print(\"Test set mean reward - Separate Classifiers + Smoothing: \", mean_reward_sm)"
   ]
  },
  {
   "cell_type": "code",
   "execution_count": 33,
   "metadata": {},
   "outputs": [
    {
     "name": "stdout",
     "output_type": "stream",
     "text": [
      "Test set mean reward - Offset Tree technique:  0.3173277661795407\n"
     ]
    }
   ],
   "source": [
    "from contextualbandits.offpolicy import OffsetTree\n",
    "from sklearn.linear_model import LogisticRegression\n",
    "\n",
    "new_policy = OffsetTree(base_algorithm=LogisticRegression(solver=\"lbfgs\", max_iter=15000), nchoices=y.shape[1])\n",
    "new_policy.fit(X=Xexplore_sample, a=actions_explore_sample, r=rewards_explore_sample, p=prob_actions_explore)\n",
    "mean_reward_ot = np.mean(y[st_test:end_test, :][np.arange(end_test - st_test), new_policy.predict(Xtest)])\n",
    "print(\"Test set mean reward - Offset Tree technique: \", mean_reward_ot)"
   ]
  },
  {
   "cell_type": "code",
   "execution_count": 34,
   "metadata": {},
   "outputs": [
    {
     "name": "stdout",
     "output_type": "stream",
     "text": [
      "Test set mean reward - Doubly-Robust Estimator:  0.06012526096033403\n"
     ]
    }
   ],
   "source": [
    "from contextualbandits.offpolicy import DoublyRobustEstimator\n",
    "from sklearn.linear_model import LogisticRegression, Ridge\n",
    "\n",
    "new_policy = DoublyRobustEstimator(base_algorithm = Ridge(),\n",
    "                                   reward_estimator = LogisticRegression(solver=\"lbfgs\", max_iter=15000),\n",
    "                                   nchoices = y.shape[1],\n",
    "                                   method = 'rovr', beta_prior = None, smoothing = None)\n",
    "new_policy.fit(X=Xexplore_sample, a=actions_explore_sample, r=rewards_explore_sample, p=prob_actions_explore)\n",
    "mean_reward_dr = np.mean(y[st_test:end_test, :][np.arange(end_test - st_test), new_policy.predict(Xtest)])\n",
    "print(\"Test set mean reward - Doubly-Robust Estimator: \", mean_reward_dr)"
   ]
  },
  {
   "cell_type": "code",
   "execution_count": 35,
   "metadata": {},
   "outputs": [
    {
     "name": "stdout",
     "output_type": "stream",
     "text": [
      "Test set mean reward - Doubly-Robust Estimator + Prior:  0.07807933194154489\n"
     ]
    }
   ],
   "source": [
    "new_policy = DoublyRobustEstimator(base_algorithm = Ridge(),\n",
    "                                   reward_estimator = LogisticRegression(solver=\"lbfgs\", max_iter=15000),\n",
    "                                   nchoices = y.shape[1],\n",
    "                                   method = 'rovr', beta_prior = \"auto\", smoothing = None)\n",
    "new_policy.fit(X=Xexplore_sample, a=actions_explore_sample, r=rewards_explore_sample, p=prob_actions_explore)\n",
    "mean_reward_dr_prior = np.mean(y[st_test:end_test, :][np.arange(end_test - st_test), new_policy.predict(Xtest)])\n",
    "print(\"Test set mean reward - Doubly-Robust Estimator + Prior: \", mean_reward_dr_prior)"
   ]
  },
  {
   "cell_type": "code",
   "execution_count": 36,
   "metadata": {},
   "outputs": [
    {
     "name": "stdout",
     "output_type": "stream",
     "text": [
      "Test set mean reward - Doubly-Robust Estimator + Smoothing:  0.07306889352818371\n"
     ]
    }
   ],
   "source": [
    "new_policy = DoublyRobustEstimator(base_algorithm = Ridge(),\n",
    "                                   reward_estimator = LogisticRegression(solver=\"lbfgs\", max_iter=15000),\n",
    "                                   nchoices = y.shape[1],\n",
    "                                   method = 'rovr', beta_prior = None, smoothing = (1, 2))\n",
    "new_policy.fit(X=Xexplore_sample, a=actions_explore_sample, r=rewards_explore_sample, p=prob_actions_explore)\n",
    "mean_reward_dr_sm = np.mean(y[st_test:end_test, :][np.arange(end_test - st_test), new_policy.predict(Xtest)])\n",
    "print(\"Test set mean reward - Doubly-Robust Estimator + Smoothing: \", mean_reward_dr_sm)"
   ]
  },
  {
   "cell_type": "code",
   "execution_count": 37,
   "metadata": {},
   "outputs": [
    {
     "data": {
      "image/png": "[encoded data removed]",
      "text/plain": [
       "<Figure size 1584x648 with 1 Axes>"
      ]
     },
     "metadata": {},
     "output_type": "display_data"
    }
   ],
   "source": [
    "import matplotlib.pyplot as plt, pandas as pd\n",
    "import seaborn as sns\n",
    "from pylab import rcParams\n",
    "%matplotlib inline\n",
    "\n",
    "results = pd.DataFrame({\n",
    "    'Off-policy Learning Method' : ['Naive', 'Naive + Prior', 'Naive + Smoothing', 'Doubly-Robust',\n",
    "                                    'Doubly-Robust + Prior', 'Doubly-Robust + Smoothing', 'Offset Tree', 'Offset Tree + Ensemble'],\n",
    "    'Test set mean reward' : [mean_reward_naive, mean_reward_beta, mean_reward_sm, mean_reward_dr,\n",
    "                              mean_reward_dr_prior, mean_reward_dr_sm, mean_reward_ot, mean_reward_ot_ensemble]\n",
    "})\n",
    "\n",
    "sns.set(font_scale = 1.1)\n",
    "rcParams['figure.figsize'] = 22, 9\n",
    "ax = sns.barplot(x = \"Off-policy Learning Method\", y=\"Test set mean reward\", data=results)\n",
    "sns.set(font_scale=2.5)\n",
    "plt.xlabel(\"Off-policy Learning Method\", fontsize = 20)\n",
    "plt.ylabel(\"Test set mean reward\", fontsize = 20)\n",
    "for bar in ax.patches:\n",
    "    if bar.get_height() > 0.4:\n",
    "        bar.set_color('teal')\n",
    "plt.title('Off-policy Learning on Bibtex Dataset\\n(Base Classifier is Logistic Regression)')\n",
    "plt.show()"
   ]
  },
  {
   "cell_type": "code",
   "execution_count": 38,
   "metadata": {},
   "outputs": [],
   "source": [
    "fig = ax.get_figure()\n",
    "fig.savefig(\"Off_policy_MAB.png\")"
   ]
  },
  {
   "cell_type": "code",
   "execution_count": null,
   "metadata": {},
   "outputs": [],
   "source": []
  }
 ],
 "metadata": {
  "kernelspec": {
   "display_name": "Python 3",
   "language": "python",
   "name": "python3"
  },
  "language_info": {
   "codemirror_mode": {
    "name": "ipython",
    "version": 3
   },
   "file_extension": ".py",
   "mimetype": "text/x-python",
   "name": "python",
   "nbconvert_exporter": "python",
   "pygments_lexer": "ipython3",
   "version": "3.6.8"
  }
 },
 "nbformat": 4,
 "nbformat_minor": 4
}
