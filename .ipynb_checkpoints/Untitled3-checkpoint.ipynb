{
 "cells": [
  {
   "cell_type": "code",
   "execution_count": 60,
   "metadata": {},
   "outputs": [
    {
     "name": "stdout",
     "output_type": "stream",
     "text": [
      "Tensor(\"cond_32/Reshape:0\", shape=(300, 1), dtype=float32)\n",
      "Tensor(\"cond_32/cosine_distance_loss/value:0\", shape=(), dtype=float32)\n",
      "Tensor(\"Where_42:0\", shape=(?, 1), dtype=int64)\n",
      "Tensor(\"Reshape_52:0\", shape=(300, 1), dtype=float32)\n",
      "Tensor(\"cosine_distance_loss_28/value:0\", shape=(), dtype=float32)\n",
      "0.77357674\n"
     ]
    }
   ],
   "source": [
    "import tensorflow_probability as tfp\n",
    "import tensorflow as tf\n",
    "from tensorflow_probability import distributions\n",
    "import pickle\n",
    "#import tfp.distributions.Binomial as Binomial\n",
    "\n",
    "#     MIN_PROBABILITY = 0 # Minimal probability to like an item - adds stochasticity\n",
    "page_features=pickle.load(open('data/X_all_page_pca_features.pkl','rb'))\n",
    "X_page = tf.constant(page_features, dtype=tf.float32, name=\"X_page\")\n",
    "\n",
    "query_features=pickle.load(open('data/X_train_bow_features.pkl','rb'))\n",
    "X_query = tf.constant(query_features, dtype=tf.float32, name=\"X_query\")\n",
    "\n",
    "ratings = pickle.load(open('data/Y_train_labels.pkl','rb'))\n",
    "X_ratings = tf.constant(ratings, dtype=tf.int32, name=\"X_ratings\")\n",
    "\n",
    "\n",
    "fixed_rewards = True\n",
    "\n",
    "def recommend(query_id，page_id):\n",
    "    \n",
    "    MIN_PROBABILITY = tf.constant(0.0)\n",
    "    POSITIVE_RATING_VAL = tf.constant(1)\n",
    "    clicked = tf.constant(1.0)\n",
    "    tfzero = tf.constant(0)\n",
    "    \n",
    "    def if_true(fixed_rewads=True):\n",
    "        if fixed_rewards:\n",
    "            return clicked\n",
    "        else:\n",
    "            return Binomial(total_count=1, logits=0.9)        \n",
    "        \n",
    "    def if_false():   \n",
    "        \n",
    "        current_page_feature=X_page[page_id]\n",
    "        current_query_features=X_query[query_id]\n",
    "        query_ratings = X_ratings[:,page_id]\n",
    "        query_pos_rat_idxs = tf.where(query_ratings)\n",
    "        query_pos_rat_idxs_size = tf.size(query_pos_rat_idxs)\n",
    "\n",
    "        result = tf.cond(tf.math.equal(query_pos_rat_idxs_size,tfzero), return_minprob, return_normalprob)\n",
    "        return result\n",
    "   \n",
    "    \n",
    "    def return_minprob():\n",
    "        return tf.constant(0.0)\n",
    "    \n",
    "    def return_normalprob():\n",
    "        tp1 = tf.gather_nd(X_query,query_pos_rat_idxs)\n",
    "        tp2 = tf.reshape(tf.nn.l2_normalize(current_query_features, 0),[300,1])\n",
    "        print(tp2)\n",
    "        tp3 = tf.reshape(tf.nn.l2_normalize(tp1, 0),[300,1])\n",
    "        match_likabilities = tf.losses.cosine_distance(tp2, tp3, dim=0)\n",
    "        print(match_likabilities)\n",
    "        result_match_likability = tf.math.reduce_mean(match_likabilities)\n",
    "        tfzeros = tf.to_float(tf.constant(0))\n",
    "        binomial_reward_probability = tf.cond(result_match_likability < tfzeros, lambda: MIN_PROBABILITY, lambda: result_match_likability)    \n",
    "        #return result, query_ratings, query_pos_rat_idxs, tp1, tp2, tp3, result_match_likability, binomial_reward_probability\n",
    "        return binomial_reward_probability\n",
    "    \n",
    "    \n",
    "#     my_ratings =tf.gather_nd(X_ratings, tf.stack((page_id, query_id), -1)) \n",
    "#     result = tf.cond(tf.math.equal(my_ratings,POSITIVE_RATING_VAL), if_true, if_false )\n",
    "    \n",
    "#    return result\n",
    "#    current_page_feature=tf.compat.v1.gather_nd(X_page, page_id, -1)\n",
    "\n",
    "    current_page_feature=X_page[page_id]\n",
    "    current_query_features=X_query[query_id]\n",
    "    query_ratings = X_ratings[:,page_id]\n",
    "    query_pos_rat_idxs = tf.where(query_ratings)\n",
    "    query_pos_rat_idxs_size = tf.size(query_pos_rat_idxs)\n",
    "    \n",
    "    result = tf.cond(tf.math.equal(query_pos_rat_idxs_size,tfzero), return_minprob, return_normalprob)\n",
    "\n",
    "        \n",
    "    print(query_pos_rat_idxs)\n",
    "    tp1 = tf.gather_nd(X_query,query_pos_rat_idxs)\n",
    "    tp2 = tf.reshape(tf.nn.l2_normalize(current_query_features, 0),[300,1])\n",
    "    print(tp2)\n",
    "    tp3 = tf.reshape(tf.nn.l2_normalize(tp1, 0),[300,1])\n",
    "    match_likabilities = tf.losses.cosine_distance(tp2, tp3, dim=0)\n",
    "    print(match_likabilities)\n",
    "    result_match_likability = tf.math.reduce_mean(match_likabilities)\n",
    "    tfzeros = tf.to_float(tf.constant(0))\n",
    "    binomial_reward_probability = tf.cond(result_match_likability < tfzeros, lambda: MIN_PROBABILITY, lambda: result_match_likability)    \n",
    "    return result, query_ratings, query_pos_rat_idxs, tp1, tp2, tp3, result_match_likability, binomial_reward_probability\n",
    "\n",
    "result, query_ratings, query_pos_rat_idxs, tp1, tp2, tp3, result_match_likability, binomial_reward_probability = recommend(1，1)\n",
    "\n",
    "with tf.Session(config=tf.ConfigProto(log_device_placement=True)) as sess:\n",
    "    #sess.run(ini_matmul)  # force initialisation.\n",
    "    init = tf.global_variables_initializer()\n",
    "    print(sess.run(result))\n",
    "    \n",
    "#     print(query_id)\n",
    "#     print(page_id)\n",
    "    \n",
    "#     if ratings[query_id, page_id] == 1:\n",
    "#         if fixed_rewards:\n",
    "#             return 1\n",
    "#         else:\n",
    "#             return np.random.binomial(n=1, p=prob_reward_p)  # Bernoulli coin toss\n",
    "#     else:\n",
    "\n",
    "#         # the goal is to update a missing \"\"\n",
    "#         current_page_features = page_features[page_id,:] #get the article features\n",
    "#         current_query_features = query_features[query_id,:]  #get the article features\n",
    "\n",
    "#         # find out for a page, what query is rated as relevant (which for new query should be none)\n",
    "#         query_ratings = ratings[:,page_id]  #get all ratings by article id, it is a column\n",
    "#         query_pos_rat_idxs = np.argwhere(query_ratings == 1).flatten() # get all other positive ratings of the same article\n",
    "#         num_known_ratings = len(query_pos_rat_idxs)  # length of all other positive ratings\n",
    "\n",
    "#         match_likabilities=[]\n",
    "\n",
    "#         for query_idx in query_pos_rat_idxs:\n",
    "#             match_likabilities.append(cosine_similarity(current_query_features.reshape(-1,1), query_features[query_idx].reshape(-1,1)))\n",
    "\n",
    "#         result_match_likability = np.average(match_likabilities)\n",
    "\n",
    "#         if math.isnan(result_match_likability):\n",
    "#             result_match_likability=0\n",
    "\n",
    "#         binomial_reward_probability = result_match_likability\n",
    "#         #print (binomial_reward_probability)\n",
    "#         if binomial_reward_probability <= 0:\n",
    "#             #print(\"User={}, item={}, genre likability={}\".format(user_id, item_id, result_genre_likability))\n",
    "#             binomial_reward_probability = MIN_PROBABILITY # this could be replaced by small probability\n",
    "\n",
    "#         approx_rating = np.random.binomial(n=1, p=binomial_reward_probability)  # Bernoulli coin toss\n",
    "\n",
    "#         if approx_rating == 1:\n",
    "#             ratings[query_id, page_id] = 1\n",
    "#         else:\n",
    "#             ratings[query_id, page_id] = 0\n",
    "\n",
    "        #return approx_rating"
   ]
  },
  {
   "cell_type": "code",
   "execution_count": 40,
   "metadata": {},
   "outputs": [
    {
     "data": {
      "text/plain": [
       "<tf.Tensor 'cond_4/Merge:0' shape=() dtype=float32>"
      ]
     },
     "execution_count": 40,
     "metadata": {},
     "output_type": "execute_result"
    }
   ],
   "source": [
    "s"
   ]
  },
  {
   "cell_type": "code",
   "execution_count": 46,
   "metadata": {},
   "outputs": [
    {
     "data": {
      "text/plain": [
       "array([0., 0., 0., 0., 0., 0., 0., 0., 0., 0., 0., 0., 0., 0., 0., 0., 0.,\n",
       "       0., 0., 0., 0., 0., 0., 0., 0., 0., 0., 0., 0., 0., 0., 0., 0., 0.,\n",
       "       0., 0., 0., 0., 0., 0., 0., 0., 0., 0., 0., 0., 0., 0., 0., 0., 0.,\n",
       "       0., 0., 0., 0., 0., 0., 0., 0., 0., 0., 0., 0., 0., 0., 0., 0., 0.,\n",
       "       0., 0., 0., 0., 0., 0., 0., 0., 0., 0., 0., 0., 0., 0., 0., 0., 0.,\n",
       "       0., 0., 0., 0., 0., 0., 0., 0., 0., 0., 0., 0., 0., 0., 0., 0., 0.,\n",
       "       0., 0., 0., 0., 0., 0., 0., 0., 0., 0., 0., 0., 0., 0., 0., 0., 0.,\n",
       "       0., 0., 0., 0., 0., 0., 0., 0., 0., 0., 0., 0., 0., 0., 0., 0., 0.,\n",
       "       0., 0., 0., 0., 0., 0., 0., 0., 0., 0., 0., 0., 0., 0., 0., 0., 0.,\n",
       "       0., 0., 0., 0., 0., 0., 0., 0., 0., 0., 0., 0., 0., 0., 0., 0., 0.,\n",
       "       0., 0., 0., 0., 0., 0., 0., 0., 0., 0., 0., 0., 0., 0., 0., 0., 0.,\n",
       "       0., 0., 0., 0., 0., 0., 0., 0., 0., 0., 0., 0., 0., 0., 0., 0., 0.,\n",
       "       0., 0., 0., 0., 0., 0., 0., 0., 0., 0., 0., 0., 0., 0., 0., 0., 0.,\n",
       "       0., 1., 0., 0., 0., 0., 0., 0., 0., 0., 0., 0., 0., 0., 0., 0., 0.,\n",
       "       0., 0., 0., 0., 0., 0., 0., 0., 0., 0., 0., 0., 0., 0., 0., 0., 0.,\n",
       "       0., 0., 0., 0., 0., 0., 0., 0., 0., 0., 0., 0., 0., 0., 0., 0., 0.,\n",
       "       0., 0., 0., 0., 0., 0., 0., 0., 0., 0., 0., 0., 0., 0., 0., 0., 0.,\n",
       "       0., 0., 0., 0., 0., 0., 0., 0., 0., 0., 0., 0., 0., 0., 0., 0., 0.,\n",
       "       0., 0., 0., 0., 0., 0., 0., 0., 0., 0., 0., 0., 0., 0., 0.])"
      ]
     },
     "execution_count": 46,
     "metadata": {},
     "output_type": "execute_result"
    }
   ],
   "source": [
    "ratings[0]"
   ]
  },
  {
   "cell_type": "code",
   "execution_count": null,
   "metadata": {},
   "outputs": [],
   "source": []
  }
 ],
 "metadata": {
  "kernelspec": {
   "display_name": "Python 3",
   "language": "python",
   "name": "python3"
  },
  "language_info": {
   "codemirror_mode": {
    "name": "ipython",
    "version": 3
   },
   "file_extension": ".py",
   "mimetype": "text/x-python",
   "name": "python",
   "nbconvert_exporter": "python",
   "pygments_lexer": "ipython3",
   "version": "3.6.9"
  }
 },
 "nbformat": 4,
 "nbformat_minor": 4
}
