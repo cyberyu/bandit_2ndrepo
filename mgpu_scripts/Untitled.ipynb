{
 "cells": [
  {
   "cell_type": "code",
   "execution_count": 4,
   "metadata": {},
   "outputs": [
    {
     "name": "stdout",
     "output_type": "stream",
     "text": [
      "507\n",
      "170\n"
     ]
    }
   ],
   "source": [
    "from itertools import product\n",
    "\n",
    "import random\n",
    "\n",
    "l1 = list(range(968))\n",
    "l2 = list(range(321))\n",
    "\n",
    "prod = tuple(product(l1, l2))\n",
    "\n",
    "[i,j]=random.choice(prod)\n",
    "print(i)\n",
    "print(j)\n"
   ]
  },
  {
   "cell_type": "code",
   "execution_count": null,
   "metadata": {},
   "outputs": [],
   "source": [
    "random.choice()"
   ]
  }
 ],
 "metadata": {
  "kernelspec": {
   "display_name": "Python 3",
   "language": "python",
   "name": "python3"
  },
  "language_info": {
   "codemirror_mode": {
    "name": "ipython",
    "version": 3
   },
   "file_extension": ".py",
   "mimetype": "text/x-python",
   "name": "python",
   "nbconvert_exporter": "python",
   "pygments_lexer": "ipython3",
   "version": "3.6.8"
  }
 },
 "nbformat": 4,
 "nbformat_minor": 4
}
