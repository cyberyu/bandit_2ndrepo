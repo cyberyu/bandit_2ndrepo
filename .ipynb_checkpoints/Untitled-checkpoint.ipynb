{
 "cells": [
  {
   "cell_type": "code",
   "execution_count": 2,
   "metadata": {},
   "outputs": [],
   "source": [
    "def choose_arm(self, t, unknown_item_ids, verbosity):\n",
    "    \"\"\"\n",
    "    Choose an arm to pull = item to recommend to user t that he did not rate yet.\n",
    "    :param t: User_id of user to recommend to.\n",
    "    :param unknown_item_ids: Indexes of items that user t has not rated yet.\n",
    "    :return: Received reward for selected item = 1/0 = user liked/disliked item.\n",
    "    \"\"\"\n",
    "    A = self.A\n",
    "    b = self.b\n",
    "    arm_features = self.dataset.get_features_of_current_arms(t=t)\n",
    "    p_t = np.zeros(shape=(arm_features.shape[0],), dtype=float)\n",
    "    p_t -= 9999  # I never want to select the already rated items\n",
    "    item_ids = unknown_item_ids\n",
    "\n",
    "    if self.allow_selecting_known_arms:\n",
    "        item_ids = range(self.dataset.num_items)\n",
    "        p_t += 9999\n",
    "\n",
    "    for a in item_ids:  # iterate over all arms\n",
    "        x_ta = arm_features[a].reshape(arm_features[a].shape[0], 1)  # make a column vector\n",
    "        A_a_inv = np.linalg.inv(A[a])\n",
    "        theta_a = A_a_inv.dot(b[a])\n",
    "        p_t[a] = theta_a.T.dot(x_ta) + self.alpha * np.sqrt(x_ta.T.dot(A_a_inv).dot(x_ta))\n",
    "\n",
    "    max_p_t = np.max(p_t)\n",
    "    if max_p_t <= 0:\n",
    "        print(\"User {} has max p_t={}, p_t={}\".format(t, max_p_t, p_t))\n",
    "\n",
    "    # I want to randomly break ties, np.argmax return the first occurence of maximum.\n",
    "    # So I will get all occurences of the max and randomly select between them\n",
    "    max_idxs = np.argwhere(p_t == max_p_t).flatten()\n",
    "    a_t = np.random.choice(max_idxs)  # idx of article to recommend to user t\n",
    "\n",
    "    # observed reward = 1/0\n",
    "    r_t = self.dataset.recommend(user_id=t, item_id=a_t,\n",
    "                                 fixed_rewards=self.fixed_rewards, prob_reward_p=self.prob_reward_p)\n",
    "\n",
    "    if verbosity >= 2:\n",
    "        print(\"User {} choosing item {} with p_t={} reward {}\".format(t, a_t, p_t[a_t], r_t))\n",
    "\n",
    "    x_t_at = arm_features[a_t].reshape(arm_features[a_t].shape[0], 1)  # make a column vector\n",
    "    A[a_t] = A[a_t] + x_t_at.dot(x_t_at.T)\n",
    "    b[a_t] = b[a_t] + r_t * x_t_at.flatten()  # turn it back into an array because b[a_t] is an array\n",
    "\n",
    "    return r_t"
   ]
  },
  {
   "cell_type": "code",
   "execution_count": 3,
   "metadata": {},
   "outputs": [],
   "source": [
    "def run_epoch(self, verbosity=2):\n",
    "    \"\"\"\n",
    "    Call choose_arm() for each user in the dataset.\n",
    "    :return: Average received reward.\n",
    "    \"\"\"\n",
    "    rewards = []\n",
    "    start_time = time.time()\n",
    "\n",
    "    for i in range(self.dataset.num_users):\n",
    "        start_time_i = time.time()\n",
    "        #user_id = self.dataset.get_next_user()\n",
    "        user_id = 1\n",
    "        unknown_item_ids = self.dataset.get_uknown_items_of_user(user_id)\n",
    "\n",
    "        if self.allow_selecting_known_arms == False:\n",
    "            if user_id not in self.users_with_unrated_items:\n",
    "                continue\n",
    "\n",
    "            if unknown_item_ids.size == 0:\n",
    "                print(\"User {} has no more unknown ratings, skipping him.\".format(user_id))\n",
    "                self.users_with_unrated_items = self.users_with_unrated_items[\n",
    "                    self.users_with_unrated_items != user_id]\n",
    "                continue\n",
    "\n",
    "        rewards.append(self.choose_arm(user_id, unknown_item_ids, verbosity))\n",
    "        time_i = time.time() - start_time_i\n",
    "        if verbosity >= 2:\n",
    "            print(\"Choosing arm for user {}/{} ended with reward {} in {}s\".format(i, self.dataset.num_users,\n",
    "                                                                                   rewards[i], time_i))\n",
    "\n",
    "    total_time = time.time() - start_time\n",
    "    avg_reward = np.average(np.array(rewards))\n",
    "    return avg_reward, total_time"
   ]
  },
  {
   "cell_type": "code",
   "execution_count": 4,
   "metadata": {},
   "outputs": [],
   "source": [
    "def run(self, num_epochs, verbosity=1):\n",
    "    \"\"\"\n",
    "    Runs run_epoch() num_epoch times.\n",
    "    :param num_epochs: Number of epochs = iterating over all users.\n",
    "    :return: List of average rewards per epoch.\n",
    "    \"\"\"\n",
    "    self.users_with_unrated_items = np.array(range(self.dataset.num_users))\n",
    "    avg_rewards = np.zeros(shape=(num_epochs,), dtype=float)\n",
    "    for i in range(num_epochs):\n",
    "        avg_rewards[i], total_time = self.run_epoch(verbosity)\n",
    "\n",
    "        if verbosity >= 1:\n",
    "            print(\n",
    "                \"Finished epoch {}/{} with avg reward {} in {}s\".format(i, num_epochs, avg_rewards[i], total_time))\n",
    "    return avg_rewards\n"
   ]
  },
  {
   "cell_type": "code",
   "execution_count": 5,
   "metadata": {},
   "outputs": [
    {
     "name": "stdout",
     "output_type": "stream",
     "text": [
      "data/movielens/ml-100k.zip is already downloaded.\n",
      "Created a rating matrix of shape=(943, 1682) and dtype=float64 from u.data.\n",
      "Positive ratings (>=4) turned to 1, negative to -1, unknown to 0\n",
      "Created a genre matrix of shape=(1682, 19) and dtype=float64 from u.item.\n",
      "Created a titles matrix of shape=(1682,) and dtype=object from u.item.\n",
      "Statistics about self.R:\n",
      "Number of users:           943\n",
      "Number of items:           1682\n",
      "Total number of ratings:   1586126\n",
      "Known ratings:             100000\n",
      "Known positive ratings:    55375\n",
      "Known negative ratings:    44625\n",
      "Ratio of known ratings:    0.06304669364224531\n",
      "Ratio of positive ratings: 0.034912106604393346\n",
      "Ratio of negative ratings: 0.028134587037851974\n",
      "Avg number of positive ratings per user: 58.72216330858961 +- 54.67211827074995\n",
      "Avg number of negative ratings per user: 47.32237539766702 +- 58.41143787053165\n",
      "Shrinked rating matrix from (943, 1682) to (56, 100).\n",
      "\n",
      "After shrinking:\n",
      "Number of users:           56\n",
      "Number of items:           100\n",
      "Total number of ratings:   5600\n",
      "Known ratings:             903\n",
      "Known positive ratings:    606\n",
      "Known negative ratings:    297\n",
      "Ratio of known ratings:    0.16125\n",
      "Ratio of positive ratings: 0.10821428571428572\n",
      "Ratio of negative ratings: 0.05303571428571428\n",
      "Avg number of positive ratings per user: 10.821428571428571 +- 11.918034268130233\n",
      "Avg number of negative ratings per user: 5.303571428571429 +- 8.209140469312118\n",
      "\n",
      "Initializing matrix A of shape (100, 119, 119) which will require 11.3288MB of memory.\n",
      "\n",
      "LinUCB successfully initialized.\n"
     ]
    }
   ],
   "source": [
    "%matplotlib inline\n",
    "\n",
    "from movielens import MovieLens\n",
    "from linUCB import LinUCB\n",
    "import numpy as np\n",
    "import matplotlib.pyplot as plt\n",
    "\n",
    "ucb = LinUCB(alpha=0.1, dataset=None, max_items=100, allow_selecting_known_arms=True)"
   ]
  },
  {
   "cell_type": "code",
   "execution_count": 6,
   "metadata": {},
   "outputs": [
    {
     "name": "stdout",
     "output_type": "stream",
     "text": [
      "Finished epoch 0/50 with avg reward 0.6071428571428571 in 14.500527143478394s\n",
      "Finished epoch 1/50 with avg reward 0.6607142857142857 in 14.334065198898315s\n",
      "Finished epoch 2/50 with avg reward 0.6607142857142857 in 14.3665132522583s\n",
      "Finished epoch 3/50 with avg reward 0.75 in 14.377326965332031s\n",
      "Finished epoch 4/50 with avg reward 0.7857142857142857 in 14.437201976776123s\n",
      "Finished epoch 5/50 with avg reward 0.7678571428571429 in 14.418016195297241s\n",
      "Finished epoch 6/50 with avg reward 0.75 in 14.375968933105469s\n",
      "Finished epoch 7/50 with avg reward 0.7857142857142857 in 14.319285154342651s\n",
      "Finished epoch 8/50 with avg reward 0.7857142857142857 in 14.34835696220398s\n",
      "Finished epoch 9/50 with avg reward 0.7857142857142857 in 14.370368003845215s\n",
      "Finished epoch 10/50 with avg reward 0.8392857142857143 in 14.344504833221436s\n",
      "Finished epoch 11/50 with avg reward 0.8392857142857143 in 14.513375043869019s\n",
      "Finished epoch 12/50 with avg reward 0.875 in 15.184378862380981s\n",
      "Finished epoch 13/50 with avg reward 0.8571428571428571 in 15.814091682434082s\n",
      "Finished epoch 14/50 with avg reward 0.875 in 14.51321816444397s\n",
      "Finished epoch 15/50 with avg reward 0.875 in 14.367068767547607s\n",
      "Finished epoch 16/50 with avg reward 0.875 in 14.555147171020508s\n",
      "Finished epoch 17/50 with avg reward 0.875 in 15.1560959815979s\n",
      "Finished epoch 18/50 with avg reward 0.875 in 15.332138061523438s\n",
      "Finished epoch 19/50 with avg reward 0.875 in 15.327666997909546s\n",
      "Finished epoch 20/50 with avg reward 0.875 in 14.368128061294556s\n",
      "Finished epoch 21/50 with avg reward 0.8928571428571429 in 15.425822019577026s\n",
      "Finished epoch 22/50 with avg reward 0.9107142857142857 in 14.93008303642273s\n",
      "Finished epoch 23/50 with avg reward 0.9107142857142857 in 14.920291185379028s\n",
      "Finished epoch 24/50 with avg reward 0.8928571428571429 in 15.163061141967773s\n",
      "Finished epoch 25/50 with avg reward 0.875 in 14.99261212348938s\n",
      "Finished epoch 26/50 with avg reward 0.8928571428571429 in 14.346513032913208s\n",
      "Finished epoch 27/50 with avg reward 0.9107142857142857 in 14.450438022613525s\n",
      "Finished epoch 28/50 with avg reward 0.9107142857142857 in 14.320413827896118s\n",
      "Finished epoch 29/50 with avg reward 0.9107142857142857 in 14.541912078857422s\n",
      "Finished epoch 30/50 with avg reward 0.9107142857142857 in 15.634641885757446s\n",
      "Finished epoch 31/50 with avg reward 0.9107142857142857 in 16.503458976745605s\n",
      "Finished epoch 32/50 with avg reward 0.9107142857142857 in 15.064769744873047s\n",
      "Finished epoch 33/50 with avg reward 0.9107142857142857 in 15.370804071426392s\n",
      "Finished epoch 34/50 with avg reward 0.9107142857142857 in 15.453768968582153s\n",
      "Finished epoch 35/50 with avg reward 0.9107142857142857 in 14.910958051681519s\n",
      "Finished epoch 36/50 with avg reward 0.9107142857142857 in 15.354181289672852s\n",
      "Finished epoch 37/50 with avg reward 0.9107142857142857 in 15.235933303833008s\n",
      "Finished epoch 38/50 with avg reward 0.9107142857142857 in 14.943327903747559s\n",
      "Finished epoch 39/50 with avg reward 0.9107142857142857 in 16.532732009887695s\n",
      "Finished epoch 40/50 with avg reward 0.9107142857142857 in 15.441825866699219s\n",
      "Finished epoch 41/50 with avg reward 0.9107142857142857 in 15.411481142044067s\n",
      "Finished epoch 42/50 with avg reward 0.9107142857142857 in 15.319484949111938s\n",
      "Finished epoch 43/50 with avg reward 0.9107142857142857 in 15.061509132385254s\n",
      "Finished epoch 44/50 with avg reward 0.9107142857142857 in 14.962181091308594s\n",
      "Finished epoch 45/50 with avg reward 0.9285714285714286 in 15.18989896774292s\n",
      "Finished epoch 46/50 with avg reward 0.9285714285714286 in 14.881639242172241s\n",
      "Finished epoch 47/50 with avg reward 0.9285714285714286 in 14.880629062652588s\n",
      "Finished epoch 48/50 with avg reward 0.9285714285714286 in 14.732311964035034s\n",
      "Finished epoch 49/50 with avg reward 0.9285714285714286 in 14.730958223342896s\n"
     ]
    }
   ],
   "source": [
    "avg_reward = ucb.run(num_epochs=5)"
   ]
  },
  {
   "cell_type": "code",
   "execution_count": 7,
   "metadata": {},
   "outputs": [
    {
     "data": {
      "text/plain": [
       "Text(0.5, 1.0, 'LinUCB: Fixed rewards')"
      ]
     },
     "execution_count": 7,
     "metadata": {},
     "output_type": "execute_result"
    },
    {
     "data": {
      "image/png": "[encoded data removed]",
      "text/plain": [
       "<Figure size 504x360 with 1 Axes>"
      ]
     },
     "metadata": {
      "needs_background": "light"
     },
     "output_type": "display_data"
    }
   ],
   "source": [
    "from matplotlib.pylab import rcParams\n",
    "rcParams['figure.figsize'] = 7, 5\n",
    "plt.plot(range(len(avg_reward)), avg_reward)\n",
    "plt.ylabel('average reward in epoch')\n",
    "plt.ylim(0.2, 1)\n",
    "plt.xlabel('epoch (1 epoch = recommended to all users)')\n",
    "plt.title('LinUCB: Fixed rewards')"
   ]
  },
  {
   "cell_type": "code",
   "execution_count": null,
   "metadata": {},
   "outputs": [],
   "source": []
  }
 ],
 "metadata": {
  "kernelspec": {
   "display_name": "Python 3",
   "language": "python",
   "name": "python3"
  },
  "language_info": {
   "codemirror_mode": {
    "name": "ipython",
    "version": 3
   },
   "file_extension": ".py",
   "mimetype": "text/x-python",
   "name": "python",
   "nbconvert_exporter": "python",
   "pygments_lexer": "ipython3",
   "version": "3.6.9"
  }
 },
 "nbformat": 4,
 "nbformat_minor": 4
}
