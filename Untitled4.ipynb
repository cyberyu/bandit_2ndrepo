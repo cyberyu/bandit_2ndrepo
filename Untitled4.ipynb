{
 "cells": [
  {
   "cell_type": "code",
   "execution_count": 1,
   "metadata": {},
   "outputs": [],
   "source": [
    "import tensorflow as tf\n",
    "import numpy as np\n",
    "#tf.enable_eager_execution()\n",
    "\n",
    "x1 = tf.Variable(np.array([[2, 2, 3, 4], [1, 5, 3, 2] ,[6, 7, 2, 1]], dtype = np.float32), name = 'x1')\n",
    "x_to_write=tf.Variable(np.array([0,0,0,0], dtype = np.float32), name = 'x1')\n",
    "\n",
    "max_loop = tf.shape(x1)[0]\n",
    "\n",
    "def cumulativeSum(i, pre_ele):\n",
    "    next_ele = tf.nn.embedding_lookup(x1,i) # get the next ele in x1\n",
    "    \n",
    "    r = np.random.binomial(n=1, p=0.2)\n",
    "    result = pre_ele + next_ele * r\n",
    "    i_next = i + 1\n",
    "    return i_next, result\n",
    "\n",
    "init_result = tf.Variable(np.array([0, 0, 0, 0], dtype = np.float32))\n",
    "_, result = tf.while_loop(cond = lambda i, result: tf.less(i, max_loop),\n",
    "                          body = cumulativeSum,\n",
    "                          loop_vars = (\n",
    "                                       tf.constant(0, dtype=tf.int32),\n",
    "                                       init_result\n",
    "                                       )\n",
    "                          )    "
   ]
  },
  {
   "cell_type": "code",
   "execution_count": 4,
   "metadata": {},
   "outputs": [
    {
     "name": "stdout",
     "output_type": "stream",
     "text": [
      "tf.Tensor([0. 0. 0. 0.], shape=(4,), dtype=float32)\n"
     ]
    }
   ],
   "source": [
    "print(result)"
   ]
  },
  {
   "cell_type": "code",
   "execution_count": null,
   "metadata": {},
   "outputs": [],
   "source": []
  }
 ],
 "metadata": {
  "kernelspec": {
   "display_name": "Python 3",
   "language": "python",
   "name": "python3"
  },
  "language_info": {
   "codemirror_mode": {
    "name": "ipython",
    "version": 3
   },
   "file_extension": ".py",
   "mimetype": "text/x-python",
   "name": "python",
   "nbconvert_exporter": "python",
   "pygments_lexer": "ipython3",
   "version": "3.7.4"
  }
 },
 "nbformat": 4,
 "nbformat_minor": 4
}
