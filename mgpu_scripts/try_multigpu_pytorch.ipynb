{
 "cells": [
  {
   "cell_type": "code",
   "execution_count": 1,
   "metadata": {},
   "outputs": [],
   "source": [
    "from __future__ import print_function\n",
    "import numpy as np\n",
    "import torch\n",
    "import datetime"
   ]
  },
  {
   "cell_type": "code",
   "execution_count": 2,
   "metadata": {},
   "outputs": [],
   "source": [
    "# Num of multiplications to perform\n",
    "n = 10\n",
    "\n",
    "# Create random large matrix\n",
    "A = np.random.rand(10000, 10000).astype('float32')\n",
    "B = np.random.rand(10000, 10000).astype('float32')\n"
   ]
  },
  {
   "cell_type": "code",
   "execution_count": 3,
   "metadata": {},
   "outputs": [],
   "source": [
    "def matpow(M, n):\n",
    "    if n < 1: #Abstract cases where n < 1\n",
    "        return M\n",
    "    else:\n",
    "        return torch.matmul(M, matpow(M, n-1))"
   ]
  },
  {
   "cell_type": "code",
   "execution_count": 4,
   "metadata": {},
   "outputs": [],
   "source": [
    "a = torch.from_numpy(A)\n",
    "b = torch.from_numpy(B)"
   ]
  },
  {
   "cell_type": "code",
   "execution_count": 5,
   "metadata": {},
   "outputs": [
    {
     "name": "stdout",
     "output_type": "stream",
     "text": [
      "CPU computation time: 0:00:01.905853\n"
     ]
    }
   ],
   "source": [
    "# cpu\n",
    "t1 = datetime.datetime.now()\n",
    "an = matpow(a, n)\n",
    "bn = matpow(b, n)\n",
    "t2 = datetime.datetime.now()\n",
    "print(\"CPU computation time: \" + str(t2-t1))"
   ]
  },
  {
   "cell_type": "code",
   "execution_count": 12,
   "metadata": {},
   "outputs": [
    {
     "name": "stdout",
     "output_type": "stream",
     "text": [
      "Single GPU computation time: 0:00:05.339965\n"
     ]
    }
   ],
   "source": [
    "# single gpu\n",
    "t1 = datetime.datetime.now()\n",
    "cuda0 = torch.device('cuda:0')\n",
    "with torch.no_grad():\n",
    "    with torch.cuda.device(1):\n",
    "        an=matpow(a.to(device=cuda0), n)\n",
    "        bn=matpow(b.to(device=cuda0), n)\n",
    "t2 = datetime.datetime.now()\n",
    "print(\"Single GPU computation time: \" + str(t2-t1))"
   ]
  },
  {
   "cell_type": "code",
   "execution_count": 6,
   "metadata": {},
   "outputs": [
    {
     "name": "stdout",
     "output_type": "stream",
     "text": [
      "Multiple GPU computation time: 0:00:05.268709\n"
     ]
    }
   ],
   "source": [
    "# multi gpu with cuda stream\n",
    "# https://stackoverflow.com/questions/44371682/basic-multi-gpu-parallelization-of-matrix-multiplication\n",
    "# https://stackoverflow.com/questions/52498690/how-to-use-cuda-stream-in-pytorch\n",
    "# https://towardsdatascience.com/speed-up-your-algorithms-part-1-pytorch-56d8a4ae7051\n",
    "# https://github.com/tensorflow/tensorflow/issues/36634#issuecomment-608160593\n",
    "s1 = torch.cuda.Stream()\n",
    "s2 = torch.cuda.Stream() # these takes 0.05s\n",
    "t1 = datetime.datetime.now()\n",
    "A = a.cuda(0)\n",
    "B = b.cuda(1)\n",
    "torch.cuda.synchronize()\n",
    "with torch.no_grad():\n",
    "    with torch.cuda.stream(s1):\n",
    "        an=matpow(A, n)\n",
    "    with torch.cuda.stream(s2):\n",
    "        bn=matpow(B, n)\n",
    "torch.cuda.synchronize()\n",
    "t2 = datetime.datetime.now()\n",
    "print(\"Multiple GPU computation time: \" + str(t2-t1))"
   ]
  },
  {
   "cell_type": "code",
   "execution_count": 13,
   "metadata": {},
   "outputs": [
    {
     "name": "stdout",
     "output_type": "stream",
     "text": [
      "Multiple GPU computation time: 0:00:05.307378\n"
     ]
    }
   ],
   "source": [
    "\n",
    "s1 = torch.cuda.Stream()\n",
    "s2 = torch.cuda.Stream() # these takes 0.05s\n",
    "t1 = datetime.datetime.now()\n",
    "A = a.cuda(0)\n",
    "B = b.cuda(1)\n",
    "torch.cuda.synchronize()\n",
    "with torch.no_grad():\n",
    "    with torch.cuda.stream(s1):\n",
    "        an=matpow(A, n)\n",
    "    with torch.cuda.stream(s2):\n",
    "        bn=matpow(B, n)\n",
    "torch.cuda.synchronize()\n",
    "t2 = datetime.datetime.now()\n",
    "print(\"Multiple GPU computation time: \" + str(t2-t1))"
   ]
  },
  {
   "cell_type": "code",
   "execution_count": 25,
   "metadata": {},
   "outputs": [
    {
     "data": {
      "text/plain": [
       "device(type='cuda', index=0)"
      ]
     },
     "execution_count": 25,
     "metadata": {},
     "output_type": "execute_result"
    }
   ],
   "source": [
    "an.device"
   ]
  },
  {
   "cell_type": "code",
   "execution_count": 26,
   "metadata": {},
   "outputs": [
    {
     "data": {
      "text/plain": [
       "device(type='cuda', index=1)"
      ]
     },
     "execution_count": 26,
     "metadata": {},
     "output_type": "execute_result"
    }
   ],
   "source": [
    "bn.device"
   ]
  },
  {
   "cell_type": "code",
   "execution_count": 5,
   "metadata": {},
   "outputs": [
    {
     "name": "stdout",
     "output_type": "stream",
     "text": [
      "Multiple GPU computation time: 0:00:08.085382\n"
     ]
    }
   ],
   "source": [
    "# negative example: multi gpu (does not work)\n",
    "cuda0 = torch.device('cuda:0')\n",
    "cuda1 = torch.device('cuda:1')\n",
    "t1 = datetime.datetime.now()\n",
    "with torch.no_grad():\n",
    "    with torch.cuda.device(0):\n",
    "        an=matpow(a.to(device=cuda0), n)\n",
    "    with torch.cuda.device(1):\n",
    "        bn=matpow(b.to(device=cuda1), n)\n",
    "t2 = datetime.datetime.now()\n",
    "print(\"Multiple GPU computation time: \" + str(t2-t1))\n"
   ]
  },
  {
   "cell_type": "code",
   "execution_count": 15,
   "metadata": {},
   "outputs": [],
   "source": [
    "del an, bn, A, B\n",
    "with torch.no_grad():\n",
    "    torch.cuda.empty_cache()"
   ]
  },
  {
   "cell_type": "code",
   "execution_count": 20,
   "metadata": {},
   "outputs": [],
   "source": [
    "import tensorflow as tf\n",
    "x = tf.constant([1, 4])\n",
    "y = tf.constant([2, 5])\n",
    "z = tf.constant([3, 6])"
   ]
  },
  {
   "cell_type": "code",
   "execution_count": 21,
   "metadata": {},
   "outputs": [
    {
     "data": {
      "text/plain": [
       "<tf.Tensor: id=22, shape=(6,), dtype=int32, numpy=array([1, 4, 2, 5, 3, 6], dtype=int32)>"
      ]
     },
     "execution_count": 21,
     "metadata": {},
     "output_type": "execute_result"
    }
   ],
   "source": [
    "tf.concat([x, y, z], -1)"
   ]
  },
  {
   "cell_type": "code",
   "execution_count": 34,
   "metadata": {},
   "outputs": [],
   "source": [
    "x = torch.tensor([1, 4])\n",
    "y = torch.tensor([2, 5])\n",
    "z = torch.tensor([3, 6])"
   ]
  },
  {
   "cell_type": "code",
   "execution_count": 41,
   "metadata": {},
   "outputs": [
    {
     "data": {
      "text/plain": [
       "tensor([0, 2, 0, 1, 1])"
      ]
     },
     "execution_count": 41,
     "metadata": {},
     "output_type": "execute_result"
    }
   ],
   "source": [
    "a = torch.randn((5,6))\n",
    "torch.argmax(a, 1)"
   ]
  },
  {
   "cell_type": "code",
   "execution_count": 44,
   "metadata": {},
   "outputs": [],
   "source": [
    "b = tf.constant(a.numpy())"
   ]
  },
  {
   "cell_type": "code",
   "execution_count": 46,
   "metadata": {},
   "outputs": [
    {
     "data": {
      "text/plain": [
       "<tf.Tensor: id=27, shape=(5,), dtype=int64, numpy=array([0, 2, 0, 1, 1])>"
      ]
     },
     "execution_count": 46,
     "metadata": {},
     "output_type": "execute_result"
    }
   ],
   "source": [
    "tf.argmax(b, -1)"
   ]
  }
 ],
 "metadata": {
  "kernelspec": {
   "display_name": "Python 3",
   "language": "python",
   "name": "python3"
  },
  "language_info": {
   "codemirror_mode": {
    "name": "ipython",
    "version": 3
   },
   "file_extension": ".py",
   "mimetype": "text/x-python",
   "name": "python",
   "nbconvert_exporter": "python",
   "pygments_lexer": "ipython3",
   "version": "3.6.8"
  }
 },
 "nbformat": 4,
 "nbformat_minor": 4
}
