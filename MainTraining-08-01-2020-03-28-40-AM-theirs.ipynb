{
 "cells": [
  {
   "cell_type": "code",
   "execution_count": 1,
   "metadata": {},
   "outputs": [
    {
     "name": "stdout",
     "output_type": "stream",
     "text": [
      "\n",
      "Initializing matrix A of shape (321, 325, 325) which will require 271.245MB of memory.\n",
      "\n",
      "LinUCB successfully initialized.\n"
     ]
    },
    {
     "data": {
      "text/plain": [
       "array([[0., 1., 0., ..., 0., 0., 0.],\n",
       "       [0., 0., 1., ..., 0., 0., 0.],\n",
       "       [0., 0., 0., ..., 0., 0., 0.],\n",
       "       ...,\n",
       "       [0., 0., 0., ..., 0., 1., 0.],\n",
       "       [0., 0., 0., ..., 0., 0., 1.],\n",
       "       [0., 0., 0., ..., 0., 0., 0.]])"
      ]
     },
     "execution_count": 1,
     "metadata": {},
     "output_type": "execute_result"
    }
   ],
   "source": [
    "%matplotlib inline\n",
    "\n",
    "from linUCB_ver2 import LinUCB\n",
    "import numpy as np\n",
    "import matplotlib.pyplot as plt\n",
    "\n",
    "ucb = LinUCB(alpha=0.1, max_items=100, allow_selecting_known_arms=True)\n",
    "\n",
    "ucb.remove_random_ratings(20)"
   ]
  },
  {
   "cell_type": "code",
   "execution_count": 2,
   "metadata": {},
   "outputs": [
    {
     "data": {
      "text/plain": [
       "(321, 325, 325)"
      ]
     },
     "execution_count": 2,
     "metadata": {},
     "output_type": "execute_result"
    }
   ],
   "source": [
    "ucb.A.shape"
   ]
  },
  {
   "cell_type": "code",
   "execution_count": 3,
   "metadata": {},
   "outputs": [
    {
     "name": "stdout",
     "output_type": "stream",
     "text": [
      "the updated a_t among all arms is 129\n",
      "the updated a_t among all arms is 282\n",
      "the updated a_t among all arms is 67\n",
      "the updated a_t among all arms is 44\n",
      "the updated a_t among all arms is 228\n",
      "the updated a_t among all arms is 180\n",
      "the updated a_t among all arms is 217\n",
      "the updated a_t among all arms is 260\n",
      "the updated a_t among all arms is 314\n",
      "the updated a_t among all arms is 74\n",
      "the updated a_t among all arms is 166\n",
      "the updated a_t among all arms is 179\n",
      "the updated a_t among all arms is 262\n",
      "the updated a_t among all arms is 102\n",
      "the updated a_t among all arms is 229\n",
      "the updated a_t among all arms is 4\n",
      "the updated a_t among all arms is 246\n",
      "the updated a_t among all arms is 211\n",
      "the updated a_t among all arms is 47\n",
      "the updated a_t among all arms is 164\n",
      "the updated a_t among all arms is 23\n",
      "the updated a_t among all arms is 15\n",
      "the updated a_t among all arms is 58\n",
      "the updated a_t among all arms is 151\n",
      "the updated a_t among all arms is 319\n",
      "the updated a_t among all arms is 249\n",
      "the updated a_t among all arms is 302\n",
      "the updated a_t among all arms is 177\n",
      "the updated a_t among all arms is 119\n",
      "the updated a_t among all arms is 219\n",
      "the updated a_t among all arms is 121\n",
      "the updated a_t among all arms is 0\n",
      "the updated a_t among all arms is 255\n",
      "the updated a_t among all arms is 110\n",
      "the updated a_t among all arms is 149\n",
      "the updated a_t among all arms is 34\n",
      "the updated a_t among all arms is 7\n",
      "the updated a_t among all arms is 280\n",
      "the updated a_t among all arms is 312\n",
      "the updated a_t among all arms is 59\n",
      "the updated a_t among all arms is 18\n",
      "the updated a_t among all arms is 16\n",
      "the updated a_t among all arms is 299\n",
      "the updated a_t among all arms is 300\n",
      "the updated a_t among all arms is 197\n",
      "the updated a_t among all arms is 175\n",
      "the updated a_t among all arms is 71\n",
      "the updated a_t among all arms is 230\n",
      "the updated a_t among all arms is 38\n",
      "the updated a_t among all arms is 13\n",
      "the updated a_t among all arms is 36\n",
      "the updated a_t among all arms is 238\n",
      "the updated a_t among all arms is 114\n",
      "the updated a_t among all arms is 220\n",
      "the updated a_t among all arms is 136\n",
      "the updated a_t among all arms is 17\n",
      "the updated a_t among all arms is 213\n",
      "the updated a_t among all arms is 20\n",
      "the updated a_t among all arms is 268\n",
      "the updated a_t among all arms is 55\n",
      "the updated a_t among all arms is 248\n",
      "the updated a_t among all arms is 40\n",
      "the updated a_t among all arms is 84\n",
      "the updated a_t among all arms is 291\n",
      "the updated a_t among all arms is 265\n",
      "the updated a_t among all arms is 124\n",
      "the updated a_t among all arms is 28\n",
      "the updated a_t among all arms is 162\n",
      "the updated a_t among all arms is 105\n",
      "the updated a_t among all arms is 309\n",
      "the updated a_t among all arms is 86\n",
      "the updated a_t among all arms is 82\n",
      "the updated a_t among all arms is 237\n",
      "the updated a_t among all arms is 43\n",
      "the updated a_t among all arms is 303\n",
      "the updated a_t among all arms is 108\n",
      "the updated a_t among all arms is 289\n",
      "the updated a_t among all arms is 45\n",
      "the updated a_t among all arms is 142\n",
      "the updated a_t among all arms is 186\n",
      "the updated a_t among all arms is 77\n",
      "the updated a_t among all arms is 27\n",
      "the updated a_t among all arms is 163\n",
      "the updated a_t among all arms is 306\n",
      "the updated a_t among all arms is 240\n",
      "the updated a_t among all arms is 115\n",
      "the updated a_t among all arms is 286\n",
      "the updated a_t among all arms is 153\n",
      "the updated a_t among all arms is 320\n",
      "the updated a_t among all arms is 31\n",
      "the updated a_t among all arms is 75\n",
      "the updated a_t among all arms is 270\n",
      "the updated a_t among all arms is 5\n",
      "the updated a_t among all arms is 273\n",
      "the updated a_t among all arms is 244\n",
      "the updated a_t among all arms is 69\n",
      "the updated a_t among all arms is 138\n",
      "the updated a_t among all arms is 101\n",
      "the updated a_t among all arms is 298\n",
      "the updated a_t among all arms is 310\n",
      "the updated a_t among all arms is 50\n",
      "the updated a_t among all arms is 283\n",
      "the updated a_t among all arms is 6\n",
      "the updated a_t among all arms is 109\n",
      "the updated a_t among all arms is 48\n",
      "the updated a_t among all arms is 52\n",
      "the updated a_t among all arms is 253\n",
      "the updated a_t among all arms is 277\n",
      "the updated a_t among all arms is 135\n",
      "the updated a_t among all arms is 154\n",
      "the updated a_t among all arms is 313\n",
      "the updated a_t among all arms is 97\n",
      "the updated a_t among all arms is 29\n",
      "the updated a_t among all arms is 231\n",
      "the updated a_t among all arms is 242\n",
      "the updated a_t among all arms is 182\n",
      "the updated a_t among all arms is 190\n",
      "the updated a_t among all arms is 318\n",
      "the updated a_t among all arms is 225\n",
      "the updated a_t among all arms is 276\n",
      "the updated a_t among all arms is 91\n",
      "the updated a_t among all arms is 106\n",
      "the updated a_t among all arms is 78\n",
      "the updated a_t among all arms is 203\n",
      "the updated a_t among all arms is 196\n",
      "the updated a_t among all arms is 192\n",
      "the updated a_t among all arms is 266\n",
      "the updated a_t among all arms is 263\n",
      "the updated a_t among all arms is 201\n",
      "the updated a_t among all arms is 250\n",
      "the updated a_t among all arms is 218\n",
      "the updated a_t among all arms is 188\n",
      "the updated a_t among all arms is 100\n",
      "the updated a_t among all arms is 155\n",
      "the updated a_t among all arms is 25\n",
      "the updated a_t among all arms is 208\n",
      "the updated a_t among all arms is 316\n",
      "the updated a_t among all arms is 120\n",
      "the updated a_t among all arms is 104\n",
      "the updated a_t among all arms is 189\n",
      "the updated a_t among all arms is 193\n",
      "the updated a_t among all arms is 245\n",
      "the updated a_t among all arms is 187\n",
      "the updated a_t among all arms is 11\n",
      "the updated a_t among all arms is 125\n",
      "the updated a_t among all arms is 112\n",
      "the updated a_t among all arms is 185\n",
      "the updated a_t among all arms is 174\n",
      "the updated a_t among all arms is 259\n",
      "the updated a_t among all arms is 39\n",
      "the updated a_t among all arms is 258\n",
      "the updated a_t among all arms is 167\n",
      "the updated a_t among all arms is 267\n",
      "the updated a_t among all arms is 111\n",
      "the updated a_t among all arms is 63\n",
      "the updated a_t among all arms is 181\n",
      "the updated a_t among all arms is 214\n",
      "the updated a_t among all arms is 117\n",
      "the updated a_t among all arms is 207\n",
      "the updated a_t among all arms is 152\n",
      "the updated a_t among all arms is 41\n",
      "the updated a_t among all arms is 92\n",
      "the updated a_t among all arms is 146\n",
      "the updated a_t among all arms is 22\n",
      "the updated a_t among all arms is 64\n",
      "the updated a_t among all arms is 285\n",
      "the updated a_t among all arms is 194\n",
      "the updated a_t among all arms is 272\n",
      "the updated a_t among all arms is 204\n",
      "the updated a_t among all arms is 205\n",
      "the updated a_t among all arms is 236\n",
      "the updated a_t among all arms is 65\n",
      "the updated a_t among all arms is 284\n",
      "the updated a_t among all arms is 61\n",
      "the updated a_t among all arms is 239\n",
      "the updated a_t among all arms is 147\n",
      "the updated a_t among all arms is 98\n",
      "the updated a_t among all arms is 235\n",
      "the updated a_t among all arms is 76\n",
      "the updated a_t among all arms is 37\n",
      "the updated a_t among all arms is 113\n",
      "the updated a_t among all arms is 42\n",
      "the updated a_t among all arms is 206\n",
      "the updated a_t among all arms is 2\n",
      "the updated a_t among all arms is 261\n",
      "the updated a_t among all arms is 127\n",
      "the updated a_t among all arms is 33\n",
      "the updated a_t among all arms is 160\n",
      "the updated a_t among all arms is 288\n",
      "the updated a_t among all arms is 264\n",
      "the updated a_t among all arms is 233\n",
      "the updated a_t among all arms is 8\n",
      "the updated a_t among all arms is 19\n",
      "the updated a_t among all arms is 304\n",
      "the updated a_t among all arms is 99\n",
      "the updated a_t among all arms is 161\n",
      "the updated a_t among all arms is 1\n",
      "the updated a_t among all arms is 85\n",
      "the updated a_t among all arms is 210\n",
      "the updated a_t among all arms is 137\n",
      "the updated a_t among all arms is 257\n",
      "the updated a_t among all arms is 123\n",
      "the updated a_t among all arms is 243\n",
      "the updated a_t among all arms is 79\n",
      "the updated a_t among all arms is 215\n",
      "the updated a_t among all arms is 156\n",
      "the updated a_t among all arms is 168\n",
      "the updated a_t among all arms is 200\n",
      "the updated a_t among all arms is 195\n",
      "the updated a_t among all arms is 254\n",
      "the updated a_t among all arms is 227\n",
      "the updated a_t among all arms is 94\n",
      "the updated a_t among all arms is 159\n",
      "the updated a_t among all arms is 169\n",
      "the updated a_t among all arms is 107\n",
      "the updated a_t among all arms is 57\n",
      "the updated a_t among all arms is 212\n",
      "the updated a_t among all arms is 256\n",
      "the updated a_t among all arms is 62\n",
      "the updated a_t among all arms is 172\n",
      "the updated a_t among all arms is 232\n",
      "the updated a_t among all arms is 96\n",
      "the updated a_t among all arms is 9\n",
      "the updated a_t among all arms is 51\n",
      "the updated a_t among all arms is 46\n",
      "the updated a_t among all arms is 26\n",
      "the updated a_t among all arms is 226\n",
      "the updated a_t among all arms is 90\n",
      "the updated a_t among all arms is 224\n",
      "the updated a_t among all arms is 144\n",
      "the updated a_t among all arms is 293\n",
      "the updated a_t among all arms is 66\n",
      "the updated a_t among all arms is 116\n",
      "the updated a_t among all arms is 54\n",
      "the updated a_t among all arms is 252\n",
      "the updated a_t among all arms is 32\n",
      "the updated a_t among all arms is 315\n",
      "the updated a_t among all arms is 80\n",
      "the updated a_t among all arms is 10\n",
      "the updated a_t among all arms is 173\n",
      "the updated a_t among all arms is 311\n",
      "the updated a_t among all arms is 221\n",
      "the updated a_t among all arms is 141\n",
      "the updated a_t among all arms is 183\n",
      "the updated a_t among all arms is 88\n",
      "the updated a_t among all arms is 14\n",
      "the updated a_t among all arms is 118\n",
      "the updated a_t among all arms is 317\n",
      "the updated a_t among all arms is 176\n",
      "the updated a_t among all arms is 305\n",
      "the updated a_t among all arms is 296\n",
      "the updated a_t among all arms is 308\n",
      "the updated a_t among all arms is 202\n",
      "the updated a_t among all arms is 222\n",
      "the updated a_t among all arms is 134\n",
      "the updated a_t among all arms is 87\n",
      "the updated a_t among all arms is 157\n",
      "the updated a_t among all arms is 83\n",
      "the updated a_t among all arms is 184\n",
      "the updated a_t among all arms is 199\n",
      "the updated a_t among all arms is 133\n",
      "the updated a_t among all arms is 171\n",
      "the updated a_t among all arms is 30\n",
      "the updated a_t among all arms is 35\n",
      "the updated a_t among all arms is 145\n",
      "the updated a_t among all arms is 70\n",
      "the updated a_t among all arms is 247\n",
      "the updated a_t among all arms is 274\n",
      "the updated a_t among all arms is 21\n",
      "the updated a_t among all arms is 122\n",
      "the updated a_t among all arms is 68\n",
      "the updated a_t among all arms is 143\n",
      "the updated a_t among all arms is 95\n",
      "the updated a_t among all arms is 130\n",
      "the updated a_t among all arms is 53\n",
      "the updated a_t among all arms is 131\n",
      "the updated a_t among all arms is 158\n",
      "the updated a_t among all arms is 269\n",
      "the updated a_t among all arms is 198\n",
      "the updated a_t among all arms is 128\n",
      "the updated a_t among all arms is 72\n",
      "the updated a_t among all arms is 301\n",
      "the updated a_t among all arms is 140\n",
      "the updated a_t among all arms is 223\n",
      "the updated a_t among all arms is 295\n",
      "the updated a_t among all arms is 178\n",
      "the updated a_t among all arms is 3\n",
      "the updated a_t among all arms is 216\n",
      "the updated a_t among all arms is 132\n",
      "the updated a_t among all arms is 279\n",
      "the updated a_t among all arms is 165\n",
      "the updated a_t among all arms is 49\n",
      "the updated a_t among all arms is 12\n",
      "the updated a_t among all arms is 73\n",
      "the updated a_t among all arms is 93\n",
      "the updated a_t among all arms is 170\n",
      "the updated a_t among all arms is 60\n",
      "the updated a_t among all arms is 126\n",
      "the updated a_t among all arms is 271\n",
      "Finished epoch 0/1 with avg reward 0.19999999999999998, auc score 0.49564313808011096 in 249.23522567749023s\n"
     ]
    }
   ],
   "source": [
    "# recommending page to query (30 queries)\n",
    "avg_reward, auc_scores  = ucb.run(num_epochs=1)"
   ]
  },
  {
   "cell_type": "code",
   "execution_count": 5,
   "metadata": {},
   "outputs": [
    {
     "data": {
      "text/plain": [
       "<matplotlib.legend.Legend at 0x7f8cd45ccb10>"
      ]
     },
     "execution_count": 5,
     "metadata": {},
     "output_type": "execute_result"
    },
    {
     "data": {
      "image/png": "[encoded data removed]",
      "text/plain": [
       "<Figure size 504x360 with 1 Axes>"
      ]
     },
     "metadata": {
      "needs_background": "light"
     },
     "output_type": "display_data"
    }
   ],
   "source": [
    "from matplotlib.pylab import rcParams\n",
    "rcParams['figure.figsize'] = 7, 5\n",
    "plt.plot(range(len(avg_reward)), avg_reward, label='avg rewards')\n",
    "plt.plot(range(len(avg_reward)), auc_scores, label='auc score')\n",
    "plt.ylabel('average reward in epoch')\n",
    "plt.ylim(0, 1)\n",
    "plt.xlabel('epoch (1 epoch = recommended to all queries)')\n",
    "plt.title('LinUCB: Fixed rewards')\n",
    "plt.legend()"
   ]
  },
  {
   "cell_type": "code",
   "execution_count": 12,
   "metadata": {},
   "outputs": [
    {
     "data": {
      "text/plain": [
       "array([ 1,  2,  3,  4,  5,  6,  7,  8, 10, 14, 15, 16, 17, 19, 20, 21, 22,\n",
       "       23, 25, 26, 27, 28, 29, 30, 31, 32, 33, 34, 35, 36, 37, 38, 39, 40,\n",
       "       41, 42, 43, 44, 45, 46, 47, 48, 50, 51, 52, 53, 54, 55, 56, 57, 58,\n",
       "       59, 60, 61, 62, 63, 64, 65, 66, 67, 68, 69, 70, 71, 72, 73, 74, 75,\n",
       "       76, 77, 79, 80, 81, 83, 84, 85, 86, 87, 88, 89, 90, 91, 92, 93, 94,\n",
       "       95, 96, 97, 98])"
      ]
     },
     "execution_count": 12,
     "metadata": {},
     "output_type": "execute_result"
    }
   ],
   "source": [
    "ucb.dataset.get_uknown_items_of_user(1)"
   ]
  },
  {
   "cell_type": "code",
   "execution_count": 13,
   "metadata": {},
   "outputs": [
    {
     "data": {
      "text/plain": [
       "array([[[ 1.,  0.,  0., ...,  0.,  0.,  0.],\n",
       "        [ 0.,  1.,  0., ...,  0.,  0.,  0.],\n",
       "        [ 0.,  0.,  1., ...,  0.,  0.,  0.],\n",
       "        ...,\n",
       "        [ 0.,  0.,  0., ...,  1.,  0.,  0.],\n",
       "        [ 0.,  0.,  0., ...,  0.,  1.,  0.],\n",
       "        [ 0.,  0.,  0., ...,  0.,  0.,  1.]],\n",
       "\n",
       "       [[ 1.,  0.,  0., ...,  0.,  0.,  0.],\n",
       "        [ 0.,  2.,  0., ..., -1.,  0.,  0.],\n",
       "        [ 0.,  0.,  1., ...,  0.,  0.,  0.],\n",
       "        ...,\n",
       "        [ 0., -1.,  0., ...,  2.,  0.,  0.],\n",
       "        [ 0.,  0.,  0., ...,  0.,  1.,  0.],\n",
       "        [ 0.,  0.,  0., ...,  0.,  0.,  1.]],\n",
       "\n",
       "       [[ 1.,  0.,  0., ...,  0.,  0.,  0.],\n",
       "        [ 0.,  1.,  0., ...,  0.,  0.,  0.],\n",
       "        [ 0.,  0.,  1., ...,  0.,  0.,  0.],\n",
       "        ...,\n",
       "        [ 0.,  0.,  0., ...,  1.,  0.,  0.],\n",
       "        [ 0.,  0.,  0., ...,  0.,  1.,  0.],\n",
       "        [ 0.,  0.,  0., ...,  0.,  0.,  1.]],\n",
       "\n",
       "       ...,\n",
       "\n",
       "       [[ 1.,  0.,  0., ...,  0.,  0.,  0.],\n",
       "        [ 0.,  1.,  0., ...,  0.,  0.,  0.],\n",
       "        [ 0.,  0.,  1., ...,  0.,  0.,  0.],\n",
       "        ...,\n",
       "        [ 0.,  0.,  0., ...,  1.,  0.,  0.],\n",
       "        [ 0.,  0.,  0., ...,  0.,  1.,  0.],\n",
       "        [ 0.,  0.,  0., ...,  0.,  0.,  1.]],\n",
       "\n",
       "       [[ 1.,  0.,  0., ...,  0.,  0.,  0.],\n",
       "        [ 0.,  1.,  0., ...,  0.,  0.,  0.],\n",
       "        [ 0.,  0.,  1., ...,  0.,  0.,  0.],\n",
       "        ...,\n",
       "        [ 0.,  0.,  0., ...,  1.,  0.,  0.],\n",
       "        [ 0.,  0.,  0., ...,  0.,  1.,  0.],\n",
       "        [ 0.,  0.,  0., ...,  0.,  0.,  1.]],\n",
       "\n",
       "       [[12.,  1.,  1., ...,  3.,  0.,  0.],\n",
       "        [ 1.,  5.,  0., ..., -4.,  0.,  0.],\n",
       "        [ 1.,  0.,  4., ..., -1.,  0.,  0.],\n",
       "        ...,\n",
       "        [ 3., -4., -1., ..., 31.,  0.,  0.],\n",
       "        [ 0.,  0.,  0., ...,  0.,  1.,  0.],\n",
       "        [ 0.,  0.,  0., ...,  0.,  0.,  1.]]])"
      ]
     },
     "execution_count": 13,
     "metadata": {},
     "output_type": "execute_result"
    }
   ],
   "source": [
    "ucb.A"
   ]
  },
  {
   "cell_type": "code",
   "execution_count": 3,
   "metadata": {},
   "outputs": [],
   "source": []
  },
  {
   "cell_type": "code",
   "execution_count": 4,
   "metadata": {},
   "outputs": [
    {
     "data": {
      "text/plain": [
       "array([[ 0.,  1.,  1., ...,  0.,  0.,  0.],\n",
       "       [ 1.,  0.,  1., ...,  1.,  0.,  0.],\n",
       "       [ 2.,  1.,  1., ...,  1.,  0.,  0.],\n",
       "       ...,\n",
       "       [97.,  1.,  1., ...,  1.,  0.,  0.],\n",
       "       [98.,  0.,  1., ...,  0.,  0.,  0.],\n",
       "       [99.,  1.,  1., ...,  1.,  0.,  0.]])"
      ]
     },
     "execution_count": 4,
     "metadata": {},
     "output_type": "execute_result"
    }
   ],
   "source": [
    "dataarray"
   ]
  },
  {
   "cell_type": "code",
   "execution_count": 17,
   "metadata": {},
   "outputs": [
    {
     "name": "stdout",
     "output_type": "stream",
     "text": [
      "[-0.04802414 -0.01838442  0.01458927 -0.00367106 -0.02371749]\n"
     ]
    }
   ],
   "source": [
    "import pickle\n",
    "from sklearn.decomposition import PCA\n",
    "\n",
    "url_features = pickle.load(open('data/infowave_25_1stintent_title.pkl','rb'))\n",
    "all_features = np.concatenate([v for k,v in url_features.items()], 0)\n",
    "pca = PCA(n_components=5)\n",
    "pca.fit_transform(all_features)\n",
    "print(pca.components_[:,0])"
   ]
  },
  {
   "cell_type": "code",
   "execution_count": 14,
   "metadata": {},
   "outputs": [
    {
     "data": {
      "text/plain": [
       "(25, 768)"
      ]
     },
     "execution_count": 14,
     "metadata": {},
     "output_type": "execute_result"
    }
   ],
   "source": [
    "np.concatenate([v for k,v in url_features.items()], 0).shape\n"
   ]
  },
  {
   "cell_type": "code",
   "execution_count": 8,
   "metadata": {},
   "outputs": [
    {
     "ename": "AttributeError",
     "evalue": "'dict_values' object has no attribute 'shape'",
     "output_type": "error",
     "traceback": [
      "\u001b[0;31m---------------------------------------------------------------------------\u001b[0m",
      "\u001b[0;31mAttributeError\u001b[0m                            Traceback (most recent call last)",
      "\u001b[0;32m<ipython-input-8-6fc0f94d5f0e>\u001b[0m in \u001b[0;36m<module>\u001b[0;34m\u001b[0m\n\u001b[0;32m----> 1\u001b[0;31m \u001b[0murl_features\u001b[0m\u001b[0;34m.\u001b[0m\u001b[0mvalues\u001b[0m\u001b[0;34m(\u001b[0m\u001b[0;34m)\u001b[0m\u001b[0;34m.\u001b[0m\u001b[0mshape\u001b[0m\u001b[0;34m\u001b[0m\u001b[0;34m\u001b[0m\u001b[0m\n\u001b[0m",
      "\u001b[0;31mAttributeError\u001b[0m: 'dict_values' object has no attribute 'shape'"
     ]
    }
   ],
   "source": [
    "url_features.values().shape"
   ]
  },
  {
   "cell_type": "code",
   "execution_count": 4,
   "metadata": {},
   "outputs": [],
   "source": [
    "import pickle\n"
   ]
  },
  {
   "cell_type": "code",
   "execution_count": 11,
   "metadata": {},
   "outputs": [
    {
     "data": {
      "text/plain": [
       "(1, 768)"
      ]
     },
     "execution_count": 11,
     "metadata": {},
     "output_type": "execute_result"
    }
   ],
   "source": [
    "a = question_features['3 Rollovers, 1 was Roth but went into a pretax account. How to fix?']\n",
    "a.shape"
   ]
  },
  {
   "cell_type": "code",
   "execution_count": 2,
   "metadata": {},
   "outputs": [],
   "source": [
    "\n",
    "\n"
   ]
  },
  {
   "cell_type": "code",
   "execution_count": 3,
   "metadata": {},
   "outputs": [],
   "source": [
    "\n",
    "        "
   ]
  },
  {
   "cell_type": "code",
   "execution_count": 4,
   "metadata": {},
   "outputs": [
    {
     "data": {
      "text/plain": [
       "{0: 0,\n",
       " 1: 1,\n",
       " 2: 2,\n",
       " 3: 3,\n",
       " 4: 4,\n",
       " 5: 5,\n",
       " 6: 6,\n",
       " 7: 7,\n",
       " 8: 8,\n",
       " 9: 9,\n",
       " 10: 10,\n",
       " 11: 11,\n",
       " 12: 12,\n",
       " 13: 13,\n",
       " 14: 14,\n",
       " 15: 15,\n",
       " 16: 16,\n",
       " 17: 17,\n",
       " 18: 18,\n",
       " 19: 19,\n",
       " 20: 20,\n",
       " 21: 21,\n",
       " 22: 22,\n",
       " 23: 23,\n",
       " 24: 24,\n",
       " 25: 25,\n",
       " 26: 26,\n",
       " 27: 27,\n",
       " 28: 28,\n",
       " 29: 29,\n",
       " 30: 30,\n",
       " 31: 31,\n",
       " 32: 32,\n",
       " 33: 33,\n",
       " 34: 34,\n",
       " 35: 35,\n",
       " 36: 36,\n",
       " 37: 37,\n",
       " 38: 38,\n",
       " 39: 39,\n",
       " 40: 40,\n",
       " 41: 41,\n",
       " 42: 42,\n",
       " 43: 43,\n",
       " 44: 44,\n",
       " 45: 45,\n",
       " 46: 46,\n",
       " 47: 47,\n",
       " 48: 48,\n",
       " 49: 49,\n",
       " 50: 50,\n",
       " 51: 51,\n",
       " 52: 52,\n",
       " 53: 53,\n",
       " 54: 54,\n",
       " 55: 55,\n",
       " 57: 56,\n",
       " 62: 57,\n",
       " 65: 58,\n",
       " 68: 59,\n",
       " 71: 60,\n",
       " 72: 61,\n",
       " 78: 62,\n",
       " 79: 63,\n",
       " 126: 64,\n",
       " 129: 65,\n",
       " 132: 66,\n",
       " 135: 67,\n",
       " 137: 68,\n",
       " 142: 69,\n",
       " 143: 70,\n",
       " 145: 71,\n",
       " 150: 72,\n",
       " 152: 73,\n",
       " 153: 74,\n",
       " 159: 75,\n",
       " 160: 76,\n",
       " 162: 77,\n",
       " 190: 78,\n",
       " 192: 79,\n",
       " 197: 80,\n",
       " 328: 81,\n",
       " 408: 82,\n",
       " 409: 83,\n",
       " 410: 84,\n",
       " 412: 85,\n",
       " 413: 86,\n",
       " 414: 87,\n",
       " 417: 88,\n",
       " 418: 89,\n",
       " 420: 90,\n",
       " 422: 91,\n",
       " 423: 92,\n",
       " 426: 93,\n",
       " 427: 94,\n",
       " 428: 95,\n",
       " 435: 96,\n",
       " 437: 97,\n",
       " 440: 98,\n",
       " 441: 99,\n",
       " 443: 100,\n",
       " 541: 101,\n",
       " 549: 102,\n",
       " 551: 103,\n",
       " 552: 104,\n",
       " 553: 105,\n",
       " 554: 106,\n",
       " 560: 107,\n",
       " 563: 108,\n",
       " 564: 109,\n",
       " 566: 110,\n",
       " 569: 111,\n",
       " 570: 112,\n",
       " 571: 113,\n",
       " 574: 114,\n",
       " 576: 115,\n",
       " 582: 116,\n",
       " 601: 117,\n",
       " 602: 118,\n",
       " 604: 119,\n",
       " 661: 120,\n",
       " 697: 121,\n",
       " 746: 122,\n",
       " 752: 123,\n",
       " 770: 124,\n",
       " 792: 125,\n",
       " 798: 126,\n",
       " 800: 127,\n",
       " 801: 128,\n",
       " 802: 129,\n",
       " 805: 130,\n",
       " 806: 131,\n",
       " 812: 132,\n",
       " 814: 133,\n",
       " 823: 134,\n",
       " 825: 135,\n",
       " 826: 136,\n",
       " 828: 137,\n",
       " 829: 138,\n",
       " 830: 139,\n",
       " 831: 140,\n",
       " 833: 141,\n",
       " 841: 142,\n",
       " 844: 143,\n",
       " 854: 144,\n",
       " 856: 145,\n",
       " 861: 146,\n",
       " 898: 147}"
      ]
     },
     "execution_count": 4,
     "metadata": {},
     "output_type": "execute_result"
    }
   ],
   "source": [
    "dict_q_mapping"
   ]
  },
  {
   "cell_type": "code",
   "execution_count": null,
   "metadata": {},
   "outputs": [],
   "source": []
  }
 ],
 "metadata": {
  "kernelspec": {
   "display_name": "Python 3",
   "language": "python",
   "name": "python3"
  },
  "language_info": {
   "codemirror_mode": {
    "name": "ipython",
    "version": 3
   },
   "file_extension": ".py",
   "mimetype": "text/x-python",
   "name": "python",
   "nbconvert_exporter": "python",
   "pygments_lexer": "ipython3",
   "version": "3.7.5"
  }
 },
 "nbformat": 4,
 "nbformat_minor": 4
}
